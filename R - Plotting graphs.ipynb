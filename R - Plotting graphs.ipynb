{
 "cells": [
  {
   "cell_type": "code",
   "execution_count": 5,
   "metadata": {},
   "outputs": [],
   "source": [
    "x <- rnorm(50)"
   ]
  },
  {
   "cell_type": "code",
   "execution_count": 6,
   "metadata": {},
   "outputs": [],
   "source": [
    "y <- rnorm(50)"
   ]
  },
  {
   "cell_type": "code",
   "execution_count": 7,
   "metadata": {},
   "outputs": [
    {
     "data": {
      "image/png": "[encoded data removed]",
      "text/plain": [
       "plot without title"
      ]
     },
     "metadata": {},
     "output_type": "display_data"
    }
   ],
   "source": [
    "plot(x,y)"
   ]
  },
  {
   "cell_type": "code",
   "execution_count": 8,
   "metadata": {
    "collapsed": true
   },
   "outputs": [],
   "source": [
    "data(cars)"
   ]
  },
  {
   "cell_type": "code",
   "execution_count": 11,
   "metadata": {},
   "outputs": [
    {
     "data": {
      "text/html": [
       "<table>\n",
       "<thead><tr><th scope=col>speed</th><th scope=col>dist</th></tr></thead>\n",
       "<tbody>\n",
       "\t<tr><td> 4 </td><td>  2</td></tr>\n",
       "\t<tr><td> 4 </td><td> 10</td></tr>\n",
       "\t<tr><td> 7 </td><td>  4</td></tr>\n",
       "\t<tr><td> 7 </td><td> 22</td></tr>\n",
       "\t<tr><td> 8 </td><td> 16</td></tr>\n",
       "\t<tr><td> 9 </td><td> 10</td></tr>\n",
       "\t<tr><td>10 </td><td> 18</td></tr>\n",
       "\t<tr><td>10 </td><td> 26</td></tr>\n",
       "\t<tr><td>10 </td><td> 34</td></tr>\n",
       "\t<tr><td>11 </td><td> 17</td></tr>\n",
       "\t<tr><td>11 </td><td> 28</td></tr>\n",
       "\t<tr><td>12 </td><td> 14</td></tr>\n",
       "\t<tr><td>12 </td><td> 20</td></tr>\n",
       "\t<tr><td>12 </td><td> 24</td></tr>\n",
       "\t<tr><td>12 </td><td> 28</td></tr>\n",
       "\t<tr><td>13 </td><td> 26</td></tr>\n",
       "\t<tr><td>13 </td><td> 34</td></tr>\n",
       "\t<tr><td>13 </td><td> 34</td></tr>\n",
       "\t<tr><td>13 </td><td> 46</td></tr>\n",
       "\t<tr><td>14 </td><td> 26</td></tr>\n",
       "\t<tr><td>14 </td><td> 36</td></tr>\n",
       "\t<tr><td>14 </td><td> 60</td></tr>\n",
       "\t<tr><td>14 </td><td> 80</td></tr>\n",
       "\t<tr><td>15 </td><td> 20</td></tr>\n",
       "\t<tr><td>15 </td><td> 26</td></tr>\n",
       "\t<tr><td>15 </td><td> 54</td></tr>\n",
       "\t<tr><td>16 </td><td> 32</td></tr>\n",
       "\t<tr><td>16 </td><td> 40</td></tr>\n",
       "\t<tr><td>17 </td><td> 32</td></tr>\n",
       "\t<tr><td>17 </td><td> 40</td></tr>\n",
       "\t<tr><td>17 </td><td> 50</td></tr>\n",
       "\t<tr><td>18 </td><td> 42</td></tr>\n",
       "\t<tr><td>18 </td><td> 56</td></tr>\n",
       "\t<tr><td>18 </td><td> 76</td></tr>\n",
       "\t<tr><td>18 </td><td> 84</td></tr>\n",
       "\t<tr><td>19 </td><td> 36</td></tr>\n",
       "\t<tr><td>19 </td><td> 46</td></tr>\n",
       "\t<tr><td>19 </td><td> 68</td></tr>\n",
       "\t<tr><td>20 </td><td> 32</td></tr>\n",
       "\t<tr><td>20 </td><td> 48</td></tr>\n",
       "\t<tr><td>20 </td><td> 52</td></tr>\n",
       "\t<tr><td>20 </td><td> 56</td></tr>\n",
       "\t<tr><td>20 </td><td> 64</td></tr>\n",
       "\t<tr><td>22 </td><td> 66</td></tr>\n",
       "\t<tr><td>23 </td><td> 54</td></tr>\n",
       "\t<tr><td>24 </td><td> 70</td></tr>\n",
       "\t<tr><td>24 </td><td> 92</td></tr>\n",
       "\t<tr><td>24 </td><td> 93</td></tr>\n",
       "\t<tr><td>24 </td><td>120</td></tr>\n",
       "\t<tr><td>25 </td><td> 85</td></tr>\n",
       "</tbody>\n",
       "</table>\n"
      ],
      "text/latex": [
       "\\begin{tabular}{r|ll}\n",
       " speed & dist\\\\\n",
       "\\hline\n",
       "\t  4  &   2\\\\\n",
       "\t  4  &  10\\\\\n",
       "\t  7  &   4\\\\\n",
       "\t  7  &  22\\\\\n",
       "\t  8  &  16\\\\\n",
       "\t  9  &  10\\\\\n",
       "\t 10  &  18\\\\\n",
       "\t 10  &  26\\\\\n",
       "\t 10  &  34\\\\\n",
       "\t 11  &  17\\\\\n",
       "\t 11  &  28\\\\\n",
       "\t 12  &  14\\\\\n",
       "\t 12  &  20\\\\\n",
       "\t 12  &  24\\\\\n",
       "\t 12  &  28\\\\\n",
       "\t 13  &  26\\\\\n",
       "\t 13  &  34\\\\\n",
       "\t 13  &  34\\\\\n",
       "\t 13  &  46\\\\\n",
       "\t 14  &  26\\\\\n",
       "\t 14  &  36\\\\\n",
       "\t 14  &  60\\\\\n",
       "\t 14  &  80\\\\\n",
       "\t 15  &  20\\\\\n",
       "\t 15  &  26\\\\\n",
       "\t 15  &  54\\\\\n",
       "\t 16  &  32\\\\\n",
       "\t 16  &  40\\\\\n",
       "\t 17  &  32\\\\\n",
       "\t 17  &  40\\\\\n",
       "\t 17  &  50\\\\\n",
       "\t 18  &  42\\\\\n",
       "\t 18  &  56\\\\\n",
       "\t 18  &  76\\\\\n",
       "\t 18  &  84\\\\\n",
       "\t 19  &  36\\\\\n",
       "\t 19  &  46\\\\\n",
       "\t 19  &  68\\\\\n",
       "\t 20  &  32\\\\\n",
       "\t 20  &  48\\\\\n",
       "\t 20  &  52\\\\\n",
       "\t 20  &  56\\\\\n",
       "\t 20  &  64\\\\\n",
       "\t 22  &  66\\\\\n",
       "\t 23  &  54\\\\\n",
       "\t 24  &  70\\\\\n",
       "\t 24  &  92\\\\\n",
       "\t 24  &  93\\\\\n",
       "\t 24  & 120\\\\\n",
       "\t 25  &  85\\\\\n",
       "\\end{tabular}\n"
      ],
      "text/markdown": [
       "\n",
       "speed | dist | \n",
       "|---|---|---|---|---|---|---|---|---|---|---|---|---|---|---|---|---|---|---|---|---|---|---|---|---|---|---|---|---|---|---|---|---|---|---|---|---|---|---|---|---|---|---|---|---|---|---|---|---|---|\n",
       "|  4  |   2 | \n",
       "|  4  |  10 | \n",
       "|  7  |   4 | \n",
       "|  7  |  22 | \n",
       "|  8  |  16 | \n",
       "|  9  |  10 | \n",
       "| 10  |  18 | \n",
       "| 10  |  26 | \n",
       "| 10  |  34 | \n",
       "| 11  |  17 | \n",
       "| 11  |  28 | \n",
       "| 12  |  14 | \n",
       "| 12  |  20 | \n",
       "| 12  |  24 | \n",
       "| 12  |  28 | \n",
       "| 13  |  26 | \n",
       "| 13  |  34 | \n",
       "| 13  |  34 | \n",
       "| 13  |  46 | \n",
       "| 14  |  26 | \n",
       "| 14  |  36 | \n",
       "| 14  |  60 | \n",
       "| 14  |  80 | \n",
       "| 15  |  20 | \n",
       "| 15  |  26 | \n",
       "| 15  |  54 | \n",
       "| 16  |  32 | \n",
       "| 16  |  40 | \n",
       "| 17  |  32 | \n",
       "| 17  |  40 | \n",
       "| 17  |  50 | \n",
       "| 18  |  42 | \n",
       "| 18  |  56 | \n",
       "| 18  |  76 | \n",
       "| 18  |  84 | \n",
       "| 19  |  36 | \n",
       "| 19  |  46 | \n",
       "| 19  |  68 | \n",
       "| 20  |  32 | \n",
       "| 20  |  48 | \n",
       "| 20  |  52 | \n",
       "| 20  |  56 | \n",
       "| 20  |  64 | \n",
       "| 22  |  66 | \n",
       "| 23  |  54 | \n",
       "| 24  |  70 | \n",
       "| 24  |  92 | \n",
       "| 24  |  93 | \n",
       "| 24  | 120 | \n",
       "| 25  |  85 | \n",
       "\n",
       "\n"
      ],
      "text/plain": [
       "   speed dist\n",
       "1   4      2 \n",
       "2   4     10 \n",
       "3   7      4 \n",
       "4   7     22 \n",
       "5   8     16 \n",
       "6   9     10 \n",
       "7  10     18 \n",
       "8  10     26 \n",
       "9  10     34 \n",
       "10 11     17 \n",
       "11 11     28 \n",
       "12 12     14 \n",
       "13 12     20 \n",
       "14 12     24 \n",
       "15 12     28 \n",
       "16 13     26 \n",
       "17 13     34 \n",
       "18 13     34 \n",
       "19 13     46 \n",
       "20 14     26 \n",
       "21 14     36 \n",
       "22 14     60 \n",
       "23 14     80 \n",
       "24 15     20 \n",
       "25 15     26 \n",
       "26 15     54 \n",
       "27 16     32 \n",
       "28 16     40 \n",
       "29 17     32 \n",
       "30 17     40 \n",
       "31 17     50 \n",
       "32 18     42 \n",
       "33 18     56 \n",
       "34 18     76 \n",
       "35 18     84 \n",
       "36 19     36 \n",
       "37 19     46 \n",
       "38 19     68 \n",
       "39 20     32 \n",
       "40 20     48 \n",
       "41 20     52 \n",
       "42 20     56 \n",
       "43 20     64 \n",
       "44 22     66 \n",
       "45 23     54 \n",
       "46 24     70 \n",
       "47 24     92 \n",
       "48 24     93 \n",
       "49 24    120 \n",
       "50 25     85 "
      ]
     },
     "metadata": {},
     "output_type": "display_data"
    }
   ],
   "source": [
    "cars"
   ]
  },
  {
   "cell_type": "code",
   "execution_count": 16,
   "metadata": {},
   "outputs": [
    {
     "data": {
      "image/png": "[encoded data removed]",
      "text/plain": [
       "Plot with title \"Cars Data\""
      ]
     },
     "metadata": {},
     "output_type": "display_data"
    }
   ],
   "source": [
    "plot(cars$speed, cars$dist, ylab = \"Distance\",xlab = \"Speed\", main=\"Cars Data\")"
   ]
  },
  {
   "cell_type": "code",
   "execution_count": 20,
   "metadata": {},
   "outputs": [
    {
     "data": {
      "image/png": "[encoded data removed]",
      "text/plain": [
       "plot without title"
      ]
     },
     "metadata": {},
     "output_type": "display_data"
    }
   ],
   "source": [
    "plot(cars$dist ~ cars$speed, type = \"h\")"
   ]
  },
  {
   "cell_type": "code",
   "execution_count": 21,
   "metadata": {},
   "outputs": [
    {
     "data": {
      "image/png": "[encoded data removed]",
      "text/plain": [
       "Plot with title \"Histogram of cars$speed\""
      ]
     },
     "metadata": {},
     "output_type": "display_data"
    }
   ],
   "source": [
    "hist(cars$speed)"
   ]
  },
  {
   "cell_type": "code",
   "execution_count": 22,
   "metadata": {
    "collapsed": true
   },
   "outputs": [],
   "source": [
    "data(longley)"
   ]
  },
  {
   "cell_type": "code",
   "execution_count": 23,
   "metadata": {},
   "outputs": [
    {
     "data": {
      "text/html": [
       "<table>\n",
       "<thead><tr><th></th><th scope=col>GNP.deflator</th><th scope=col>GNP</th><th scope=col>Unemployed</th><th scope=col>Armed.Forces</th><th scope=col>Population</th><th scope=col>Year</th><th scope=col>Employed</th></tr></thead>\n",
       "<tbody>\n",
       "\t<tr><th scope=row>1947</th><td> 83.0  </td><td>234.289</td><td>235.6  </td><td>159.0  </td><td>107.608</td><td>1947   </td><td>60.323 </td></tr>\n",
       "\t<tr><th scope=row>1948</th><td> 88.5  </td><td>259.426</td><td>232.5  </td><td>145.6  </td><td>108.632</td><td>1948   </td><td>61.122 </td></tr>\n",
       "\t<tr><th scope=row>1949</th><td> 88.2  </td><td>258.054</td><td>368.2  </td><td>161.6  </td><td>109.773</td><td>1949   </td><td>60.171 </td></tr>\n",
       "\t<tr><th scope=row>1950</th><td> 89.5  </td><td>284.599</td><td>335.1  </td><td>165.0  </td><td>110.929</td><td>1950   </td><td>61.187 </td></tr>\n",
       "\t<tr><th scope=row>1951</th><td> 96.2  </td><td>328.975</td><td>209.9  </td><td>309.9  </td><td>112.075</td><td>1951   </td><td>63.221 </td></tr>\n",
       "\t<tr><th scope=row>1952</th><td> 98.1  </td><td>346.999</td><td>193.2  </td><td>359.4  </td><td>113.270</td><td>1952   </td><td>63.639 </td></tr>\n",
       "\t<tr><th scope=row>1953</th><td> 99.0  </td><td>365.385</td><td>187.0  </td><td>354.7  </td><td>115.094</td><td>1953   </td><td>64.989 </td></tr>\n",
       "\t<tr><th scope=row>1954</th><td>100.0  </td><td>363.112</td><td>357.8  </td><td>335.0  </td><td>116.219</td><td>1954   </td><td>63.761 </td></tr>\n",
       "\t<tr><th scope=row>1955</th><td>101.2  </td><td>397.469</td><td>290.4  </td><td>304.8  </td><td>117.388</td><td>1955   </td><td>66.019 </td></tr>\n",
       "\t<tr><th scope=row>1956</th><td>104.6  </td><td>419.180</td><td>282.2  </td><td>285.7  </td><td>118.734</td><td>1956   </td><td>67.857 </td></tr>\n",
       "\t<tr><th scope=row>1957</th><td>108.4  </td><td>442.769</td><td>293.6  </td><td>279.8  </td><td>120.445</td><td>1957   </td><td>68.169 </td></tr>\n",
       "\t<tr><th scope=row>1958</th><td>110.8  </td><td>444.546</td><td>468.1  </td><td>263.7  </td><td>121.950</td><td>1958   </td><td>66.513 </td></tr>\n",
       "\t<tr><th scope=row>1959</th><td>112.6  </td><td>482.704</td><td>381.3  </td><td>255.2  </td><td>123.366</td><td>1959   </td><td>68.655 </td></tr>\n",
       "\t<tr><th scope=row>1960</th><td>114.2  </td><td>502.601</td><td>393.1  </td><td>251.4  </td><td>125.368</td><td>1960   </td><td>69.564 </td></tr>\n",
       "\t<tr><th scope=row>1961</th><td>115.7  </td><td>518.173</td><td>480.6  </td><td>257.2  </td><td>127.852</td><td>1961   </td><td>69.331 </td></tr>\n",
       "\t<tr><th scope=row>1962</th><td>116.9  </td><td>554.894</td><td>400.7  </td><td>282.7  </td><td>130.081</td><td>1962   </td><td>70.551 </td></tr>\n",
       "</tbody>\n",
       "</table>\n"
      ],
      "text/latex": [
       "\\begin{tabular}{r|lllllll}\n",
       "  & GNP.deflator & GNP & Unemployed & Armed.Forces & Population & Year & Employed\\\\\n",
       "\\hline\n",
       "\t1947 &  83.0   & 234.289 & 235.6   & 159.0   & 107.608 & 1947    & 60.323 \\\\\n",
       "\t1948 &  88.5   & 259.426 & 232.5   & 145.6   & 108.632 & 1948    & 61.122 \\\\\n",
       "\t1949 &  88.2   & 258.054 & 368.2   & 161.6   & 109.773 & 1949    & 60.171 \\\\\n",
       "\t1950 &  89.5   & 284.599 & 335.1   & 165.0   & 110.929 & 1950    & 61.187 \\\\\n",
       "\t1951 &  96.2   & 328.975 & 209.9   & 309.9   & 112.075 & 1951    & 63.221 \\\\\n",
       "\t1952 &  98.1   & 346.999 & 193.2   & 359.4   & 113.270 & 1952    & 63.639 \\\\\n",
       "\t1953 &  99.0   & 365.385 & 187.0   & 354.7   & 115.094 & 1953    & 64.989 \\\\\n",
       "\t1954 & 100.0   & 363.112 & 357.8   & 335.0   & 116.219 & 1954    & 63.761 \\\\\n",
       "\t1955 & 101.2   & 397.469 & 290.4   & 304.8   & 117.388 & 1955    & 66.019 \\\\\n",
       "\t1956 & 104.6   & 419.180 & 282.2   & 285.7   & 118.734 & 1956    & 67.857 \\\\\n",
       "\t1957 & 108.4   & 442.769 & 293.6   & 279.8   & 120.445 & 1957    & 68.169 \\\\\n",
       "\t1958 & 110.8   & 444.546 & 468.1   & 263.7   & 121.950 & 1958    & 66.513 \\\\\n",
       "\t1959 & 112.6   & 482.704 & 381.3   & 255.2   & 123.366 & 1959    & 68.655 \\\\\n",
       "\t1960 & 114.2   & 502.601 & 393.1   & 251.4   & 125.368 & 1960    & 69.564 \\\\\n",
       "\t1961 & 115.7   & 518.173 & 480.6   & 257.2   & 127.852 & 1961    & 69.331 \\\\\n",
       "\t1962 & 116.9   & 554.894 & 400.7   & 282.7   & 130.081 & 1962    & 70.551 \\\\\n",
       "\\end{tabular}\n"
      ],
      "text/markdown": [
       "\n",
       "| <!--/--> | GNP.deflator | GNP | Unemployed | Armed.Forces | Population | Year | Employed | \n",
       "|---|---|---|---|---|---|---|---|---|---|---|---|---|---|---|---|\n",
       "| 1947 |  83.0   | 234.289 | 235.6   | 159.0   | 107.608 | 1947    | 60.323  | \n",
       "| 1948 |  88.5   | 259.426 | 232.5   | 145.6   | 108.632 | 1948    | 61.122  | \n",
       "| 1949 |  88.2   | 258.054 | 368.2   | 161.6   | 109.773 | 1949    | 60.171  | \n",
       "| 1950 |  89.5   | 284.599 | 335.1   | 165.0   | 110.929 | 1950    | 61.187  | \n",
       "| 1951 |  96.2   | 328.975 | 209.9   | 309.9   | 112.075 | 1951    | 63.221  | \n",
       "| 1952 |  98.1   | 346.999 | 193.2   | 359.4   | 113.270 | 1952    | 63.639  | \n",
       "| 1953 |  99.0   | 365.385 | 187.0   | 354.7   | 115.094 | 1953    | 64.989  | \n",
       "| 1954 | 100.0   | 363.112 | 357.8   | 335.0   | 116.219 | 1954    | 63.761  | \n",
       "| 1955 | 101.2   | 397.469 | 290.4   | 304.8   | 117.388 | 1955    | 66.019  | \n",
       "| 1956 | 104.6   | 419.180 | 282.2   | 285.7   | 118.734 | 1956    | 67.857  | \n",
       "| 1957 | 108.4   | 442.769 | 293.6   | 279.8   | 120.445 | 1957    | 68.169  | \n",
       "| 1958 | 110.8   | 444.546 | 468.1   | 263.7   | 121.950 | 1958    | 66.513  | \n",
       "| 1959 | 112.6   | 482.704 | 381.3   | 255.2   | 123.366 | 1959    | 68.655  | \n",
       "| 1960 | 114.2   | 502.601 | 393.1   | 251.4   | 125.368 | 1960    | 69.564  | \n",
       "| 1961 | 115.7   | 518.173 | 480.6   | 257.2   | 127.852 | 1961    | 69.331  | \n",
       "| 1962 | 116.9   | 554.894 | 400.7   | 282.7   | 130.081 | 1962    | 70.551  | \n",
       "\n",
       "\n"
      ],
      "text/plain": [
       "     GNP.deflator GNP     Unemployed Armed.Forces Population Year Employed\n",
       "1947  83.0        234.289 235.6      159.0        107.608    1947 60.323  \n",
       "1948  88.5        259.426 232.5      145.6        108.632    1948 61.122  \n",
       "1949  88.2        258.054 368.2      161.6        109.773    1949 60.171  \n",
       "1950  89.5        284.599 335.1      165.0        110.929    1950 61.187  \n",
       "1951  96.2        328.975 209.9      309.9        112.075    1951 63.221  \n",
       "1952  98.1        346.999 193.2      359.4        113.270    1952 63.639  \n",
       "1953  99.0        365.385 187.0      354.7        115.094    1953 64.989  \n",
       "1954 100.0        363.112 357.8      335.0        116.219    1954 63.761  \n",
       "1955 101.2        397.469 290.4      304.8        117.388    1955 66.019  \n",
       "1956 104.6        419.180 282.2      285.7        118.734    1956 67.857  \n",
       "1957 108.4        442.769 293.6      279.8        120.445    1957 68.169  \n",
       "1958 110.8        444.546 468.1      263.7        121.950    1958 66.513  \n",
       "1959 112.6        482.704 381.3      255.2        123.366    1959 68.655  \n",
       "1960 114.2        502.601 393.1      251.4        125.368    1960 69.564  \n",
       "1961 115.7        518.173 480.6      257.2        127.852    1961 69.331  \n",
       "1962 116.9        554.894 400.7      282.7        130.081    1962 70.551  "
      ]
     },
     "metadata": {},
     "output_type": "display_data"
    }
   ],
   "source": [
    "longley"
   ]
  },
  {
   "cell_type": "code",
   "execution_count": 34,
   "metadata": {},
   "outputs": [],
   "source": [
    "help(lines)"
   ]
  },
  {
   "cell_type": "code",
   "execution_count": 42,
   "metadata": {},
   "outputs": [
    {
     "data": {
      "image/png": "[encoded data removed]",
      "text/plain": [
       "plot without title"
      ]
     },
     "metadata": {},
     "output_type": "display_data"
    }
   ],
   "source": [
    "plot(longley$Unemployed ~ longley$Year)\n",
    "lines(longley$Unemployed ~ longley$Year, col = \"blue\")\n",
    "#plot(longley$Armed.Forces ~ longley$Year,col = \"red\")\n"
   ]
  },
  {
   "cell_type": "code",
   "execution_count": 46,
   "metadata": {},
   "outputs": [
    {
     "name": "stderr",
     "output_type": "stream",
     "text": [
      "Warning message:\n",
      "\"package 'ggplot2' is in use and will not be installed\""
     ]
    }
   ],
   "source": [
    "install.packages(\"ggplot2\", repos='http://cran.us.r-project.org')"
   ]
  },
  {
   "cell_type": "code",
   "execution_count": 47,
   "metadata": {},
   "outputs": [],
   "source": [
    "library(\"ggplot2\")"
   ]
  },
  {
   "cell_type": "code",
   "execution_count": 48,
   "metadata": {},
   "outputs": [
    {
     "data": {},
     "metadata": {},
     "output_type": "display_data"
    },
    {
     "data": {
      "image/png": "[encoded data removed]",
      "text/plain": [
       "plot without title"
      ]
     },
     "metadata": {},
     "output_type": "display_data"
    }
   ],
   "source": [
    "qplot(cars$speed,cars$dist)"
   ]
  },
  {
   "cell_type": "code",
   "execution_count": 49,
   "metadata": {
    "collapsed": true
   },
   "outputs": [],
   "source": [
    "data(iris)"
   ]
  },
  {
   "cell_type": "code",
   "execution_count": 50,
   "metadata": {},
   "outputs": [
    {
     "data": {
      "text/html": [
       "<table>\n",
       "<thead><tr><th scope=col>Sepal.Length</th><th scope=col>Sepal.Width</th><th scope=col>Petal.Length</th><th scope=col>Petal.Width</th><th scope=col>Species</th></tr></thead>\n",
       "<tbody>\n",
       "\t<tr><td>5.1   </td><td>3.5   </td><td>1.4   </td><td>0.2   </td><td>setosa</td></tr>\n",
       "\t<tr><td>4.9   </td><td>3.0   </td><td>1.4   </td><td>0.2   </td><td>setosa</td></tr>\n",
       "\t<tr><td>4.7   </td><td>3.2   </td><td>1.3   </td><td>0.2   </td><td>setosa</td></tr>\n",
       "\t<tr><td>4.6   </td><td>3.1   </td><td>1.5   </td><td>0.2   </td><td>setosa</td></tr>\n",
       "\t<tr><td>5.0   </td><td>3.6   </td><td>1.4   </td><td>0.2   </td><td>setosa</td></tr>\n",
       "\t<tr><td>5.4   </td><td>3.9   </td><td>1.7   </td><td>0.4   </td><td>setosa</td></tr>\n",
       "\t<tr><td>4.6   </td><td>3.4   </td><td>1.4   </td><td>0.3   </td><td>setosa</td></tr>\n",
       "\t<tr><td>5.0   </td><td>3.4   </td><td>1.5   </td><td>0.2   </td><td>setosa</td></tr>\n",
       "\t<tr><td>4.4   </td><td>2.9   </td><td>1.4   </td><td>0.2   </td><td>setosa</td></tr>\n",
       "\t<tr><td>4.9   </td><td>3.1   </td><td>1.5   </td><td>0.1   </td><td>setosa</td></tr>\n",
       "\t<tr><td>5.4   </td><td>3.7   </td><td>1.5   </td><td>0.2   </td><td>setosa</td></tr>\n",
       "\t<tr><td>4.8   </td><td>3.4   </td><td>1.6   </td><td>0.2   </td><td>setosa</td></tr>\n",
       "\t<tr><td>4.8   </td><td>3.0   </td><td>1.4   </td><td>0.1   </td><td>setosa</td></tr>\n",
       "\t<tr><td>4.3   </td><td>3.0   </td><td>1.1   </td><td>0.1   </td><td>setosa</td></tr>\n",
       "\t<tr><td>5.8   </td><td>4.0   </td><td>1.2   </td><td>0.2   </td><td>setosa</td></tr>\n",
       "\t<tr><td>5.7   </td><td>4.4   </td><td>1.5   </td><td>0.4   </td><td>setosa</td></tr>\n",
       "\t<tr><td>5.4   </td><td>3.9   </td><td>1.3   </td><td>0.4   </td><td>setosa</td></tr>\n",
       "\t<tr><td>5.1   </td><td>3.5   </td><td>1.4   </td><td>0.3   </td><td>setosa</td></tr>\n",
       "\t<tr><td>5.7   </td><td>3.8   </td><td>1.7   </td><td>0.3   </td><td>setosa</td></tr>\n",
       "\t<tr><td>5.1   </td><td>3.8   </td><td>1.5   </td><td>0.3   </td><td>setosa</td></tr>\n",
       "\t<tr><td>5.4   </td><td>3.4   </td><td>1.7   </td><td>0.2   </td><td>setosa</td></tr>\n",
       "\t<tr><td>5.1   </td><td>3.7   </td><td>1.5   </td><td>0.4   </td><td>setosa</td></tr>\n",
       "\t<tr><td>4.6   </td><td>3.6   </td><td>1.0   </td><td>0.2   </td><td>setosa</td></tr>\n",
       "\t<tr><td>5.1   </td><td>3.3   </td><td>1.7   </td><td>0.5   </td><td>setosa</td></tr>\n",
       "\t<tr><td>4.8   </td><td>3.4   </td><td>1.9   </td><td>0.2   </td><td>setosa</td></tr>\n",
       "\t<tr><td>5.0   </td><td>3.0   </td><td>1.6   </td><td>0.2   </td><td>setosa</td></tr>\n",
       "\t<tr><td>5.0   </td><td>3.4   </td><td>1.6   </td><td>0.4   </td><td>setosa</td></tr>\n",
       "\t<tr><td>5.2   </td><td>3.5   </td><td>1.5   </td><td>0.2   </td><td>setosa</td></tr>\n",
       "\t<tr><td>5.2   </td><td>3.4   </td><td>1.4   </td><td>0.2   </td><td>setosa</td></tr>\n",
       "\t<tr><td>4.7   </td><td>3.2   </td><td>1.6   </td><td>0.2   </td><td>setosa</td></tr>\n",
       "\t<tr><td>...</td><td>...</td><td>...</td><td>...</td><td>...</td></tr>\n",
       "\t<tr><td>6.9      </td><td>3.2      </td><td>5.7      </td><td>2.3      </td><td>virginica</td></tr>\n",
       "\t<tr><td>5.6      </td><td>2.8      </td><td>4.9      </td><td>2.0      </td><td>virginica</td></tr>\n",
       "\t<tr><td>7.7      </td><td>2.8      </td><td>6.7      </td><td>2.0      </td><td>virginica</td></tr>\n",
       "\t<tr><td>6.3      </td><td>2.7      </td><td>4.9      </td><td>1.8      </td><td>virginica</td></tr>\n",
       "\t<tr><td>6.7      </td><td>3.3      </td><td>5.7      </td><td>2.1      </td><td>virginica</td></tr>\n",
       "\t<tr><td>7.2      </td><td>3.2      </td><td>6.0      </td><td>1.8      </td><td>virginica</td></tr>\n",
       "\t<tr><td>6.2      </td><td>2.8      </td><td>4.8      </td><td>1.8      </td><td>virginica</td></tr>\n",
       "\t<tr><td>6.1      </td><td>3.0      </td><td>4.9      </td><td>1.8      </td><td>virginica</td></tr>\n",
       "\t<tr><td>6.4      </td><td>2.8      </td><td>5.6      </td><td>2.1      </td><td>virginica</td></tr>\n",
       "\t<tr><td>7.2      </td><td>3.0      </td><td>5.8      </td><td>1.6      </td><td>virginica</td></tr>\n",
       "\t<tr><td>7.4      </td><td>2.8      </td><td>6.1      </td><td>1.9      </td><td>virginica</td></tr>\n",
       "\t<tr><td>7.9      </td><td>3.8      </td><td>6.4      </td><td>2.0      </td><td>virginica</td></tr>\n",
       "\t<tr><td>6.4      </td><td>2.8      </td><td>5.6      </td><td>2.2      </td><td>virginica</td></tr>\n",
       "\t<tr><td>6.3      </td><td>2.8      </td><td>5.1      </td><td>1.5      </td><td>virginica</td></tr>\n",
       "\t<tr><td>6.1      </td><td>2.6      </td><td>5.6      </td><td>1.4      </td><td>virginica</td></tr>\n",
       "\t<tr><td>7.7      </td><td>3.0      </td><td>6.1      </td><td>2.3      </td><td>virginica</td></tr>\n",
       "\t<tr><td>6.3      </td><td>3.4      </td><td>5.6      </td><td>2.4      </td><td>virginica</td></tr>\n",
       "\t<tr><td>6.4      </td><td>3.1      </td><td>5.5      </td><td>1.8      </td><td>virginica</td></tr>\n",
       "\t<tr><td>6.0      </td><td>3.0      </td><td>4.8      </td><td>1.8      </td><td>virginica</td></tr>\n",
       "\t<tr><td>6.9      </td><td>3.1      </td><td>5.4      </td><td>2.1      </td><td>virginica</td></tr>\n",
       "\t<tr><td>6.7      </td><td>3.1      </td><td>5.6      </td><td>2.4      </td><td>virginica</td></tr>\n",
       "\t<tr><td>6.9      </td><td>3.1      </td><td>5.1      </td><td>2.3      </td><td>virginica</td></tr>\n",
       "\t<tr><td>5.8      </td><td>2.7      </td><td>5.1      </td><td>1.9      </td><td>virginica</td></tr>\n",
       "\t<tr><td>6.8      </td><td>3.2      </td><td>5.9      </td><td>2.3      </td><td>virginica</td></tr>\n",
       "\t<tr><td>6.7      </td><td>3.3      </td><td>5.7      </td><td>2.5      </td><td>virginica</td></tr>\n",
       "\t<tr><td>6.7      </td><td>3.0      </td><td>5.2      </td><td>2.3      </td><td>virginica</td></tr>\n",
       "\t<tr><td>6.3      </td><td>2.5      </td><td>5.0      </td><td>1.9      </td><td>virginica</td></tr>\n",
       "\t<tr><td>6.5      </td><td>3.0      </td><td>5.2      </td><td>2.0      </td><td>virginica</td></tr>\n",
       "\t<tr><td>6.2      </td><td>3.4      </td><td>5.4      </td><td>2.3      </td><td>virginica</td></tr>\n",
       "\t<tr><td>5.9      </td><td>3.0      </td><td>5.1      </td><td>1.8      </td><td>virginica</td></tr>\n",
       "</tbody>\n",
       "</table>\n"
      ],
      "text/latex": [
       "\\begin{tabular}{r|lllll}\n",
       " Sepal.Length & Sepal.Width & Petal.Length & Petal.Width & Species\\\\\n",
       "\\hline\n",
       "\t 5.1    & 3.5    & 1.4    & 0.2    & setosa\\\\\n",
       "\t 4.9    & 3.0    & 1.4    & 0.2    & setosa\\\\\n",
       "\t 4.7    & 3.2    & 1.3    & 0.2    & setosa\\\\\n",
       "\t 4.6    & 3.1    & 1.5    & 0.2    & setosa\\\\\n",
       "\t 5.0    & 3.6    & 1.4    & 0.2    & setosa\\\\\n",
       "\t 5.4    & 3.9    & 1.7    & 0.4    & setosa\\\\\n",
       "\t 4.6    & 3.4    & 1.4    & 0.3    & setosa\\\\\n",
       "\t 5.0    & 3.4    & 1.5    & 0.2    & setosa\\\\\n",
       "\t 4.4    & 2.9    & 1.4    & 0.2    & setosa\\\\\n",
       "\t 4.9    & 3.1    & 1.5    & 0.1    & setosa\\\\\n",
       "\t 5.4    & 3.7    & 1.5    & 0.2    & setosa\\\\\n",
       "\t 4.8    & 3.4    & 1.6    & 0.2    & setosa\\\\\n",
       "\t 4.8    & 3.0    & 1.4    & 0.1    & setosa\\\\\n",
       "\t 4.3    & 3.0    & 1.1    & 0.1    & setosa\\\\\n",
       "\t 5.8    & 4.0    & 1.2    & 0.2    & setosa\\\\\n",
       "\t 5.7    & 4.4    & 1.5    & 0.4    & setosa\\\\\n",
       "\t 5.4    & 3.9    & 1.3    & 0.4    & setosa\\\\\n",
       "\t 5.1    & 3.5    & 1.4    & 0.3    & setosa\\\\\n",
       "\t 5.7    & 3.8    & 1.7    & 0.3    & setosa\\\\\n",
       "\t 5.1    & 3.8    & 1.5    & 0.3    & setosa\\\\\n",
       "\t 5.4    & 3.4    & 1.7    & 0.2    & setosa\\\\\n",
       "\t 5.1    & 3.7    & 1.5    & 0.4    & setosa\\\\\n",
       "\t 4.6    & 3.6    & 1.0    & 0.2    & setosa\\\\\n",
       "\t 5.1    & 3.3    & 1.7    & 0.5    & setosa\\\\\n",
       "\t 4.8    & 3.4    & 1.9    & 0.2    & setosa\\\\\n",
       "\t 5.0    & 3.0    & 1.6    & 0.2    & setosa\\\\\n",
       "\t 5.0    & 3.4    & 1.6    & 0.4    & setosa\\\\\n",
       "\t 5.2    & 3.5    & 1.5    & 0.2    & setosa\\\\\n",
       "\t 5.2    & 3.4    & 1.4    & 0.2    & setosa\\\\\n",
       "\t 4.7    & 3.2    & 1.6    & 0.2    & setosa\\\\\n",
       "\t ... & ... & ... & ... & ...\\\\\n",
       "\t 6.9       & 3.2       & 5.7       & 2.3       & virginica\\\\\n",
       "\t 5.6       & 2.8       & 4.9       & 2.0       & virginica\\\\\n",
       "\t 7.7       & 2.8       & 6.7       & 2.0       & virginica\\\\\n",
       "\t 6.3       & 2.7       & 4.9       & 1.8       & virginica\\\\\n",
       "\t 6.7       & 3.3       & 5.7       & 2.1       & virginica\\\\\n",
       "\t 7.2       & 3.2       & 6.0       & 1.8       & virginica\\\\\n",
       "\t 6.2       & 2.8       & 4.8       & 1.8       & virginica\\\\\n",
       "\t 6.1       & 3.0       & 4.9       & 1.8       & virginica\\\\\n",
       "\t 6.4       & 2.8       & 5.6       & 2.1       & virginica\\\\\n",
       "\t 7.2       & 3.0       & 5.8       & 1.6       & virginica\\\\\n",
       "\t 7.4       & 2.8       & 6.1       & 1.9       & virginica\\\\\n",
       "\t 7.9       & 3.8       & 6.4       & 2.0       & virginica\\\\\n",
       "\t 6.4       & 2.8       & 5.6       & 2.2       & virginica\\\\\n",
       "\t 6.3       & 2.8       & 5.1       & 1.5       & virginica\\\\\n",
       "\t 6.1       & 2.6       & 5.6       & 1.4       & virginica\\\\\n",
       "\t 7.7       & 3.0       & 6.1       & 2.3       & virginica\\\\\n",
       "\t 6.3       & 3.4       & 5.6       & 2.4       & virginica\\\\\n",
       "\t 6.4       & 3.1       & 5.5       & 1.8       & virginica\\\\\n",
       "\t 6.0       & 3.0       & 4.8       & 1.8       & virginica\\\\\n",
       "\t 6.9       & 3.1       & 5.4       & 2.1       & virginica\\\\\n",
       "\t 6.7       & 3.1       & 5.6       & 2.4       & virginica\\\\\n",
       "\t 6.9       & 3.1       & 5.1       & 2.3       & virginica\\\\\n",
       "\t 5.8       & 2.7       & 5.1       & 1.9       & virginica\\\\\n",
       "\t 6.8       & 3.2       & 5.9       & 2.3       & virginica\\\\\n",
       "\t 6.7       & 3.3       & 5.7       & 2.5       & virginica\\\\\n",
       "\t 6.7       & 3.0       & 5.2       & 2.3       & virginica\\\\\n",
       "\t 6.3       & 2.5       & 5.0       & 1.9       & virginica\\\\\n",
       "\t 6.5       & 3.0       & 5.2       & 2.0       & virginica\\\\\n",
       "\t 6.2       & 3.4       & 5.4       & 2.3       & virginica\\\\\n",
       "\t 5.9       & 3.0       & 5.1       & 1.8       & virginica\\\\\n",
       "\\end{tabular}\n"
      ],
      "text/markdown": [
       "\n",
       "Sepal.Length | Sepal.Width | Petal.Length | Petal.Width | Species | \n",
       "|---|---|---|---|---|---|---|---|---|---|---|---|---|---|---|---|---|---|---|---|---|---|---|---|---|---|---|---|---|---|---|---|---|---|---|---|---|---|---|---|---|---|---|---|---|---|---|---|---|---|---|---|---|---|---|---|---|---|---|---|---|\n",
       "| 5.1    | 3.5    | 1.4    | 0.2    | setosa | \n",
       "| 4.9    | 3.0    | 1.4    | 0.2    | setosa | \n",
       "| 4.7    | 3.2    | 1.3    | 0.2    | setosa | \n",
       "| 4.6    | 3.1    | 1.5    | 0.2    | setosa | \n",
       "| 5.0    | 3.6    | 1.4    | 0.2    | setosa | \n",
       "| 5.4    | 3.9    | 1.7    | 0.4    | setosa | \n",
       "| 4.6    | 3.4    | 1.4    | 0.3    | setosa | \n",
       "| 5.0    | 3.4    | 1.5    | 0.2    | setosa | \n",
       "| 4.4    | 2.9    | 1.4    | 0.2    | setosa | \n",
       "| 4.9    | 3.1    | 1.5    | 0.1    | setosa | \n",
       "| 5.4    | 3.7    | 1.5    | 0.2    | setosa | \n",
       "| 4.8    | 3.4    | 1.6    | 0.2    | setosa | \n",
       "| 4.8    | 3.0    | 1.4    | 0.1    | setosa | \n",
       "| 4.3    | 3.0    | 1.1    | 0.1    | setosa | \n",
       "| 5.8    | 4.0    | 1.2    | 0.2    | setosa | \n",
       "| 5.7    | 4.4    | 1.5    | 0.4    | setosa | \n",
       "| 5.4    | 3.9    | 1.3    | 0.4    | setosa | \n",
       "| 5.1    | 3.5    | 1.4    | 0.3    | setosa | \n",
       "| 5.7    | 3.8    | 1.7    | 0.3    | setosa | \n",
       "| 5.1    | 3.8    | 1.5    | 0.3    | setosa | \n",
       "| 5.4    | 3.4    | 1.7    | 0.2    | setosa | \n",
       "| 5.1    | 3.7    | 1.5    | 0.4    | setosa | \n",
       "| 4.6    | 3.6    | 1.0    | 0.2    | setosa | \n",
       "| 5.1    | 3.3    | 1.7    | 0.5    | setosa | \n",
       "| 4.8    | 3.4    | 1.9    | 0.2    | setosa | \n",
       "| 5.0    | 3.0    | 1.6    | 0.2    | setosa | \n",
       "| 5.0    | 3.4    | 1.6    | 0.4    | setosa | \n",
       "| 5.2    | 3.5    | 1.5    | 0.2    | setosa | \n",
       "| 5.2    | 3.4    | 1.4    | 0.2    | setosa | \n",
       "| 4.7    | 3.2    | 1.6    | 0.2    | setosa | \n",
       "| ... | ... | ... | ... | ... | \n",
       "| 6.9       | 3.2       | 5.7       | 2.3       | virginica | \n",
       "| 5.6       | 2.8       | 4.9       | 2.0       | virginica | \n",
       "| 7.7       | 2.8       | 6.7       | 2.0       | virginica | \n",
       "| 6.3       | 2.7       | 4.9       | 1.8       | virginica | \n",
       "| 6.7       | 3.3       | 5.7       | 2.1       | virginica | \n",
       "| 7.2       | 3.2       | 6.0       | 1.8       | virginica | \n",
       "| 6.2       | 2.8       | 4.8       | 1.8       | virginica | \n",
       "| 6.1       | 3.0       | 4.9       | 1.8       | virginica | \n",
       "| 6.4       | 2.8       | 5.6       | 2.1       | virginica | \n",
       "| 7.2       | 3.0       | 5.8       | 1.6       | virginica | \n",
       "| 7.4       | 2.8       | 6.1       | 1.9       | virginica | \n",
       "| 7.9       | 3.8       | 6.4       | 2.0       | virginica | \n",
       "| 6.4       | 2.8       | 5.6       | 2.2       | virginica | \n",
       "| 6.3       | 2.8       | 5.1       | 1.5       | virginica | \n",
       "| 6.1       | 2.6       | 5.6       | 1.4       | virginica | \n",
       "| 7.7       | 3.0       | 6.1       | 2.3       | virginica | \n",
       "| 6.3       | 3.4       | 5.6       | 2.4       | virginica | \n",
       "| 6.4       | 3.1       | 5.5       | 1.8       | virginica | \n",
       "| 6.0       | 3.0       | 4.8       | 1.8       | virginica | \n",
       "| 6.9       | 3.1       | 5.4       | 2.1       | virginica | \n",
       "| 6.7       | 3.1       | 5.6       | 2.4       | virginica | \n",
       "| 6.9       | 3.1       | 5.1       | 2.3       | virginica | \n",
       "| 5.8       | 2.7       | 5.1       | 1.9       | virginica | \n",
       "| 6.8       | 3.2       | 5.9       | 2.3       | virginica | \n",
       "| 6.7       | 3.3       | 5.7       | 2.5       | virginica | \n",
       "| 6.7       | 3.0       | 5.2       | 2.3       | virginica | \n",
       "| 6.3       | 2.5       | 5.0       | 1.9       | virginica | \n",
       "| 6.5       | 3.0       | 5.2       | 2.0       | virginica | \n",
       "| 6.2       | 3.4       | 5.4       | 2.3       | virginica | \n",
       "| 5.9       | 3.0       | 5.1       | 1.8       | virginica | \n",
       "\n",
       "\n"
      ],
      "text/plain": [
       "    Sepal.Length Sepal.Width Petal.Length Petal.Width Species  \n",
       "1   5.1          3.5         1.4          0.2         setosa   \n",
       "2   4.9          3.0         1.4          0.2         setosa   \n",
       "3   4.7          3.2         1.3          0.2         setosa   \n",
       "4   4.6          3.1         1.5          0.2         setosa   \n",
       "5   5.0          3.6         1.4          0.2         setosa   \n",
       "6   5.4          3.9         1.7          0.4         setosa   \n",
       "7   4.6          3.4         1.4          0.3         setosa   \n",
       "8   5.0          3.4         1.5          0.2         setosa   \n",
       "9   4.4          2.9         1.4          0.2         setosa   \n",
       "10  4.9          3.1         1.5          0.1         setosa   \n",
       "11  5.4          3.7         1.5          0.2         setosa   \n",
       "12  4.8          3.4         1.6          0.2         setosa   \n",
       "13  4.8          3.0         1.4          0.1         setosa   \n",
       "14  4.3          3.0         1.1          0.1         setosa   \n",
       "15  5.8          4.0         1.2          0.2         setosa   \n",
       "16  5.7          4.4         1.5          0.4         setosa   \n",
       "17  5.4          3.9         1.3          0.4         setosa   \n",
       "18  5.1          3.5         1.4          0.3         setosa   \n",
       "19  5.7          3.8         1.7          0.3         setosa   \n",
       "20  5.1          3.8         1.5          0.3         setosa   \n",
       "21  5.4          3.4         1.7          0.2         setosa   \n",
       "22  5.1          3.7         1.5          0.4         setosa   \n",
       "23  4.6          3.6         1.0          0.2         setosa   \n",
       "24  5.1          3.3         1.7          0.5         setosa   \n",
       "25  4.8          3.4         1.9          0.2         setosa   \n",
       "26  5.0          3.0         1.6          0.2         setosa   \n",
       "27  5.0          3.4         1.6          0.4         setosa   \n",
       "28  5.2          3.5         1.5          0.2         setosa   \n",
       "29  5.2          3.4         1.4          0.2         setosa   \n",
       "30  4.7          3.2         1.6          0.2         setosa   \n",
       "... ...          ...         ...          ...         ...      \n",
       "121 6.9          3.2         5.7          2.3         virginica\n",
       "122 5.6          2.8         4.9          2.0         virginica\n",
       "123 7.7          2.8         6.7          2.0         virginica\n",
       "124 6.3          2.7         4.9          1.8         virginica\n",
       "125 6.7          3.3         5.7          2.1         virginica\n",
       "126 7.2          3.2         6.0          1.8         virginica\n",
       "127 6.2          2.8         4.8          1.8         virginica\n",
       "128 6.1          3.0         4.9          1.8         virginica\n",
       "129 6.4          2.8         5.6          2.1         virginica\n",
       "130 7.2          3.0         5.8          1.6         virginica\n",
       "131 7.4          2.8         6.1          1.9         virginica\n",
       "132 7.9          3.8         6.4          2.0         virginica\n",
       "133 6.4          2.8         5.6          2.2         virginica\n",
       "134 6.3          2.8         5.1          1.5         virginica\n",
       "135 6.1          2.6         5.6          1.4         virginica\n",
       "136 7.7          3.0         6.1          2.3         virginica\n",
       "137 6.3          3.4         5.6          2.4         virginica\n",
       "138 6.4          3.1         5.5          1.8         virginica\n",
       "139 6.0          3.0         4.8          1.8         virginica\n",
       "140 6.9          3.1         5.4          2.1         virginica\n",
       "141 6.7          3.1         5.6          2.4         virginica\n",
       "142 6.9          3.1         5.1          2.3         virginica\n",
       "143 5.8          2.7         5.1          1.9         virginica\n",
       "144 6.8          3.2         5.9          2.3         virginica\n",
       "145 6.7          3.3         5.7          2.5         virginica\n",
       "146 6.7          3.0         5.2          2.3         virginica\n",
       "147 6.3          2.5         5.0          1.9         virginica\n",
       "148 6.5          3.0         5.2          2.0         virginica\n",
       "149 6.2          3.4         5.4          2.3         virginica\n",
       "150 5.9          3.0         5.1          1.8         virginica"
      ]
     },
     "metadata": {},
     "output_type": "display_data"
    }
   ],
   "source": [
    "iris"
   ]
  },
  {
   "cell_type": "code",
   "execution_count": 52,
   "metadata": {},
   "outputs": [
    {
     "data": {},
     "metadata": {},
     "output_type": "display_data"
    },
    {
     "data": {
      "image/png": "[encoded data removed]",
      "text/plain": [
       "plot without title"
      ]
     },
     "metadata": {},
     "output_type": "display_data"
    }
   ],
   "source": [
    "qplot(iris$Petal.Width, iris$Petal.Length, color = iris$Species)"
   ]
  },
  {
   "cell_type": "code",
   "execution_count": 53,
   "metadata": {},
   "outputs": [
    {
     "data": {},
     "metadata": {},
     "output_type": "display_data"
    },
    {
     "data": {
      "image/png": "[encoded data removed]",
      "text/plain": [
       "plot without title"
      ]
     },
     "metadata": {},
     "output_type": "display_data"
    }
   ],
   "source": [
    "qplot(cars$speed, bins=10)"
   ]
  },
  {
   "cell_type": "code",
   "execution_count": 54,
   "metadata": {},
   "outputs": [
    {
     "data": {},
     "metadata": {},
     "output_type": "display_data"
    },
    {
     "data": {
      "image/png": "[encoded data removed]",
      "text/plain": [
       "plot without title"
      ]
     },
     "metadata": {},
     "output_type": "display_data"
    }
   ],
   "source": [
    "qplot(cars$speed, geom=\"density\")"
   ]
  },
  {
   "cell_type": "code",
   "execution_count": null,
   "metadata": {},
   "outputs": [],
   "source": []
  },
  {
   "cell_type": "code",
   "execution_count": null,
   "metadata": {
    "collapsed": true
   },
   "outputs": [],
   "source": []
  }
 ],
 "metadata": {
  "kernelspec": {
   "display_name": "R",
   "language": "R",
   "name": "ir"
  },
  "language_info": {
   "codemirror_mode": "r",
   "file_extension": ".r",
   "mimetype": "text/x-r-source",
   "name": "R",
   "pygments_lexer": "r",
   "version": "3.3.2"
  }
 },
 "nbformat": 4,
 "nbformat_minor": 2
}
