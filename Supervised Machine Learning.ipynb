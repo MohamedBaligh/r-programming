{
 "cells": [
  {
   "cell_type": "code",
   "execution_count": 6,
   "metadata": {},
   "outputs": [],
   "source": [
    "house <- read.csv('house_rental.csv.txt')"
   ]
  },
  {
   "cell_type": "code",
   "execution_count": 7,
   "metadata": {
    "collapsed": true
   },
   "outputs": [],
   "source": [
    "fit <- lm(Price ~ Sqft + Floor + TotalFloor  + Bedroom + Living.Room + Bathroom, data=house)"
   ]
  },
  {
   "cell_type": "code",
   "execution_count": 8,
   "metadata": {},
   "outputs": [
    {
     "data": {
      "text/plain": [
       "\n",
       "Call:\n",
       "lm(formula = Price ~ Sqft + Floor + TotalFloor + Bedroom + Living.Room + \n",
       "    Bathroom, data = house)\n",
       "\n",
       "Residuals:\n",
       "   Min     1Q Median     3Q    Max \n",
       "-71429 -11314  -2075   8480 104063 \n",
       "\n",
       "Coefficients:\n",
       "             Estimate Std. Error t value Pr(>|t|)    \n",
       "(Intercept)  2669.268   3665.690   0.728    0.467    \n",
       "Sqft           37.884      1.615  23.456  < 2e-16 ***\n",
       "Floor        1025.887    241.543   4.247 2.49e-05 ***\n",
       "TotalFloor    135.451    197.033   0.687    0.492    \n",
       "Bedroom     -1775.956   1079.401  -1.645    0.100    \n",
       "Living.Room -3368.837   2078.469  -1.621    0.106    \n",
       "Bathroom     2777.701   1835.922   1.513    0.131    \n",
       "---\n",
       "Signif. codes:  0 '***' 0.001 '**' 0.01 '*' 0.05 '.' 0.1 ' ' 1\n",
       "\n",
       "Residual standard error: 19560 on 638 degrees of freedom\n",
       "Multiple R-squared:  0.7015,\tAdjusted R-squared:  0.6987 \n",
       "F-statistic: 249.9 on 6 and 638 DF,  p-value: < 2.2e-16\n"
      ]
     },
     "metadata": {},
     "output_type": "display_data"
    }
   ],
   "source": [
    "summary(fit)"
   ]
  },
  {
   "cell_type": "code",
   "execution_count": 9,
   "metadata": {},
   "outputs": [
    {
     "data": {
      "text/html": [
       "<dl class=dl-horizontal>\n",
       "\t<dt>1</dt>\n",
       "\t\t<dd>45550.7478487638</dd>\n",
       "\t<dt>2</dt>\n",
       "\t\t<dd>81335.2050693074</dd>\n",
       "\t<dt>3</dt>\n",
       "\t\t<dd>44368.0093588096</dd>\n",
       "</dl>\n"
      ],
      "text/latex": [
       "\\begin{description*}\n",
       "\\item[1] 45550.7478487638\n",
       "\\item[2] 81335.2050693074\n",
       "\\item[3] 44368.0093588096\n",
       "\\end{description*}\n"
      ],
      "text/markdown": [
       "1\n",
       ":   45550.74784876382\n",
       ":   81335.20506930743\n",
       ":   44368.0093588096\n",
       "\n"
      ],
      "text/plain": [
       "       1        2        3 \n",
       "45550.75 81335.21 44368.01 "
      ]
     },
     "metadata": {},
     "output_type": "display_data"
    }
   ],
   "source": [
    "predict(fit, house[1:3,])"
   ]
  },
  {
   "cell_type": "markdown",
   "metadata": {},
   "source": [
    "#### Selecting the best-fitted regression model with stepwise regression"
   ]
  },
  {
   "cell_type": "code",
   "execution_count": 10,
   "metadata": {},
   "outputs": [
    {
     "name": "stdout",
     "output_type": "stream",
     "text": [
      "Start:  AIC=12753.77\n",
      "Price ~ Sqft + Floor + TotalFloor + Bedroom + Living.Room + Bathroom\n",
      "\n",
      "              Df  Sum of Sq        RSS   AIC\n",
      "- TotalFloor   1 1.8081e+08 2.4428e+11 12752\n",
      "<none>                      2.4410e+11 12754\n",
      "- Bathroom     1 8.7580e+08 2.4497e+11 12754\n",
      "- Living.Room  1 1.0051e+09 2.4510e+11 12754\n",
      "- Bedroom      1 1.0357e+09 2.4513e+11 12754\n",
      "- Floor        1 6.9016e+09 2.5100e+11 12770\n",
      "- Sqft         1 2.1050e+11 4.5459e+11 13153\n",
      "\n",
      "Step:  AIC=12752.25\n",
      "Price ~ Sqft + Floor + Bedroom + Living.Room + Bathroom\n",
      "\n",
      "              Df  Sum of Sq        RSS   AIC\n",
      "<none>                      2.4428e+11 12752\n",
      "- Bathroom     1 8.1619e+08 2.4509e+11 12752\n",
      "- Living.Room  1 1.0233e+09 2.4530e+11 12753\n",
      "- Bedroom      1 1.1225e+09 2.4540e+11 12753\n",
      "- Floor        1 1.1700e+10 2.5598e+11 12780\n",
      "- Sqft         1 2.3530e+11 4.7958e+11 13185\n"
     ]
    },
    {
     "data": {
      "text/plain": [
       "\n",
       "Call:\n",
       "lm(formula = Price ~ Sqft + Floor + Bedroom + Living.Room + Bathroom, \n",
       "    data = house)\n",
       "\n",
       "Coefficients:\n",
       "(Intercept)         Sqft        Floor      Bedroom  Living.Room     Bathroom  \n",
       "    3522.17        38.22      1116.95     -1841.61     -3398.44      2672.11  \n"
      ]
     },
     "metadata": {},
     "output_type": "display_data"
    }
   ],
   "source": [
    "step(fit, direction=\"backward\")"
   ]
  },
  {
   "cell_type": "markdown",
   "metadata": {},
   "source": [
    "### Applying the Gaussian model for generalized linear regression"
   ]
  },
  {
   "cell_type": "code",
   "execution_count": 11,
   "metadata": {
    "collapsed": true
   },
   "outputs": [],
   "source": [
    "glmfit <- glm(Price ~ Sqft + Floor + TotalFloor  + Bedroom + Living.Room + Bathroom, data=house, family=gaussian())"
   ]
  },
  {
   "cell_type": "code",
   "execution_count": 12,
   "metadata": {},
   "outputs": [
    {
     "data": {
      "text/html": [
       "<table>\n",
       "<thead><tr><th scope=col>Res.Df</th><th scope=col>RSS</th><th scope=col>Df</th><th scope=col>Sum of Sq</th><th scope=col>F</th><th scope=col>Pr(&gt;F)</th></tr></thead>\n",
       "<tbody>\n",
       "\t<tr><td>638          </td><td>244096157328 </td><td>NA           </td><td>           NA</td><td>NA           </td><td>NA           </td></tr>\n",
       "\t<tr><td>638          </td><td>244096157328 </td><td> 0           </td><td>-9.155273e-05</td><td>NA           </td><td>NA           </td></tr>\n",
       "</tbody>\n",
       "</table>\n"
      ],
      "text/latex": [
       "\\begin{tabular}{r|llllll}\n",
       " Res.Df & RSS & Df & Sum of Sq & F & Pr(>F)\\\\\n",
       "\\hline\n",
       "\t 638           & 244096157328  & NA            &            NA & NA            & NA           \\\\\n",
       "\t 638           & 244096157328  &  0            & -9.155273e-05 & NA            & NA           \\\\\n",
       "\\end{tabular}\n"
      ],
      "text/markdown": [
       "\n",
       "Res.Df | RSS | Df | Sum of Sq | F | Pr(>F) | \n",
       "|---|---|\n",
       "| 638           | 244096157328  | NA            |            NA | NA            | NA            | \n",
       "| 638           | 244096157328  |  0            | -9.155273e-05 | NA            | NA            | \n",
       "\n",
       "\n"
      ],
      "text/plain": [
       "  Res.Df RSS          Df Sum of Sq     F  Pr(>F)\n",
       "1 638    244096157328 NA            NA NA NA    \n",
       "2 638    244096157328  0 -9.155273e-05 NA NA    "
      ]
     },
     "metadata": {},
     "output_type": "display_data"
    }
   ],
   "source": [
    "#Comparision of two plotted models\n",
    "#Res.Df - same so, both the models are same\n",
    "anova(fit,glmfit)"
   ]
  },
  {
   "cell_type": "code",
   "execution_count": 15,
   "metadata": {},
   "outputs": [],
   "source": [
    "\n",
    "\n",
    "customer = read.csv('customer.csv', header=TRUE)"
   ]
  },
  {
   "cell_type": "code",
   "execution_count": 16,
   "metadata": {},
   "outputs": [
    {
     "data": {
      "text/html": [
       "<table>\n",
       "<thead><tr><th scope=col>CustomerID</th><th scope=col>gender</th><th scope=col>age</th><th scope=col>visit.times</th><th scope=col>buy</th></tr></thead>\n",
       "<tbody>\n",
       "\t<tr><td> 1 </td><td>F  </td><td>36 </td><td>5  </td><td>yes</td></tr>\n",
       "\t<tr><td> 2 </td><td>M  </td><td>26 </td><td>3  </td><td>no </td></tr>\n",
       "\t<tr><td> 3 </td><td>F  </td><td>21 </td><td>2  </td><td>yes</td></tr>\n",
       "\t<tr><td> 4 </td><td>F  </td><td>49 </td><td>5  </td><td>yes</td></tr>\n",
       "\t<tr><td> 5 </td><td>M  </td><td>42 </td><td>4  </td><td>no </td></tr>\n",
       "\t<tr><td> 6 </td><td>M  </td><td>49 </td><td>1  </td><td>no </td></tr>\n",
       "\t<tr><td> 7 </td><td>F  </td><td>47 </td><td>4  </td><td>yes</td></tr>\n",
       "\t<tr><td> 8 </td><td>F  </td><td>50 </td><td>1  </td><td>no </td></tr>\n",
       "\t<tr><td> 9 </td><td>M  </td><td>26 </td><td>2  </td><td>no </td></tr>\n",
       "\t<tr><td>10 </td><td>M  </td><td>40 </td><td>3  </td><td>no </td></tr>\n",
       "\t<tr><td>11 </td><td>M  </td><td>29 </td><td>5  </td><td>no </td></tr>\n",
       "\t<tr><td>12 </td><td>M  </td><td>40 </td><td>4  </td><td>no </td></tr>\n",
       "\t<tr><td>13 </td><td>F  </td><td>42 </td><td>5  </td><td>yes</td></tr>\n",
       "\t<tr><td>14 </td><td>M  </td><td>50 </td><td>4  </td><td>no </td></tr>\n",
       "\t<tr><td>15 </td><td>F  </td><td>31 </td><td>2  </td><td>yes</td></tr>\n",
       "\t<tr><td>16 </td><td>F  </td><td>45 </td><td>5  </td><td>yes</td></tr>\n",
       "\t<tr><td>17 </td><td>M  </td><td>29 </td><td>3  </td><td>no </td></tr>\n",
       "\t<tr><td>18 </td><td>F  </td><td>21 </td><td>1  </td><td>yes</td></tr>\n",
       "\t<tr><td>19 </td><td>F  </td><td>23 </td><td>4  </td><td>yes</td></tr>\n",
       "\t<tr><td>20 </td><td>M  </td><td>27 </td><td>2  </td><td>no </td></tr>\n",
       "\t<tr><td>21 </td><td>M  </td><td>23 </td><td>3  </td><td>no </td></tr>\n",
       "\t<tr><td>22 </td><td>M  </td><td>36 </td><td>3  </td><td>no </td></tr>\n",
       "\t<tr><td>23 </td><td>F  </td><td>42 </td><td>2  </td><td>no </td></tr>\n",
       "\t<tr><td>24 </td><td>F  </td><td>43 </td><td>4  </td><td>yes</td></tr>\n",
       "\t<tr><td>25 </td><td>F  </td><td>44 </td><td>5  </td><td>yes</td></tr>\n",
       "\t<tr><td>26 </td><td>F  </td><td>43 </td><td>4  </td><td>yes</td></tr>\n",
       "\t<tr><td>27 </td><td>M  </td><td>35 </td><td>3  </td><td>no </td></tr>\n",
       "\t<tr><td>28 </td><td>F  </td><td>28 </td><td>5  </td><td>yes</td></tr>\n",
       "\t<tr><td>29 </td><td>F  </td><td>34 </td><td>5  </td><td>yes</td></tr>\n",
       "\t<tr><td>30 </td><td>M  </td><td>22 </td><td>1  </td><td>no </td></tr>\n",
       "\t<tr><td>...</td><td>...</td><td>...</td><td>...</td><td>...</td></tr>\n",
       "\t<tr><td> 71</td><td>M  </td><td>47 </td><td>4  </td><td>no </td></tr>\n",
       "\t<tr><td> 72</td><td>F  </td><td>40 </td><td>5  </td><td>yes</td></tr>\n",
       "\t<tr><td> 73</td><td>F  </td><td>49 </td><td>2  </td><td>no </td></tr>\n",
       "\t<tr><td> 74</td><td>F  </td><td>47 </td><td>3  </td><td>yes</td></tr>\n",
       "\t<tr><td> 75</td><td>F  </td><td>48 </td><td>3  </td><td>yes</td></tr>\n",
       "\t<tr><td> 76</td><td>F  </td><td>42 </td><td>2  </td><td>no </td></tr>\n",
       "\t<tr><td> 77</td><td>M  </td><td>32 </td><td>4  </td><td>no </td></tr>\n",
       "\t<tr><td> 78</td><td>M  </td><td>37 </td><td>1  </td><td>no </td></tr>\n",
       "\t<tr><td> 79</td><td>F  </td><td>44 </td><td>1  </td><td>no </td></tr>\n",
       "\t<tr><td> 80</td><td>M  </td><td>24 </td><td>4  </td><td>no </td></tr>\n",
       "\t<tr><td> 81</td><td>M  </td><td>31 </td><td>1  </td><td>no </td></tr>\n",
       "\t<tr><td> 82</td><td>M  </td><td>34 </td><td>1  </td><td>no </td></tr>\n",
       "\t<tr><td> 83</td><td>M  </td><td>45 </td><td>3  </td><td>no </td></tr>\n",
       "\t<tr><td> 84</td><td>F  </td><td>47 </td><td>4  </td><td>yes</td></tr>\n",
       "\t<tr><td> 85</td><td>F  </td><td>28 </td><td>4  </td><td>yes</td></tr>\n",
       "\t<tr><td> 86</td><td>F  </td><td>47 </td><td>4  </td><td>yes</td></tr>\n",
       "\t<tr><td> 87</td><td>M  </td><td>35 </td><td>3  </td><td>no </td></tr>\n",
       "\t<tr><td> 88</td><td>F  </td><td>50 </td><td>1  </td><td>no </td></tr>\n",
       "\t<tr><td> 89</td><td>F  </td><td>21 </td><td>3  </td><td>yes</td></tr>\n",
       "\t<tr><td> 90</td><td>F  </td><td>30 </td><td>5  </td><td>yes</td></tr>\n",
       "\t<tr><td> 91</td><td>M  </td><td>32 </td><td>1  </td><td>no </td></tr>\n",
       "\t<tr><td> 92</td><td>F  </td><td>32 </td><td>1  </td><td>yes</td></tr>\n",
       "\t<tr><td> 93</td><td>M  </td><td>23 </td><td>4  </td><td>no </td></tr>\n",
       "\t<tr><td> 94</td><td>M  </td><td>31 </td><td>4  </td><td>no </td></tr>\n",
       "\t<tr><td> 95</td><td>M  </td><td>48 </td><td>4  </td><td>no </td></tr>\n",
       "\t<tr><td> 96</td><td>F  </td><td>42 </td><td>5  </td><td>yes</td></tr>\n",
       "\t<tr><td> 97</td><td>M  </td><td>44 </td><td>1  </td><td>no </td></tr>\n",
       "\t<tr><td> 98</td><td>M  </td><td>47 </td><td>3  </td><td>no </td></tr>\n",
       "\t<tr><td> 99</td><td>F  </td><td>29 </td><td>1  </td><td>yes</td></tr>\n",
       "\t<tr><td>100</td><td>F  </td><td>23 </td><td>1  </td><td>yes</td></tr>\n",
       "</tbody>\n",
       "</table>\n"
      ],
      "text/latex": [
       "\\begin{tabular}{r|lllll}\n",
       " CustomerID & gender & age & visit.times & buy\\\\\n",
       "\\hline\n",
       "\t  1  & F   & 36  & 5   & yes\\\\\n",
       "\t  2  & M   & 26  & 3   & no \\\\\n",
       "\t  3  & F   & 21  & 2   & yes\\\\\n",
       "\t  4  & F   & 49  & 5   & yes\\\\\n",
       "\t  5  & M   & 42  & 4   & no \\\\\n",
       "\t  6  & M   & 49  & 1   & no \\\\\n",
       "\t  7  & F   & 47  & 4   & yes\\\\\n",
       "\t  8  & F   & 50  & 1   & no \\\\\n",
       "\t  9  & M   & 26  & 2   & no \\\\\n",
       "\t 10  & M   & 40  & 3   & no \\\\\n",
       "\t 11  & M   & 29  & 5   & no \\\\\n",
       "\t 12  & M   & 40  & 4   & no \\\\\n",
       "\t 13  & F   & 42  & 5   & yes\\\\\n",
       "\t 14  & M   & 50  & 4   & no \\\\\n",
       "\t 15  & F   & 31  & 2   & yes\\\\\n",
       "\t 16  & F   & 45  & 5   & yes\\\\\n",
       "\t 17  & M   & 29  & 3   & no \\\\\n",
       "\t 18  & F   & 21  & 1   & yes\\\\\n",
       "\t 19  & F   & 23  & 4   & yes\\\\\n",
       "\t 20  & M   & 27  & 2   & no \\\\\n",
       "\t 21  & M   & 23  & 3   & no \\\\\n",
       "\t 22  & M   & 36  & 3   & no \\\\\n",
       "\t 23  & F   & 42  & 2   & no \\\\\n",
       "\t 24  & F   & 43  & 4   & yes\\\\\n",
       "\t 25  & F   & 44  & 5   & yes\\\\\n",
       "\t 26  & F   & 43  & 4   & yes\\\\\n",
       "\t 27  & M   & 35  & 3   & no \\\\\n",
       "\t 28  & F   & 28  & 5   & yes\\\\\n",
       "\t 29  & F   & 34  & 5   & yes\\\\\n",
       "\t 30  & M   & 22  & 1   & no \\\\\n",
       "\t ... & ... & ... & ... & ...\\\\\n",
       "\t  71 & M   & 47  & 4   & no \\\\\n",
       "\t  72 & F   & 40  & 5   & yes\\\\\n",
       "\t  73 & F   & 49  & 2   & no \\\\\n",
       "\t  74 & F   & 47  & 3   & yes\\\\\n",
       "\t  75 & F   & 48  & 3   & yes\\\\\n",
       "\t  76 & F   & 42  & 2   & no \\\\\n",
       "\t  77 & M   & 32  & 4   & no \\\\\n",
       "\t  78 & M   & 37  & 1   & no \\\\\n",
       "\t  79 & F   & 44  & 1   & no \\\\\n",
       "\t  80 & M   & 24  & 4   & no \\\\\n",
       "\t  81 & M   & 31  & 1   & no \\\\\n",
       "\t  82 & M   & 34  & 1   & no \\\\\n",
       "\t  83 & M   & 45  & 3   & no \\\\\n",
       "\t  84 & F   & 47  & 4   & yes\\\\\n",
       "\t  85 & F   & 28  & 4   & yes\\\\\n",
       "\t  86 & F   & 47  & 4   & yes\\\\\n",
       "\t  87 & M   & 35  & 3   & no \\\\\n",
       "\t  88 & F   & 50  & 1   & no \\\\\n",
       "\t  89 & F   & 21  & 3   & yes\\\\\n",
       "\t  90 & F   & 30  & 5   & yes\\\\\n",
       "\t  91 & M   & 32  & 1   & no \\\\\n",
       "\t  92 & F   & 32  & 1   & yes\\\\\n",
       "\t  93 & M   & 23  & 4   & no \\\\\n",
       "\t  94 & M   & 31  & 4   & no \\\\\n",
       "\t  95 & M   & 48  & 4   & no \\\\\n",
       "\t  96 & F   & 42  & 5   & yes\\\\\n",
       "\t  97 & M   & 44  & 1   & no \\\\\n",
       "\t  98 & M   & 47  & 3   & no \\\\\n",
       "\t  99 & F   & 29  & 1   & yes\\\\\n",
       "\t 100 & F   & 23  & 1   & yes\\\\\n",
       "\\end{tabular}\n"
      ],
      "text/markdown": [
       "\n",
       "CustomerID | gender | age | visit.times | buy | \n",
       "|---|---|---|---|---|---|---|---|---|---|---|---|---|---|---|---|---|---|---|---|---|---|---|---|---|---|---|---|---|---|---|---|---|---|---|---|---|---|---|---|---|---|---|---|---|---|---|---|---|---|---|---|---|---|---|---|---|---|---|---|---|\n",
       "|  1  | F   | 36  | 5   | yes | \n",
       "|  2  | M   | 26  | 3   | no  | \n",
       "|  3  | F   | 21  | 2   | yes | \n",
       "|  4  | F   | 49  | 5   | yes | \n",
       "|  5  | M   | 42  | 4   | no  | \n",
       "|  6  | M   | 49  | 1   | no  | \n",
       "|  7  | F   | 47  | 4   | yes | \n",
       "|  8  | F   | 50  | 1   | no  | \n",
       "|  9  | M   | 26  | 2   | no  | \n",
       "| 10  | M   | 40  | 3   | no  | \n",
       "| 11  | M   | 29  | 5   | no  | \n",
       "| 12  | M   | 40  | 4   | no  | \n",
       "| 13  | F   | 42  | 5   | yes | \n",
       "| 14  | M   | 50  | 4   | no  | \n",
       "| 15  | F   | 31  | 2   | yes | \n",
       "| 16  | F   | 45  | 5   | yes | \n",
       "| 17  | M   | 29  | 3   | no  | \n",
       "| 18  | F   | 21  | 1   | yes | \n",
       "| 19  | F   | 23  | 4   | yes | \n",
       "| 20  | M   | 27  | 2   | no  | \n",
       "| 21  | M   | 23  | 3   | no  | \n",
       "| 22  | M   | 36  | 3   | no  | \n",
       "| 23  | F   | 42  | 2   | no  | \n",
       "| 24  | F   | 43  | 4   | yes | \n",
       "| 25  | F   | 44  | 5   | yes | \n",
       "| 26  | F   | 43  | 4   | yes | \n",
       "| 27  | M   | 35  | 3   | no  | \n",
       "| 28  | F   | 28  | 5   | yes | \n",
       "| 29  | F   | 34  | 5   | yes | \n",
       "| 30  | M   | 22  | 1   | no  | \n",
       "| ... | ... | ... | ... | ... | \n",
       "|  71 | M   | 47  | 4   | no  | \n",
       "|  72 | F   | 40  | 5   | yes | \n",
       "|  73 | F   | 49  | 2   | no  | \n",
       "|  74 | F   | 47  | 3   | yes | \n",
       "|  75 | F   | 48  | 3   | yes | \n",
       "|  76 | F   | 42  | 2   | no  | \n",
       "|  77 | M   | 32  | 4   | no  | \n",
       "|  78 | M   | 37  | 1   | no  | \n",
       "|  79 | F   | 44  | 1   | no  | \n",
       "|  80 | M   | 24  | 4   | no  | \n",
       "|  81 | M   | 31  | 1   | no  | \n",
       "|  82 | M   | 34  | 1   | no  | \n",
       "|  83 | M   | 45  | 3   | no  | \n",
       "|  84 | F   | 47  | 4   | yes | \n",
       "|  85 | F   | 28  | 4   | yes | \n",
       "|  86 | F   | 47  | 4   | yes | \n",
       "|  87 | M   | 35  | 3   | no  | \n",
       "|  88 | F   | 50  | 1   | no  | \n",
       "|  89 | F   | 21  | 3   | yes | \n",
       "|  90 | F   | 30  | 5   | yes | \n",
       "|  91 | M   | 32  | 1   | no  | \n",
       "|  92 | F   | 32  | 1   | yes | \n",
       "|  93 | M   | 23  | 4   | no  | \n",
       "|  94 | M   | 31  | 4   | no  | \n",
       "|  95 | M   | 48  | 4   | no  | \n",
       "|  96 | F   | 42  | 5   | yes | \n",
       "|  97 | M   | 44  | 1   | no  | \n",
       "|  98 | M   | 47  | 3   | no  | \n",
       "|  99 | F   | 29  | 1   | yes | \n",
       "| 100 | F   | 23  | 1   | yes | \n",
       "\n",
       "\n"
      ],
      "text/plain": [
       "    CustomerID gender age visit.times buy\n",
       "1    1         F      36  5           yes\n",
       "2    2         M      26  3           no \n",
       "3    3         F      21  2           yes\n",
       "4    4         F      49  5           yes\n",
       "5    5         M      42  4           no \n",
       "6    6         M      49  1           no \n",
       "7    7         F      47  4           yes\n",
       "8    8         F      50  1           no \n",
       "9    9         M      26  2           no \n",
       "10  10         M      40  3           no \n",
       "11  11         M      29  5           no \n",
       "12  12         M      40  4           no \n",
       "13  13         F      42  5           yes\n",
       "14  14         M      50  4           no \n",
       "15  15         F      31  2           yes\n",
       "16  16         F      45  5           yes\n",
       "17  17         M      29  3           no \n",
       "18  18         F      21  1           yes\n",
       "19  19         F      23  4           yes\n",
       "20  20         M      27  2           no \n",
       "21  21         M      23  3           no \n",
       "22  22         M      36  3           no \n",
       "23  23         F      42  2           no \n",
       "24  24         F      43  4           yes\n",
       "25  25         F      44  5           yes\n",
       "26  26         F      43  4           yes\n",
       "27  27         M      35  3           no \n",
       "28  28         F      28  5           yes\n",
       "29  29         F      34  5           yes\n",
       "30  30         M      22  1           no \n",
       "... ...        ...    ... ...         ...\n",
       "71   71        M      47  4           no \n",
       "72   72        F      40  5           yes\n",
       "73   73        F      49  2           no \n",
       "74   74        F      47  3           yes\n",
       "75   75        F      48  3           yes\n",
       "76   76        F      42  2           no \n",
       "77   77        M      32  4           no \n",
       "78   78        M      37  1           no \n",
       "79   79        F      44  1           no \n",
       "80   80        M      24  4           no \n",
       "81   81        M      31  1           no \n",
       "82   82        M      34  1           no \n",
       "83   83        M      45  3           no \n",
       "84   84        F      47  4           yes\n",
       "85   85        F      28  4           yes\n",
       "86   86        F      47  4           yes\n",
       "87   87        M      35  3           no \n",
       "88   88        F      50  1           no \n",
       "89   89        F      21  3           yes\n",
       "90   90        F      30  5           yes\n",
       "91   91        M      32  1           no \n",
       "92   92        F      32  1           yes\n",
       "93   93        M      23  4           no \n",
       "94   94        M      31  4           no \n",
       "95   95        M      48  4           no \n",
       "96   96        F      42  5           yes\n",
       "97   97        M      44  1           no \n",
       "98   98        M      47  3           no \n",
       "99   99        F      29  1           yes\n",
       "100 100        F      23  1           yes"
      ]
     },
     "metadata": {},
     "output_type": "display_data"
    }
   ],
   "source": [
    "customer"
   ]
  },
  {
   "cell_type": "code",
   "execution_count": 17,
   "metadata": {},
   "outputs": [
    {
     "name": "stderr",
     "output_type": "stream",
     "text": [
      "Warning message:\n",
      "\"glm.fit: fitted probabilities numerically 0 or 1 occurred\""
     ]
    }
   ],
   "source": [
    "logitfit = glm(buy ~ visit.times + age + gender, data=customer, family=binomial(logit))"
   ]
  },
  {
   "cell_type": "code",
   "execution_count": 18,
   "metadata": {},
   "outputs": [
    {
     "data": {
      "text/plain": [
       "\n",
       "Call:\n",
       "glm(formula = buy ~ visit.times + age + gender, family = binomial(logit), \n",
       "    data = customer)\n",
       "\n",
       "Deviance Residuals: \n",
       "   Min      1Q  Median      3Q     Max  \n",
       "-1.909   0.000   0.000   0.000   1.245  \n",
       "\n",
       "Coefficients:\n",
       "             Estimate Std. Error z value Pr(>|z|)\n",
       "(Intercept)   26.5278    18.6925   1.419    0.156\n",
       "visit.times    9.7809     6.1264   1.597    0.110\n",
       "age           -1.1396     0.7592  -1.501    0.133\n",
       "genderM      -71.0222  4170.8348  -0.017    0.986\n",
       "\n",
       "(Dispersion parameter for binomial family taken to be 1)\n",
       "\n",
       "    Null deviance: 133.7496  on 99  degrees of freedom\n",
       "Residual deviance:   7.1936  on 96  degrees of freedom\n",
       "AIC: 15.194\n",
       "\n",
       "Number of Fisher Scoring iterations: 21\n"
      ]
     },
     "metadata": {},
     "output_type": "display_data"
    }
   ],
   "source": [
    "summary(logitfit)"
   ]
  },
  {
   "cell_type": "code",
   "execution_count": 19,
   "metadata": {},
   "outputs": [
    {
     "data": {
      "text/html": [
       "<table>\n",
       "<thead><tr><th scope=col>CustomerID</th><th scope=col>gender</th><th scope=col>age</th><th scope=col>visit.times</th><th scope=col>buy</th></tr></thead>\n",
       "<tbody>\n",
       "\t<tr><td> 1 </td><td>F  </td><td>36 </td><td>5  </td><td>yes</td></tr>\n",
       "\t<tr><td> 2 </td><td>M  </td><td>26 </td><td>3  </td><td>no </td></tr>\n",
       "\t<tr><td> 3 </td><td>F  </td><td>21 </td><td>2  </td><td>yes</td></tr>\n",
       "\t<tr><td> 4 </td><td>F  </td><td>49 </td><td>5  </td><td>yes</td></tr>\n",
       "\t<tr><td> 5 </td><td>M  </td><td>42 </td><td>4  </td><td>no </td></tr>\n",
       "\t<tr><td> 6 </td><td>M  </td><td>49 </td><td>1  </td><td>no </td></tr>\n",
       "\t<tr><td> 7 </td><td>F  </td><td>47 </td><td>4  </td><td>yes</td></tr>\n",
       "\t<tr><td> 8 </td><td>F  </td><td>50 </td><td>1  </td><td>no </td></tr>\n",
       "\t<tr><td> 9 </td><td>M  </td><td>26 </td><td>2  </td><td>no </td></tr>\n",
       "\t<tr><td>10 </td><td>M  </td><td>40 </td><td>3  </td><td>no </td></tr>\n",
       "\t<tr><td>11 </td><td>M  </td><td>29 </td><td>5  </td><td>no </td></tr>\n",
       "\t<tr><td>12 </td><td>M  </td><td>40 </td><td>4  </td><td>no </td></tr>\n",
       "\t<tr><td>13 </td><td>F  </td><td>42 </td><td>5  </td><td>yes</td></tr>\n",
       "\t<tr><td>14 </td><td>M  </td><td>50 </td><td>4  </td><td>no </td></tr>\n",
       "\t<tr><td>15 </td><td>F  </td><td>31 </td><td>2  </td><td>yes</td></tr>\n",
       "\t<tr><td>16 </td><td>F  </td><td>45 </td><td>5  </td><td>yes</td></tr>\n",
       "\t<tr><td>17 </td><td>M  </td><td>29 </td><td>3  </td><td>no </td></tr>\n",
       "\t<tr><td>18 </td><td>F  </td><td>21 </td><td>1  </td><td>yes</td></tr>\n",
       "\t<tr><td>19 </td><td>F  </td><td>23 </td><td>4  </td><td>yes</td></tr>\n",
       "\t<tr><td>20 </td><td>M  </td><td>27 </td><td>2  </td><td>no </td></tr>\n",
       "\t<tr><td>21 </td><td>M  </td><td>23 </td><td>3  </td><td>no </td></tr>\n",
       "\t<tr><td>22 </td><td>M  </td><td>36 </td><td>3  </td><td>no </td></tr>\n",
       "\t<tr><td>23 </td><td>F  </td><td>42 </td><td>2  </td><td>no </td></tr>\n",
       "\t<tr><td>24 </td><td>F  </td><td>43 </td><td>4  </td><td>yes</td></tr>\n",
       "\t<tr><td>25 </td><td>F  </td><td>44 </td><td>5  </td><td>yes</td></tr>\n",
       "\t<tr><td>26 </td><td>F  </td><td>43 </td><td>4  </td><td>yes</td></tr>\n",
       "\t<tr><td>27 </td><td>M  </td><td>35 </td><td>3  </td><td>no </td></tr>\n",
       "\t<tr><td>28 </td><td>F  </td><td>28 </td><td>5  </td><td>yes</td></tr>\n",
       "\t<tr><td>29 </td><td>F  </td><td>34 </td><td>5  </td><td>yes</td></tr>\n",
       "\t<tr><td>30 </td><td>M  </td><td>22 </td><td>1  </td><td>no </td></tr>\n",
       "\t<tr><td>...</td><td>...</td><td>...</td><td>...</td><td>...</td></tr>\n",
       "\t<tr><td> 71</td><td>M  </td><td>47 </td><td>4  </td><td>no </td></tr>\n",
       "\t<tr><td> 72</td><td>F  </td><td>40 </td><td>5  </td><td>yes</td></tr>\n",
       "\t<tr><td> 73</td><td>F  </td><td>49 </td><td>2  </td><td>no </td></tr>\n",
       "\t<tr><td> 74</td><td>F  </td><td>47 </td><td>3  </td><td>yes</td></tr>\n",
       "\t<tr><td> 75</td><td>F  </td><td>48 </td><td>3  </td><td>yes</td></tr>\n",
       "\t<tr><td> 76</td><td>F  </td><td>42 </td><td>2  </td><td>no </td></tr>\n",
       "\t<tr><td> 77</td><td>M  </td><td>32 </td><td>4  </td><td>no </td></tr>\n",
       "\t<tr><td> 78</td><td>M  </td><td>37 </td><td>1  </td><td>no </td></tr>\n",
       "\t<tr><td> 79</td><td>F  </td><td>44 </td><td>1  </td><td>no </td></tr>\n",
       "\t<tr><td> 80</td><td>M  </td><td>24 </td><td>4  </td><td>no </td></tr>\n",
       "\t<tr><td> 81</td><td>M  </td><td>31 </td><td>1  </td><td>no </td></tr>\n",
       "\t<tr><td> 82</td><td>M  </td><td>34 </td><td>1  </td><td>no </td></tr>\n",
       "\t<tr><td> 83</td><td>M  </td><td>45 </td><td>3  </td><td>no </td></tr>\n",
       "\t<tr><td> 84</td><td>F  </td><td>47 </td><td>4  </td><td>yes</td></tr>\n",
       "\t<tr><td> 85</td><td>F  </td><td>28 </td><td>4  </td><td>yes</td></tr>\n",
       "\t<tr><td> 86</td><td>F  </td><td>47 </td><td>4  </td><td>yes</td></tr>\n",
       "\t<tr><td> 87</td><td>M  </td><td>35 </td><td>3  </td><td>no </td></tr>\n",
       "\t<tr><td> 88</td><td>F  </td><td>50 </td><td>1  </td><td>no </td></tr>\n",
       "\t<tr><td> 89</td><td>F  </td><td>21 </td><td>3  </td><td>yes</td></tr>\n",
       "\t<tr><td> 90</td><td>F  </td><td>30 </td><td>5  </td><td>yes</td></tr>\n",
       "\t<tr><td> 91</td><td>M  </td><td>32 </td><td>1  </td><td>no </td></tr>\n",
       "\t<tr><td> 92</td><td>F  </td><td>32 </td><td>1  </td><td>yes</td></tr>\n",
       "\t<tr><td> 93</td><td>M  </td><td>23 </td><td>4  </td><td>no </td></tr>\n",
       "\t<tr><td> 94</td><td>M  </td><td>31 </td><td>4  </td><td>no </td></tr>\n",
       "\t<tr><td> 95</td><td>M  </td><td>48 </td><td>4  </td><td>no </td></tr>\n",
       "\t<tr><td> 96</td><td>F  </td><td>42 </td><td>5  </td><td>yes</td></tr>\n",
       "\t<tr><td> 97</td><td>M  </td><td>44 </td><td>1  </td><td>no </td></tr>\n",
       "\t<tr><td> 98</td><td>M  </td><td>47 </td><td>3  </td><td>no </td></tr>\n",
       "\t<tr><td> 99</td><td>F  </td><td>29 </td><td>1  </td><td>yes</td></tr>\n",
       "\t<tr><td>100</td><td>F  </td><td>23 </td><td>1  </td><td>yes</td></tr>\n",
       "</tbody>\n",
       "</table>\n"
      ],
      "text/latex": [
       "\\begin{tabular}{r|lllll}\n",
       " CustomerID & gender & age & visit.times & buy\\\\\n",
       "\\hline\n",
       "\t  1  & F   & 36  & 5   & yes\\\\\n",
       "\t  2  & M   & 26  & 3   & no \\\\\n",
       "\t  3  & F   & 21  & 2   & yes\\\\\n",
       "\t  4  & F   & 49  & 5   & yes\\\\\n",
       "\t  5  & M   & 42  & 4   & no \\\\\n",
       "\t  6  & M   & 49  & 1   & no \\\\\n",
       "\t  7  & F   & 47  & 4   & yes\\\\\n",
       "\t  8  & F   & 50  & 1   & no \\\\\n",
       "\t  9  & M   & 26  & 2   & no \\\\\n",
       "\t 10  & M   & 40  & 3   & no \\\\\n",
       "\t 11  & M   & 29  & 5   & no \\\\\n",
       "\t 12  & M   & 40  & 4   & no \\\\\n",
       "\t 13  & F   & 42  & 5   & yes\\\\\n",
       "\t 14  & M   & 50  & 4   & no \\\\\n",
       "\t 15  & F   & 31  & 2   & yes\\\\\n",
       "\t 16  & F   & 45  & 5   & yes\\\\\n",
       "\t 17  & M   & 29  & 3   & no \\\\\n",
       "\t 18  & F   & 21  & 1   & yes\\\\\n",
       "\t 19  & F   & 23  & 4   & yes\\\\\n",
       "\t 20  & M   & 27  & 2   & no \\\\\n",
       "\t 21  & M   & 23  & 3   & no \\\\\n",
       "\t 22  & M   & 36  & 3   & no \\\\\n",
       "\t 23  & F   & 42  & 2   & no \\\\\n",
       "\t 24  & F   & 43  & 4   & yes\\\\\n",
       "\t 25  & F   & 44  & 5   & yes\\\\\n",
       "\t 26  & F   & 43  & 4   & yes\\\\\n",
       "\t 27  & M   & 35  & 3   & no \\\\\n",
       "\t 28  & F   & 28  & 5   & yes\\\\\n",
       "\t 29  & F   & 34  & 5   & yes\\\\\n",
       "\t 30  & M   & 22  & 1   & no \\\\\n",
       "\t ... & ... & ... & ... & ...\\\\\n",
       "\t  71 & M   & 47  & 4   & no \\\\\n",
       "\t  72 & F   & 40  & 5   & yes\\\\\n",
       "\t  73 & F   & 49  & 2   & no \\\\\n",
       "\t  74 & F   & 47  & 3   & yes\\\\\n",
       "\t  75 & F   & 48  & 3   & yes\\\\\n",
       "\t  76 & F   & 42  & 2   & no \\\\\n",
       "\t  77 & M   & 32  & 4   & no \\\\\n",
       "\t  78 & M   & 37  & 1   & no \\\\\n",
       "\t  79 & F   & 44  & 1   & no \\\\\n",
       "\t  80 & M   & 24  & 4   & no \\\\\n",
       "\t  81 & M   & 31  & 1   & no \\\\\n",
       "\t  82 & M   & 34  & 1   & no \\\\\n",
       "\t  83 & M   & 45  & 3   & no \\\\\n",
       "\t  84 & F   & 47  & 4   & yes\\\\\n",
       "\t  85 & F   & 28  & 4   & yes\\\\\n",
       "\t  86 & F   & 47  & 4   & yes\\\\\n",
       "\t  87 & M   & 35  & 3   & no \\\\\n",
       "\t  88 & F   & 50  & 1   & no \\\\\n",
       "\t  89 & F   & 21  & 3   & yes\\\\\n",
       "\t  90 & F   & 30  & 5   & yes\\\\\n",
       "\t  91 & M   & 32  & 1   & no \\\\\n",
       "\t  92 & F   & 32  & 1   & yes\\\\\n",
       "\t  93 & M   & 23  & 4   & no \\\\\n",
       "\t  94 & M   & 31  & 4   & no \\\\\n",
       "\t  95 & M   & 48  & 4   & no \\\\\n",
       "\t  96 & F   & 42  & 5   & yes\\\\\n",
       "\t  97 & M   & 44  & 1   & no \\\\\n",
       "\t  98 & M   & 47  & 3   & no \\\\\n",
       "\t  99 & F   & 29  & 1   & yes\\\\\n",
       "\t 100 & F   & 23  & 1   & yes\\\\\n",
       "\\end{tabular}\n"
      ],
      "text/markdown": [
       "\n",
       "CustomerID | gender | age | visit.times | buy | \n",
       "|---|---|---|---|---|---|---|---|---|---|---|---|---|---|---|---|---|---|---|---|---|---|---|---|---|---|---|---|---|---|---|---|---|---|---|---|---|---|---|---|---|---|---|---|---|---|---|---|---|---|---|---|---|---|---|---|---|---|---|---|---|\n",
       "|  1  | F   | 36  | 5   | yes | \n",
       "|  2  | M   | 26  | 3   | no  | \n",
       "|  3  | F   | 21  | 2   | yes | \n",
       "|  4  | F   | 49  | 5   | yes | \n",
       "|  5  | M   | 42  | 4   | no  | \n",
       "|  6  | M   | 49  | 1   | no  | \n",
       "|  7  | F   | 47  | 4   | yes | \n",
       "|  8  | F   | 50  | 1   | no  | \n",
       "|  9  | M   | 26  | 2   | no  | \n",
       "| 10  | M   | 40  | 3   | no  | \n",
       "| 11  | M   | 29  | 5   | no  | \n",
       "| 12  | M   | 40  | 4   | no  | \n",
       "| 13  | F   | 42  | 5   | yes | \n",
       "| 14  | M   | 50  | 4   | no  | \n",
       "| 15  | F   | 31  | 2   | yes | \n",
       "| 16  | F   | 45  | 5   | yes | \n",
       "| 17  | M   | 29  | 3   | no  | \n",
       "| 18  | F   | 21  | 1   | yes | \n",
       "| 19  | F   | 23  | 4   | yes | \n",
       "| 20  | M   | 27  | 2   | no  | \n",
       "| 21  | M   | 23  | 3   | no  | \n",
       "| 22  | M   | 36  | 3   | no  | \n",
       "| 23  | F   | 42  | 2   | no  | \n",
       "| 24  | F   | 43  | 4   | yes | \n",
       "| 25  | F   | 44  | 5   | yes | \n",
       "| 26  | F   | 43  | 4   | yes | \n",
       "| 27  | M   | 35  | 3   | no  | \n",
       "| 28  | F   | 28  | 5   | yes | \n",
       "| 29  | F   | 34  | 5   | yes | \n",
       "| 30  | M   | 22  | 1   | no  | \n",
       "| ... | ... | ... | ... | ... | \n",
       "|  71 | M   | 47  | 4   | no  | \n",
       "|  72 | F   | 40  | 5   | yes | \n",
       "|  73 | F   | 49  | 2   | no  | \n",
       "|  74 | F   | 47  | 3   | yes | \n",
       "|  75 | F   | 48  | 3   | yes | \n",
       "|  76 | F   | 42  | 2   | no  | \n",
       "|  77 | M   | 32  | 4   | no  | \n",
       "|  78 | M   | 37  | 1   | no  | \n",
       "|  79 | F   | 44  | 1   | no  | \n",
       "|  80 | M   | 24  | 4   | no  | \n",
       "|  81 | M   | 31  | 1   | no  | \n",
       "|  82 | M   | 34  | 1   | no  | \n",
       "|  83 | M   | 45  | 3   | no  | \n",
       "|  84 | F   | 47  | 4   | yes | \n",
       "|  85 | F   | 28  | 4   | yes | \n",
       "|  86 | F   | 47  | 4   | yes | \n",
       "|  87 | M   | 35  | 3   | no  | \n",
       "|  88 | F   | 50  | 1   | no  | \n",
       "|  89 | F   | 21  | 3   | yes | \n",
       "|  90 | F   | 30  | 5   | yes | \n",
       "|  91 | M   | 32  | 1   | no  | \n",
       "|  92 | F   | 32  | 1   | yes | \n",
       "|  93 | M   | 23  | 4   | no  | \n",
       "|  94 | M   | 31  | 4   | no  | \n",
       "|  95 | M   | 48  | 4   | no  | \n",
       "|  96 | F   | 42  | 5   | yes | \n",
       "|  97 | M   | 44  | 1   | no  | \n",
       "|  98 | M   | 47  | 3   | no  | \n",
       "|  99 | F   | 29  | 1   | yes | \n",
       "| 100 | F   | 23  | 1   | yes | \n",
       "\n",
       "\n"
      ],
      "text/plain": [
       "    CustomerID gender age visit.times buy\n",
       "1    1         F      36  5           yes\n",
       "2    2         M      26  3           no \n",
       "3    3         F      21  2           yes\n",
       "4    4         F      49  5           yes\n",
       "5    5         M      42  4           no \n",
       "6    6         M      49  1           no \n",
       "7    7         F      47  4           yes\n",
       "8    8         F      50  1           no \n",
       "9    9         M      26  2           no \n",
       "10  10         M      40  3           no \n",
       "11  11         M      29  5           no \n",
       "12  12         M      40  4           no \n",
       "13  13         F      42  5           yes\n",
       "14  14         M      50  4           no \n",
       "15  15         F      31  2           yes\n",
       "16  16         F      45  5           yes\n",
       "17  17         M      29  3           no \n",
       "18  18         F      21  1           yes\n",
       "19  19         F      23  4           yes\n",
       "20  20         M      27  2           no \n",
       "21  21         M      23  3           no \n",
       "22  22         M      36  3           no \n",
       "23  23         F      42  2           no \n",
       "24  24         F      43  4           yes\n",
       "25  25         F      44  5           yes\n",
       "26  26         F      43  4           yes\n",
       "27  27         M      35  3           no \n",
       "28  28         F      28  5           yes\n",
       "29  29         F      34  5           yes\n",
       "30  30         M      22  1           no \n",
       "... ...        ...    ... ...         ...\n",
       "71   71        M      47  4           no \n",
       "72   72        F      40  5           yes\n",
       "73   73        F      49  2           no \n",
       "74   74        F      47  3           yes\n",
       "75   75        F      48  3           yes\n",
       "76   76        F      42  2           no \n",
       "77   77        M      32  4           no \n",
       "78   78        M      37  1           no \n",
       "79   79        F      44  1           no \n",
       "80   80        M      24  4           no \n",
       "81   81        M      31  1           no \n",
       "82   82        M      34  1           no \n",
       "83   83        M      45  3           no \n",
       "84   84        F      47  4           yes\n",
       "85   85        F      28  4           yes\n",
       "86   86        F      47  4           yes\n",
       "87   87        M      35  3           no \n",
       "88   88        F      50  1           no \n",
       "89   89        F      21  3           yes\n",
       "90   90        F      30  5           yes\n",
       "91   91        M      32  1           no \n",
       "92   92        F      32  1           yes\n",
       "93   93        M      23  4           no \n",
       "94   94        M      31  4           no \n",
       "95   95        M      48  4           no \n",
       "96   96        F      42  5           yes\n",
       "97   97        M      44  1           no \n",
       "98   98        M      47  3           no \n",
       "99   99        F      29  1           yes\n",
       "100 100        F      23  1           yes"
      ]
     },
     "metadata": {},
     "output_type": "display_data"
    }
   ],
   "source": [
    "customer"
   ]
  },
  {
   "cell_type": "code",
   "execution_count": 20,
   "metadata": {
    "collapsed": true
   },
   "outputs": [],
   "source": [
    "pr <- predict(logitfit, customer, type=\"response\")"
   ]
  },
  {
   "cell_type": "code",
   "execution_count": 21,
   "metadata": {},
   "outputs": [
    {
     "data": {
      "text/plain": [
       "     \n",
       "      no yes\n",
       "  no  60   1\n",
       "  yes  1  38"
      ]
     },
     "metadata": {},
     "output_type": "display_data"
    }
   ],
   "source": [
    "table(customer$buy, ifelse(pr > 0.5, 'yes', 'no'))"
   ]
  },
  {
   "cell_type": "code",
   "execution_count": 22,
   "metadata": {
    "collapsed": true
   },
   "outputs": [],
   "source": [
    "library(rpart)"
   ]
  },
  {
   "cell_type": "code",
   "execution_count": 23,
   "metadata": {},
   "outputs": [],
   "source": [
    "#seed - controls random number generation\n",
    "#sample - generating random numbers\n",
    "set.seed(33)\n",
    "idx <- sample(c(1,2),nrow(customer),prob = c(0.8,0.2), replace=TRUE)\n",
    "trainset <- customer[idx == 1, ]\n",
    "testset  <- customer[idx == 2, ]"
   ]
  },
  {
   "cell_type": "code",
   "execution_count": 24,
   "metadata": {},
   "outputs": [],
   "source": [
    "#rpart - to trains the learning model\n",
    "fit <- rpart(buy ~ gender + age + visit.times, data = trainset)"
   ]
  },
  {
   "cell_type": "code",
   "execution_count": 25,
   "metadata": {},
   "outputs": [
    {
     "data": {
      "image/png": "[encoded data removed]",
      "text/plain": [
       "plot without title"
      ]
     },
     "metadata": {},
     "output_type": "display_data"
    }
   ],
   "source": [
    "plotcp(fit)"
   ]
  },
  {
   "cell_type": "code",
   "execution_count": 26,
   "metadata": {
    "collapsed": true
   },
   "outputs": [],
   "source": [
    "?rpart"
   ]
  },
  {
   "cell_type": "code",
   "execution_count": 32,
   "metadata": {},
   "outputs": [
    {
     "data": {
      "image/png": "[encoded data removed]",
      "text/plain": [
       "plot without title"
      ]
     },
     "metadata": {},
     "output_type": "display_data"
    }
   ],
   "source": [
    "plot(fit, margin=0.1)\n",
    "text(fit, all=TRUE, use.n = TRUE)"
   ]
  },
  {
   "cell_type": "code",
   "execution_count": 36,
   "metadata": {},
   "outputs": [
    {
     "data": {
      "image/png": "[encoded data removed]",
      "text/plain": [
       "plot without title"
      ]
     },
     "metadata": {},
     "output_type": "display_data"
    }
   ],
   "source": [
    "plot(fit, uniform = TRUE, branch = 0.6, margin=0.1)\n",
    "text(fit, all=TRUE, use.n = TRUE)"
   ]
  },
  {
   "cell_type": "markdown",
   "metadata": {},
   "source": [
    "### Performance measurement"
   ]
  },
  {
   "cell_type": "code",
   "execution_count": 39,
   "metadata": {
    "collapsed": true
   },
   "outputs": [],
   "source": [
    "pred = predict(fit, testset[,! names(testset) %in% c(\"buy\")], type=\"class\")"
   ]
  },
  {
   "cell_type": "code",
   "execution_count": 40,
   "metadata": {},
   "outputs": [
    {
     "data": {
      "text/plain": [
       "pred\n",
       " no yes \n",
       " 12   8 "
      ]
     },
     "metadata": {},
     "output_type": "display_data"
    }
   ],
   "source": [
    "table(pred)"
   ]
  },
  {
   "cell_type": "code",
   "execution_count": 46,
   "metadata": {},
   "outputs": [
    {
     "name": "stderr",
     "output_type": "stream",
     "text": [
      "also installing the dependency 'mlbench'\n",
      "\n"
     ]
    },
    {
     "name": "stdout",
     "output_type": "stream",
     "text": [
      "package 'mlbench' successfully unpacked and MD5 sums checked\n",
      "package 'e1071' successfully unpacked and MD5 sums checked\n",
      "\n",
      "The downloaded binary packages are in\n",
      "\tC:\\Users\\ZekeLabs\\AppData\\Local\\Temp\\Rtmp0QIopw\\downloaded_packages\n"
     ]
    },
    {
     "data": {
      "text/plain": [
       "Confusion Matrix and Statistics\n",
       "\n",
       "          Reference\n",
       "Prediction no yes\n",
       "       no  11   1\n",
       "       yes  0   8\n",
       "                                          \n",
       "               Accuracy : 0.95            \n",
       "                 95% CI : (0.7513, 0.9987)\n",
       "    No Information Rate : 0.55            \n",
       "    P-Value [Acc > NIR] : 0.0001114       \n",
       "                                          \n",
       "                  Kappa : 0.898           \n",
       " Mcnemar's Test P-Value : 1.0000000       \n",
       "                                          \n",
       "            Sensitivity : 1.0000          \n",
       "            Specificity : 0.8889          \n",
       "         Pos Pred Value : 0.9167          \n",
       "         Neg Pred Value : 1.0000          \n",
       "             Prevalence : 0.5500          \n",
       "         Detection Rate : 0.5500          \n",
       "   Detection Prevalence : 0.6000          \n",
       "      Balanced Accuracy : 0.9444          \n",
       "                                          \n",
       "       'Positive' Class : no              \n",
       "                                          "
      ]
     },
     "metadata": {},
     "output_type": "display_data"
    }
   ],
   "source": [
    "install.packages('e1071', repos=\"http://cran.us.r-project.org\", dependencies=TRUE)\n",
    "confusionMatrix(pred, testset[,c(\"buy\")])"
   ]
  },
  {
   "cell_type": "code",
   "execution_count": 47,
   "metadata": {},
   "outputs": [
    {
     "name": "stdout",
     "output_type": "stream",
     "text": [
      "package 'ROCR' successfully unpacked and MD5 sums checked\n",
      "\n",
      "The downloaded binary packages are in\n",
      "\tC:\\Users\\ZekeLabs\\AppData\\Local\\Temp\\Rtmp0QIopw\\downloaded_packages\n"
     ]
    }
   ],
   "source": [
    "install.packages(\"ROCR\",repos=\"http://cran.us.r-project.org\")"
   ]
  },
  {
   "cell_type": "code",
   "execution_count": 50,
   "metadata": {},
   "outputs": [],
   "source": [
    "library(ROCR)\n",
    "\n",
    "## ROCR - Receiver Operating Charactertic Curve\n",
    "## Performance of binary classifier\n",
    "## Plots true positive & false positive for different cut points"
   ]
  },
  {
   "cell_type": "code",
   "execution_count": 51,
   "metadata": {
    "collapsed": true
   },
   "outputs": [],
   "source": [
    "pred2 <- predict(fit,testset[, !names(testset) %in% c(\"buy\")], probability=TRUE)"
   ]
  },
  {
   "cell_type": "code",
   "execution_count": 52,
   "metadata": {
    "collapsed": true
   },
   "outputs": [],
   "source": [
    "pred.to.roc = pred2[,c(\"yes\")]"
   ]
  },
  {
   "cell_type": "code",
   "execution_count": 58,
   "metadata": {},
   "outputs": [],
   "source": [
    "pred.rocr = prediction(pred.to.roc, testset$buy)"
   ]
  },
  {
   "cell_type": "code",
   "execution_count": 60,
   "metadata": {},
   "outputs": [
    {
     "data": {
      "text/plain": [
       "An object of class \"prediction\"\n",
       "Slot \"predictions\":\n",
       "[[1]]\n",
       "        4         5        16        20        25        38        40        46 \n",
       "1.0000000 0.0000000 1.0000000 0.0000000 1.0000000 0.4285714 1.0000000 0.0000000 \n",
       "       50        55        61        62        64        66        68        71 \n",
       "0.0000000 0.0000000 0.0000000 1.0000000 1.0000000 0.0000000 0.0000000 0.0000000 \n",
       "       76        85        89        97 \n",
       "0.4285714 1.0000000 1.0000000 0.0000000 \n",
       "\n",
       "\n",
       "Slot \"labels\":\n",
       "[[1]]\n",
       " [1] yes no  yes no  yes yes yes no  no  no  no  yes yes no  no  no  no  yes yes\n",
       "[20] no \n",
       "Levels: no < yes\n",
       "\n",
       "\n",
       "Slot \"cutoffs\":\n",
       "[[1]]\n",
       "                 89        76        97 \n",
       "      Inf 1.0000000 0.4285714 0.0000000 \n",
       "\n",
       "\n",
       "Slot \"fp\":\n",
       "[[1]]\n",
       "[1]  0  0  1 11\n",
       "\n",
       "\n",
       "Slot \"tp\":\n",
       "[[1]]\n",
       "[1] 0 8 9 9\n",
       "\n",
       "\n",
       "Slot \"tn\":\n",
       "[[1]]\n",
       "[1] 11 11 10  0\n",
       "\n",
       "\n",
       "Slot \"fn\":\n",
       "[[1]]\n",
       "[1] 9 1 0 0\n",
       "\n",
       "\n",
       "Slot \"n.pos\":\n",
       "[[1]]\n",
       "[1] 9\n",
       "\n",
       "\n",
       "Slot \"n.neg\":\n",
       "[[1]]\n",
       "[1] 11\n",
       "\n",
       "\n",
       "Slot \"n.pos.pred\":\n",
       "[[1]]\n",
       "[1]  0  8 10 20\n",
       "\n",
       "\n",
       "Slot \"n.neg.pred\":\n",
       "[[1]]\n",
       "[1] 20 12 10  0\n",
       "\n"
      ]
     },
     "metadata": {},
     "output_type": "display_data"
    }
   ],
   "source": [
    "pred.rocr"
   ]
  },
  {
   "cell_type": "code",
   "execution_count": 57,
   "metadata": {},
   "outputs": [
    {
     "data": {
      "text/html": [
       "<ol class=list-inline>\n",
       "\t<li>yes</li>\n",
       "\t<li>no</li>\n",
       "\t<li>yes</li>\n",
       "\t<li>no</li>\n",
       "\t<li>yes</li>\n",
       "\t<li>yes</li>\n",
       "\t<li>yes</li>\n",
       "\t<li>no</li>\n",
       "\t<li>no</li>\n",
       "\t<li>no</li>\n",
       "\t<li>no</li>\n",
       "\t<li>yes</li>\n",
       "\t<li>yes</li>\n",
       "\t<li>no</li>\n",
       "\t<li>no</li>\n",
       "\t<li>no</li>\n",
       "\t<li>no</li>\n",
       "\t<li>yes</li>\n",
       "\t<li>yes</li>\n",
       "\t<li>no</li>\n",
       "</ol>\n"
      ],
      "text/latex": [
       "\\begin{enumerate*}\n",
       "\\item yes\n",
       "\\item no\n",
       "\\item yes\n",
       "\\item no\n",
       "\\item yes\n",
       "\\item yes\n",
       "\\item yes\n",
       "\\item no\n",
       "\\item no\n",
       "\\item no\n",
       "\\item no\n",
       "\\item yes\n",
       "\\item yes\n",
       "\\item no\n",
       "\\item no\n",
       "\\item no\n",
       "\\item no\n",
       "\\item yes\n",
       "\\item yes\n",
       "\\item no\n",
       "\\end{enumerate*}\n"
      ],
      "text/markdown": [
       "1. yes\n",
       "2. no\n",
       "3. yes\n",
       "4. no\n",
       "5. yes\n",
       "6. yes\n",
       "7. yes\n",
       "8. no\n",
       "9. no\n",
       "10. no\n",
       "11. no\n",
       "12. yes\n",
       "13. yes\n",
       "14. no\n",
       "15. no\n",
       "16. no\n",
       "17. no\n",
       "18. yes\n",
       "19. yes\n",
       "20. no\n",
       "\n",
       "\n"
      ],
      "text/plain": [
       " [1] yes no  yes no  yes yes yes no  no  no  no  yes yes no  no  no  no  yes yes\n",
       "[20] no \n",
       "Levels: no yes"
      ]
     },
     "metadata": {},
     "output_type": "display_data"
    }
   ],
   "source": [
    "testset$buy"
   ]
  },
  {
   "cell_type": "code",
   "execution_count": 61,
   "metadata": {
    "collapsed": true
   },
   "outputs": [],
   "source": [
    "perf.rocr = performance(pred.rocr, measure = \"auc\", x.measure = \"cutoff\")"
   ]
  },
  {
   "cell_type": "code",
   "execution_count": 62,
   "metadata": {
    "collapsed": true
   },
   "outputs": [],
   "source": [
    "perf.tpr.rocr = performance(pred.rocr, \"tpr\",\"fpr\")"
   ]
  },
  {
   "cell_type": "code",
   "execution_count": 63,
   "metadata": {},
   "outputs": [
    {
     "data": {
      "image/png": "[encoded data removed]",
      "text/plain": [
       "Plot with title \"AUC: 0.994949494949495\""
      ]
     },
     "metadata": {},
     "output_type": "display_data"
    }
   ],
   "source": [
    "plot(perf.tpr.rocr, colorize=T,main=paste(\"AUC:\",(perf.rocr@y.values)))"
   ]
  },
  {
   "cell_type": "code",
   "execution_count": null,
   "metadata": {
    "collapsed": true
   },
   "outputs": [],
   "source": []
  }
 ],
 "metadata": {
  "kernelspec": {
   "display_name": "R",
   "language": "R",
   "name": "ir"
  },
  "language_info": {
   "codemirror_mode": "r",
   "file_extension": ".r",
   "mimetype": "text/x-r-source",
   "name": "R",
   "pygments_lexer": "r",
   "version": "3.3.2"
  }
 },
 "nbformat": 4,
 "nbformat_minor": 2
}
