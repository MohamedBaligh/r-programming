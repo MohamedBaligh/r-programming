{
 "cells": [
  {
   "cell_type": "code",
   "execution_count": 1,
   "metadata": {
    "collapsed": true
   },
   "outputs": [],
   "source": [
    "persons <- data.frame(Name = c(\"Ken\", \"Ashley\", \"Jennifer\"),\n",
    "  Gender = c(\"Male\", \"Female\", \"Female\"),\n",
    "  Age = c(24, 25, 23),\n",
    "  Major = c(\"Finance\", \"Statistics\", \"Computer Science\"))"
   ]
  },
  {
   "cell_type": "code",
   "execution_count": 2,
   "metadata": {},
   "outputs": [
    {
     "data": {
      "text/html": [
       "<table>\n",
       "<thead><tr><th scope=col>Name</th><th scope=col>Gender</th><th scope=col>Age</th><th scope=col>Major</th></tr></thead>\n",
       "<tbody>\n",
       "\t<tr><td>Ken             </td><td>Male            </td><td>24              </td><td>Finance         </td></tr>\n",
       "\t<tr><td>Ashley          </td><td>Female          </td><td>25              </td><td>Statistics      </td></tr>\n",
       "\t<tr><td>Jennifer        </td><td>Female          </td><td>23              </td><td>Computer Science</td></tr>\n",
       "</tbody>\n",
       "</table>\n"
      ],
      "text/latex": [
       "\\begin{tabular}{r|llll}\n",
       " Name & Gender & Age & Major\\\\\n",
       "\\hline\n",
       "\t Ken              & Male             & 24               & Finance         \\\\\n",
       "\t Ashley           & Female           & 25               & Statistics      \\\\\n",
       "\t Jennifer         & Female           & 23               & Computer Science\\\\\n",
       "\\end{tabular}\n"
      ],
      "text/markdown": [
       "\n",
       "Name | Gender | Age | Major | \n",
       "|---|---|---|\n",
       "| Ken              | Male             | 24               | Finance          | \n",
       "| Ashley           | Female           | 25               | Statistics       | \n",
       "| Jennifer         | Female           | 23               | Computer Science | \n",
       "\n",
       "\n"
      ],
      "text/plain": [
       "  Name     Gender Age Major           \n",
       "1 Ken      Male   24  Finance         \n",
       "2 Ashley   Female 25  Statistics      \n",
       "3 Jennifer Female 23  Computer Science"
      ]
     },
     "metadata": {},
     "output_type": "display_data"
    }
   ],
   "source": [
    "persons"
   ]
  },
  {
   "cell_type": "code",
   "execution_count": 3,
   "metadata": {
    "collapsed": true
   },
   "outputs": [],
   "source": [
    "l1 <- list(x = c(1, 2, 3), y = c(\"a\", \"b\", \"c\"))"
   ]
  },
  {
   "cell_type": "code",
   "execution_count": 4,
   "metadata": {},
   "outputs": [
    {
     "data": {
      "text/html": [
       "<dl>\n",
       "\t<dt>$x</dt>\n",
       "\t\t<dd><ol class=list-inline>\n",
       "\t<li>1</li>\n",
       "\t<li>2</li>\n",
       "\t<li>3</li>\n",
       "</ol>\n",
       "</dd>\n",
       "\t<dt>$y</dt>\n",
       "\t\t<dd><ol class=list-inline>\n",
       "\t<li>'a'</li>\n",
       "\t<li>'b'</li>\n",
       "\t<li>'c'</li>\n",
       "</ol>\n",
       "</dd>\n",
       "</dl>\n"
      ],
      "text/latex": [
       "\\begin{description}\n",
       "\\item[\\$x] \\begin{enumerate*}\n",
       "\\item 1\n",
       "\\item 2\n",
       "\\item 3\n",
       "\\end{enumerate*}\n",
       "\n",
       "\\item[\\$y] \\begin{enumerate*}\n",
       "\\item 'a'\n",
       "\\item 'b'\n",
       "\\item 'c'\n",
       "\\end{enumerate*}\n",
       "\n",
       "\\end{description}\n"
      ],
      "text/markdown": [
       "$x\n",
       ":   1. 1\n",
       "2. 2\n",
       "3. 3\n",
       "\n",
       "\n",
       "\n",
       "$y\n",
       ":   1. 'a'\n",
       "2. 'b'\n",
       "3. 'c'\n",
       "\n",
       "\n",
       "\n",
       "\n",
       "\n"
      ],
      "text/plain": [
       "$x\n",
       "[1] 1 2 3\n",
       "\n",
       "$y\n",
       "[1] \"a\" \"b\" \"c\"\n"
      ]
     },
     "metadata": {},
     "output_type": "display_data"
    }
   ],
   "source": [
    "l1"
   ]
  },
  {
   "cell_type": "code",
   "execution_count": 6,
   "metadata": {},
   "outputs": [
    {
     "data": {
      "text/html": [
       "<table>\n",
       "<thead><tr><th scope=col>x</th><th scope=col>y</th></tr></thead>\n",
       "<tbody>\n",
       "\t<tr><td>1</td><td>a</td></tr>\n",
       "\t<tr><td>2</td><td>b</td></tr>\n",
       "\t<tr><td>3</td><td>c</td></tr>\n",
       "</tbody>\n",
       "</table>\n"
      ],
      "text/latex": [
       "\\begin{tabular}{r|ll}\n",
       " x & y\\\\\n",
       "\\hline\n",
       "\t 1 & a\\\\\n",
       "\t 2 & b\\\\\n",
       "\t 3 & c\\\\\n",
       "\\end{tabular}\n"
      ],
      "text/markdown": [
       "\n",
       "x | y | \n",
       "|---|---|---|\n",
       "| 1 | a | \n",
       "| 2 | b | \n",
       "| 3 | c | \n",
       "\n",
       "\n"
      ],
      "text/plain": [
       "  x y\n",
       "1 1 a\n",
       "2 2 b\n",
       "3 3 c"
      ]
     },
     "metadata": {},
     "output_type": "display_data"
    }
   ],
   "source": [
    "#Creating dataframe from list\n",
    "data.frame(l1)"
   ]
  },
  {
   "cell_type": "code",
   "execution_count": 8,
   "metadata": {},
   "outputs": [],
   "source": [
    "#Create Dataframe from matrix\n",
    "m1 <- matrix(c(1,2,3,4,5,6,7,8,9), nrow = 3, byrow = FALSE)"
   ]
  },
  {
   "cell_type": "code",
   "execution_count": 9,
   "metadata": {},
   "outputs": [
    {
     "data": {
      "text/html": [
       "<table>\n",
       "<tbody>\n",
       "\t<tr><td>1</td><td>4</td><td>7</td></tr>\n",
       "\t<tr><td>2</td><td>5</td><td>8</td></tr>\n",
       "\t<tr><td>3</td><td>6</td><td>9</td></tr>\n",
       "</tbody>\n",
       "</table>\n"
      ],
      "text/latex": [
       "\\begin{tabular}{lll}\n",
       "\t 1 & 4 & 7\\\\\n",
       "\t 2 & 5 & 8\\\\\n",
       "\t 3 & 6 & 9\\\\\n",
       "\\end{tabular}\n"
      ],
      "text/markdown": [
       "\n",
       "| 1 | 4 | 7 | \n",
       "| 2 | 5 | 8 | \n",
       "| 3 | 6 | 9 | \n",
       "\n",
       "\n"
      ],
      "text/plain": [
       "     [,1] [,2] [,3]\n",
       "[1,] 1    4    7   \n",
       "[2,] 2    5    8   \n",
       "[3,] 3    6    9   "
      ]
     },
     "metadata": {},
     "output_type": "display_data"
    }
   ],
   "source": [
    "m1"
   ]
  },
  {
   "cell_type": "code",
   "execution_count": 11,
   "metadata": {},
   "outputs": [
    {
     "data": {
      "text/html": [
       "<table>\n",
       "<thead><tr><th scope=col>X1</th><th scope=col>X2</th><th scope=col>X3</th></tr></thead>\n",
       "<tbody>\n",
       "\t<tr><td>1</td><td>4</td><td>7</td></tr>\n",
       "\t<tr><td>2</td><td>5</td><td>8</td></tr>\n",
       "\t<tr><td>3</td><td>6</td><td>9</td></tr>\n",
       "</tbody>\n",
       "</table>\n"
      ],
      "text/latex": [
       "\\begin{tabular}{r|lll}\n",
       " X1 & X2 & X3\\\\\n",
       "\\hline\n",
       "\t 1 & 4 & 7\\\\\n",
       "\t 2 & 5 & 8\\\\\n",
       "\t 3 & 6 & 9\\\\\n",
       "\\end{tabular}\n"
      ],
      "text/markdown": [
       "\n",
       "X1 | X2 | X3 | \n",
       "|---|---|---|\n",
       "| 1 | 4 | 7 | \n",
       "| 2 | 5 | 8 | \n",
       "| 3 | 6 | 9 | \n",
       "\n",
       "\n"
      ],
      "text/plain": [
       "  X1 X2 X3\n",
       "1 1  4  7 \n",
       "2 2  5  8 \n",
       "3 3  6  9 "
      ]
     },
     "metadata": {},
     "output_type": "display_data"
    }
   ],
   "source": [
    "#Convert matrix to dataframe\n",
    "data.frame(m1)"
   ]
  },
  {
   "cell_type": "code",
   "execution_count": 12,
   "metadata": {
    "collapsed": true
   },
   "outputs": [],
   "source": [
    "df1 <- data.frame(id = 1:5, x = c(0, 2, 1, -1, -3), y = c(0.5, 0.2, 0.1, 0.5, 0.9))"
   ]
  },
  {
   "cell_type": "code",
   "execution_count": 13,
   "metadata": {
    "collapsed": true
   },
   "outputs": [],
   "source": [
    "colnames(df1) <- c(\"id\", \"level\", \"score\")\n",
    "rownames(df1) <- letters[1:5]"
   ]
  },
  {
   "cell_type": "code",
   "execution_count": 14,
   "metadata": {},
   "outputs": [
    {
     "data": {
      "text/html": [
       "<table>\n",
       "<thead><tr><th></th><th scope=col>id</th><th scope=col>level</th><th scope=col>score</th></tr></thead>\n",
       "<tbody>\n",
       "\t<tr><th scope=row>a</th><td>1  </td><td> 0 </td><td>0.5</td></tr>\n",
       "\t<tr><th scope=row>b</th><td>2  </td><td> 2 </td><td>0.2</td></tr>\n",
       "\t<tr><th scope=row>c</th><td>3  </td><td> 1 </td><td>0.1</td></tr>\n",
       "\t<tr><th scope=row>d</th><td>4  </td><td>-1 </td><td>0.5</td></tr>\n",
       "\t<tr><th scope=row>e</th><td>5  </td><td>-3 </td><td>0.9</td></tr>\n",
       "</tbody>\n",
       "</table>\n"
      ],
      "text/latex": [
       "\\begin{tabular}{r|lll}\n",
       "  & id & level & score\\\\\n",
       "\\hline\n",
       "\ta & 1   &  0  & 0.5\\\\\n",
       "\tb & 2   &  2  & 0.2\\\\\n",
       "\tc & 3   &  1  & 0.1\\\\\n",
       "\td & 4   & -1  & 0.5\\\\\n",
       "\te & 5   & -3  & 0.9\\\\\n",
       "\\end{tabular}\n"
      ],
      "text/markdown": [
       "\n",
       "| <!--/--> | id | level | score | \n",
       "|---|---|---|---|---|\n",
       "| a | 1   |  0  | 0.5 | \n",
       "| b | 2   |  2  | 0.2 | \n",
       "| c | 3   |  1  | 0.1 | \n",
       "| d | 4   | -1  | 0.5 | \n",
       "| e | 5   | -3  | 0.9 | \n",
       "\n",
       "\n"
      ],
      "text/plain": [
       "  id level score\n",
       "a 1   0    0.5  \n",
       "b 2   2    0.2  \n",
       "c 3   1    0.1  \n",
       "d 4  -1    0.5  \n",
       "e 5  -3    0.9  "
      ]
     },
     "metadata": {},
     "output_type": "display_data"
    }
   ],
   "source": [
    "df1"
   ]
  },
  {
   "cell_type": "markdown",
   "metadata": {},
   "source": [
    "### Subsettting a datarame"
   ]
  },
  {
   "cell_type": "code",
   "execution_count": 15,
   "metadata": {},
   "outputs": [
    {
     "data": {
      "text/html": [
       "<ol class=list-inline>\n",
       "\t<li>1</li>\n",
       "\t<li>2</li>\n",
       "\t<li>3</li>\n",
       "\t<li>4</li>\n",
       "\t<li>5</li>\n",
       "</ol>\n"
      ],
      "text/latex": [
       "\\begin{enumerate*}\n",
       "\\item 1\n",
       "\\item 2\n",
       "\\item 3\n",
       "\\item 4\n",
       "\\item 5\n",
       "\\end{enumerate*}\n"
      ],
      "text/markdown": [
       "1. 1\n",
       "2. 2\n",
       "3. 3\n",
       "4. 4\n",
       "5. 5\n",
       "\n",
       "\n"
      ],
      "text/plain": [
       "[1] 1 2 3 4 5"
      ]
     },
     "metadata": {},
     "output_type": "display_data"
    }
   ],
   "source": [
    "df1$id"
   ]
  },
  {
   "cell_type": "code",
   "execution_count": 16,
   "metadata": {},
   "outputs": [
    {
     "data": {
      "text/html": [
       "<table>\n",
       "<thead><tr><th></th><th scope=col>level</th></tr></thead>\n",
       "<tbody>\n",
       "\t<tr><th scope=row>a</th><td> 0</td></tr>\n",
       "\t<tr><th scope=row>b</th><td> 2</td></tr>\n",
       "\t<tr><th scope=row>c</th><td> 1</td></tr>\n",
       "\t<tr><th scope=row>d</th><td>-1</td></tr>\n",
       "\t<tr><th scope=row>e</th><td>-3</td></tr>\n",
       "</tbody>\n",
       "</table>\n"
      ],
      "text/latex": [
       "\\begin{tabular}{r|l}\n",
       "  & level\\\\\n",
       "\\hline\n",
       "\ta &  0\\\\\n",
       "\tb &  2\\\\\n",
       "\tc &  1\\\\\n",
       "\td & -1\\\\\n",
       "\te & -3\\\\\n",
       "\\end{tabular}\n"
      ],
      "text/markdown": [
       "\n",
       "| <!--/--> | level | \n",
       "|---|---|---|---|---|\n",
       "| a |  0 | \n",
       "| b |  2 | \n",
       "| c |  1 | \n",
       "| d | -1 | \n",
       "| e | -3 | \n",
       "\n",
       "\n"
      ],
      "text/plain": [
       "  level\n",
       "a  0   \n",
       "b  2   \n",
       "c  1   \n",
       "d -1   \n",
       "e -3   "
      ]
     },
     "metadata": {},
     "output_type": "display_data"
    }
   ],
   "source": [
    "df1[\"level\"]"
   ]
  },
  {
   "cell_type": "code",
   "execution_count": 17,
   "metadata": {},
   "outputs": [
    {
     "data": {
      "text/html": [
       "<table>\n",
       "<thead><tr><th></th><th scope=col>id</th><th scope=col>score</th></tr></thead>\n",
       "<tbody>\n",
       "\t<tr><th scope=row>a</th><td>1  </td><td>0.5</td></tr>\n",
       "\t<tr><th scope=row>b</th><td>2  </td><td>0.2</td></tr>\n",
       "\t<tr><th scope=row>c</th><td>3  </td><td>0.1</td></tr>\n",
       "\t<tr><th scope=row>d</th><td>4  </td><td>0.5</td></tr>\n",
       "\t<tr><th scope=row>e</th><td>5  </td><td>0.9</td></tr>\n",
       "</tbody>\n",
       "</table>\n"
      ],
      "text/latex": [
       "\\begin{tabular}{r|ll}\n",
       "  & id & score\\\\\n",
       "\\hline\n",
       "\ta & 1   & 0.5\\\\\n",
       "\tb & 2   & 0.2\\\\\n",
       "\tc & 3   & 0.1\\\\\n",
       "\td & 4   & 0.5\\\\\n",
       "\te & 5   & 0.9\\\\\n",
       "\\end{tabular}\n"
      ],
      "text/markdown": [
       "\n",
       "| <!--/--> | id | score | \n",
       "|---|---|---|---|---|\n",
       "| a | 1   | 0.5 | \n",
       "| b | 2   | 0.2 | \n",
       "| c | 3   | 0.1 | \n",
       "| d | 4   | 0.5 | \n",
       "| e | 5   | 0.9 | \n",
       "\n",
       "\n"
      ],
      "text/plain": [
       "  id score\n",
       "a 1  0.5  \n",
       "b 2  0.2  \n",
       "c 3  0.1  \n",
       "d 4  0.5  \n",
       "e 5  0.9  "
      ]
     },
     "metadata": {},
     "output_type": "display_data"
    }
   ],
   "source": [
    "df1[c(\"id\",\"score\")]"
   ]
  },
  {
   "cell_type": "code",
   "execution_count": 18,
   "metadata": {
    "collapsed": true
   },
   "outputs": [],
   "source": [
    "## Filtering data from data.frame"
   ]
  },
  {
   "cell_type": "code",
   "execution_count": 24,
   "metadata": {},
   "outputs": [
    {
     "data": {
      "text/html": [
       "<table>\n",
       "<thead><tr><th></th><th scope=col>id</th><th scope=col>level</th><th scope=col>score</th></tr></thead>\n",
       "<tbody>\n",
       "\t<tr><th scope=row>a</th><td>1  </td><td> 0 </td><td>0.5</td></tr>\n",
       "\t<tr><th scope=row>d</th><td>4  </td><td>-1 </td><td>0.5</td></tr>\n",
       "\t<tr><th scope=row>e</th><td>5  </td><td>-3 </td><td>0.9</td></tr>\n",
       "</tbody>\n",
       "</table>\n"
      ],
      "text/latex": [
       "\\begin{tabular}{r|lll}\n",
       "  & id & level & score\\\\\n",
       "\\hline\n",
       "\ta & 1   &  0  & 0.5\\\\\n",
       "\td & 4   & -1  & 0.5\\\\\n",
       "\te & 5   & -3  & 0.9\\\\\n",
       "\\end{tabular}\n"
      ],
      "text/markdown": [
       "\n",
       "| <!--/--> | id | level | score | \n",
       "|---|---|---|\n",
       "| a | 1   |  0  | 0.5 | \n",
       "| d | 4   | -1  | 0.5 | \n",
       "| e | 5   | -3  | 0.9 | \n",
       "\n",
       "\n"
      ],
      "text/plain": [
       "  id level score\n",
       "a 1   0    0.5  \n",
       "d 4  -1    0.5  \n",
       "e 5  -3    0.9  "
      ]
     },
     "metadata": {},
     "output_type": "display_data"
    }
   ],
   "source": [
    "df1[df1$score > 0.4, c(\"id\",\"level\",\"score\")]"
   ]
  },
  {
   "cell_type": "code",
   "execution_count": 25,
   "metadata": {
    "collapsed": true
   },
   "outputs": [],
   "source": [
    "## Setting Values As A List"
   ]
  },
  {
   "cell_type": "code",
   "execution_count": 27,
   "metadata": {},
   "outputs": [],
   "source": [
    "df1$score = c(2,3,4,45,5)"
   ]
  },
  {
   "cell_type": "code",
   "execution_count": 28,
   "metadata": {},
   "outputs": [
    {
     "data": {
      "text/html": [
       "<table>\n",
       "<thead><tr><th></th><th scope=col>id</th><th scope=col>level</th><th scope=col>score</th></tr></thead>\n",
       "<tbody>\n",
       "\t<tr><th scope=row>a</th><td>1 </td><td> 0</td><td> 2</td></tr>\n",
       "\t<tr><th scope=row>b</th><td>2 </td><td> 2</td><td> 3</td></tr>\n",
       "\t<tr><th scope=row>c</th><td>3 </td><td> 1</td><td> 4</td></tr>\n",
       "\t<tr><th scope=row>d</th><td>4 </td><td>-1</td><td>45</td></tr>\n",
       "\t<tr><th scope=row>e</th><td>5 </td><td>-3</td><td> 5</td></tr>\n",
       "</tbody>\n",
       "</table>\n"
      ],
      "text/latex": [
       "\\begin{tabular}{r|lll}\n",
       "  & id & level & score\\\\\n",
       "\\hline\n",
       "\ta & 1  &  0 &  2\\\\\n",
       "\tb & 2  &  2 &  3\\\\\n",
       "\tc & 3  &  1 &  4\\\\\n",
       "\td & 4  & -1 & 45\\\\\n",
       "\te & 5  & -3 &  5\\\\\n",
       "\\end{tabular}\n"
      ],
      "text/markdown": [
       "\n",
       "| <!--/--> | id | level | score | \n",
       "|---|---|---|---|---|\n",
       "| a | 1  |  0 |  2 | \n",
       "| b | 2  |  2 |  3 | \n",
       "| c | 3  |  1 |  4 | \n",
       "| d | 4  | -1 | 45 | \n",
       "| e | 5  | -3 |  5 | \n",
       "\n",
       "\n"
      ],
      "text/plain": [
       "  id level score\n",
       "a 1   0     2   \n",
       "b 2   2     3   \n",
       "c 3   1     4   \n",
       "d 4  -1    45   \n",
       "e 5  -3     5   "
      ]
     },
     "metadata": {},
     "output_type": "display_data"
    }
   ],
   "source": [
    "df1"
   ]
  },
  {
   "cell_type": "code",
   "execution_count": 29,
   "metadata": {
    "collapsed": true
   },
   "outputs": [],
   "source": [
    "df1[\"score\"] <- c(0.8, 0.5, 0.2, 0.4, 0.8)"
   ]
  },
  {
   "cell_type": "code",
   "execution_count": 30,
   "metadata": {
    "collapsed": true
   },
   "outputs": [],
   "source": [
    "df1[c(\"level\", \"score\")] <- list(level = c(1, 2, 1, 0, 0), score = c(0.1, 0.2, 0.3, 0.4, 0.5))"
   ]
  },
  {
   "cell_type": "markdown",
   "metadata": {},
   "source": [
    "## Factors\n",
    "* data frame in R tries to use memory more efficiently\n",
    "* As we can clearly find out that Name, Gender, and Major are not character vectors but factor objects. \n",
    "* It is reasonable that Gender is represented by a factor because it may only be either Female or Male, so using two integers to represent these two values is more efficient than using a character vector to store all the values regardless of the repetition.\n"
   ]
  },
  {
   "cell_type": "code",
   "execution_count": 32,
   "metadata": {},
   "outputs": [
    {
     "name": "stdout",
     "output_type": "stream",
     "text": [
      "'data.frame':\t3 obs. of  4 variables:\n",
      " $ Name  : Factor w/ 3 levels \"Ashley\",\"Jennifer\",..: 3 1 2\n",
      " $ Gender: Factor w/ 2 levels \"Female\",\"Male\": 2 1 1\n",
      " $ Age   : num  24 25 23\n",
      " $ Major : Factor w/ 3 levels \"Computer Science\",..: 2 3 1\n"
     ]
    }
   ],
   "source": [
    "str(persons)"
   ]
  },
  {
   "cell_type": "code",
   "execution_count": 33,
   "metadata": {
    "collapsed": true
   },
   "outputs": [],
   "source": [
    "persons <- data.frame(Name = c(\"Ken\", \"Ashley\", \"Jennifer\"),\n",
    "  Gender = factor(c(\"Male\", \"Female\", \"Female\")),\n",
    "  Age = c(24, 25, 23),\n",
    "  Major = c(\"Finance\", \"Statistics\", \"Computer Science\"),\n",
    "  stringsAsFactors = FALSE)"
   ]
  },
  {
   "cell_type": "code",
   "execution_count": 34,
   "metadata": {},
   "outputs": [
    {
     "name": "stdout",
     "output_type": "stream",
     "text": [
      "'data.frame':\t3 obs. of  4 variables:\n",
      " $ Name  : chr  \"Ken\" \"Ashley\" \"Jennifer\"\n",
      " $ Gender: Factor w/ 2 levels \"Female\",\"Male\": 2 1 1\n",
      " $ Age   : num  24 25 23\n",
      " $ Major : chr  \"Finance\" \"Statistics\" \"Computer Science\"\n"
     ]
    }
   ],
   "source": [
    "str(persons)"
   ]
  },
  {
   "cell_type": "code",
   "execution_count": 35,
   "metadata": {},
   "outputs": [
    {
     "data": {
      "text/plain": [
       "     Name              Gender       Age          Major          \n",
       " Length:3           Female:2   Min.   :23.0   Length:3          \n",
       " Class :character   Male  :1   1st Qu.:23.5   Class :character  \n",
       " Mode  :character              Median :24.0   Mode  :character  \n",
       "                               Mean   :24.0                     \n",
       "                               3rd Qu.:24.5                     \n",
       "                               Max.   :25.0                     "
      ]
     },
     "metadata": {},
     "output_type": "display_data"
    }
   ],
   "source": [
    "summary(persons)"
   ]
  },
  {
   "cell_type": "code",
   "execution_count": 36,
   "metadata": {},
   "outputs": [
    {
     "data": {
      "text/html": [
       "<table>\n",
       "<thead><tr><th scope=col>X</th><th scope=col>Sqft</th><th scope=col>Floor</th><th scope=col>TotalFloor</th><th scope=col>Bedroom</th><th scope=col>Living.Room</th><th scope=col>Bathroom</th><th scope=col>Price</th></tr></thead>\n",
       "<tbody>\n",
       "\t<tr><td> 1      </td><td>1177.698</td><td> 2      </td><td> 7      </td><td>2       </td><td>2       </td><td>2       </td><td> 62000  </td></tr>\n",
       "\t<tr><td> 2      </td><td>2134.800</td><td> 5      </td><td> 7      </td><td>4       </td><td>2       </td><td>2       </td><td> 78000  </td></tr>\n",
       "\t<tr><td> 3      </td><td>1138.560</td><td> 5      </td><td> 7      </td><td>2       </td><td>2       </td><td>1       </td><td> 58000  </td></tr>\n",
       "\t<tr><td> 4      </td><td>1458.780</td><td> 2      </td><td> 7      </td><td>3       </td><td>2       </td><td>2       </td><td> 45000  </td></tr>\n",
       "\t<tr><td> 5      </td><td> 967.776</td><td>11      </td><td>14      </td><td>3       </td><td>2       </td><td>2       </td><td> 45000  </td></tr>\n",
       "\t<tr><td> 6      </td><td>1127.886</td><td>11      </td><td>12      </td><td>4       </td><td>2       </td><td>2       </td><td>148000  </td></tr>\n",
       "\t<tr><td> 7      </td><td>1352.040</td><td> 5      </td><td> 7      </td><td>3       </td><td>2       </td><td>1       </td><td> 58000  </td></tr>\n",
       "\t<tr><td> 8      </td><td> 757.854</td><td> 5      </td><td>14      </td><td>1       </td><td>0       </td><td>1       </td><td> 48000  </td></tr>\n",
       "\t<tr><td> 9      </td><td>1152.792</td><td>10      </td><td>12      </td><td>3       </td><td>2       </td><td>2       </td><td> 45000  </td></tr>\n",
       "\t<tr><td>10      </td><td>1423.200</td><td> 4      </td><td> 5      </td><td>4       </td><td>2       </td><td>2       </td><td> 65000  </td></tr>\n",
       "\t<tr><td>11      </td><td> 668.904</td><td> 4      </td><td>11      </td><td>1       </td><td>1       </td><td>1       </td><td> 31000  </td></tr>\n",
       "\t<tr><td>12      </td><td> 711.600</td><td> 4      </td><td> 7      </td><td>2       </td><td>1       </td><td>1       </td><td> 29002  </td></tr>\n",
       "\t<tr><td>13      </td><td>1352.040</td><td> 9      </td><td>19      </td><td>4       </td><td>2       </td><td>2       </td><td> 39000  </td></tr>\n",
       "\t<tr><td>14      </td><td> 818.340</td><td> 4      </td><td>13      </td><td>2       </td><td>2       </td><td>1       </td><td> 48000  </td></tr>\n",
       "\t<tr><td>15      </td><td>2134.800</td><td>10      </td><td>19      </td><td>3       </td><td>2       </td><td>2       </td><td> 55000  </td></tr>\n",
       "\t<tr><td>16      </td><td>2768.124</td><td> 6      </td><td>19      </td><td>3       </td><td>2       </td><td>2       </td><td>100000  </td></tr>\n",
       "\t<tr><td>17      </td><td> 711.600</td><td> 5      </td><td>13      </td><td>2       </td><td>2       </td><td>1       </td><td> 48000  </td></tr>\n",
       "\t<tr><td>18      </td><td> 462.540</td><td> 5      </td><td>13      </td><td>1       </td><td>1       </td><td>1       </td><td> 25000  </td></tr>\n",
       "\t<tr><td>19      </td><td>2739.660</td><td> 6      </td><td>19      </td><td>3       </td><td>2       </td><td>2       </td><td> 90000  </td></tr>\n",
       "\t<tr><td>20      </td><td>1174.140</td><td> 3      </td><td> 9      </td><td>3       </td><td>2       </td><td>1       </td><td> 33000  </td></tr>\n",
       "\t<tr><td>21      </td><td>2490.600</td><td>19      </td><td>21      </td><td>5       </td><td>3       </td><td>4       </td><td>140000  </td></tr>\n",
       "\t<tr><td>22      </td><td>2768.124</td><td> 6      </td><td>19      </td><td>3       </td><td>2       </td><td>2       </td><td>100000  </td></tr>\n",
       "\t<tr><td>23      </td><td> 747.180</td><td> 7      </td><td>15      </td><td>2       </td><td>2       </td><td>1       </td><td> 55000  </td></tr>\n",
       "\t<tr><td>24      </td><td>1668.702</td><td> 4      </td><td>12      </td><td>3       </td><td>2       </td><td>2       </td><td>105000  </td></tr>\n",
       "\t<tr><td>25      </td><td>3664.740</td><td>19      </td><td>19      </td><td>3       </td><td>2       </td><td>3       </td><td>200000  </td></tr>\n",
       "\t<tr><td>26      </td><td>1779.000</td><td>10      </td><td>12      </td><td>4       </td><td>2       </td><td>2       </td><td> 98000  </td></tr>\n",
       "\t<tr><td>27      </td><td>3664.740</td><td>19      </td><td>19      </td><td>3       </td><td>2       </td><td>3       </td><td>200000  </td></tr>\n",
       "\t<tr><td>28      </td><td>3059.880</td><td>21      </td><td>24      </td><td>4       </td><td>2       </td><td>3       </td><td>145000  </td></tr>\n",
       "\t<tr><td>29      </td><td> 533.700</td><td> 3      </td><td> 4      </td><td>1       </td><td>1       </td><td>1       </td><td> 25000  </td></tr>\n",
       "\t<tr><td>30      </td><td> 853.920</td><td> 6      </td><td> 7      </td><td>2       </td><td>1       </td><td>1       </td><td> 24028  </td></tr>\n",
       "\t<tr><td>...</td><td>...</td><td>...</td><td>...</td><td>...</td><td>...</td><td>...</td><td>...</td></tr>\n",
       "\t<tr><td>619     </td><td>1857.276</td><td> 2      </td><td>14      </td><td>3       </td><td>2       </td><td>2       </td><td> 45000  </td></tr>\n",
       "\t<tr><td>620     </td><td>1102.980</td><td> 6      </td><td> 7      </td><td>3       </td><td>2       </td><td>2       </td><td> 65000  </td></tr>\n",
       "\t<tr><td>621     </td><td> 925.080</td><td> 2      </td><td> 4      </td><td>2       </td><td>1       </td><td>1       </td><td> 32000  </td></tr>\n",
       "\t<tr><td>622     </td><td>2312.700</td><td>11      </td><td>14      </td><td>3       </td><td>2       </td><td>2       </td><td> 99999  </td></tr>\n",
       "\t<tr><td>623     </td><td> 925.080</td><td> 4      </td><td> 9      </td><td>3       </td><td>2       </td><td>2       </td><td> 45000  </td></tr>\n",
       "\t<tr><td>624     </td><td> 711.600</td><td> 1      </td><td> 1      </td><td>3       </td><td>1       </td><td>1       </td><td> 12000  </td></tr>\n",
       "\t<tr><td>625     </td><td>4198.440</td><td>15      </td><td>19      </td><td>7       </td><td>3       </td><td>4       </td><td>180000  </td></tr>\n",
       "\t<tr><td>626     </td><td>3095.460</td><td> 1      </td><td> 6      </td><td>4       </td><td>2       </td><td>3       </td><td>100000  </td></tr>\n",
       "\t<tr><td>627     </td><td>2590.224</td><td> 5      </td><td>15      </td><td>3       </td><td>2       </td><td>3       </td><td>110000  </td></tr>\n",
       "\t<tr><td>628     </td><td>1885.740</td><td> 8      </td><td>13      </td><td>3       </td><td>2       </td><td>2       </td><td>120000  </td></tr>\n",
       "\t<tr><td>629     </td><td>1245.300</td><td> 1      </td><td>14      </td><td>3       </td><td>2       </td><td>2       </td><td> 55000  </td></tr>\n",
       "\t<tr><td>630     </td><td>1174.140</td><td>10      </td><td>12      </td><td>3       </td><td>2       </td><td>2       </td><td> 41000  </td></tr>\n",
       "\t<tr><td>631     </td><td>1458.780</td><td> 6      </td><td> 7      </td><td>2       </td><td>2       </td><td>2       </td><td> 75000  </td></tr>\n",
       "\t<tr><td>632     </td><td>1305.786</td><td> 9      </td><td>12      </td><td>3       </td><td>2       </td><td>2       </td><td> 42000  </td></tr>\n",
       "\t<tr><td>633     </td><td>1316.460</td><td>12      </td><td>12      </td><td>3       </td><td>2       </td><td>2       </td><td> 45000  </td></tr>\n",
       "\t<tr><td>634     </td><td>1167.024</td><td> 2      </td><td>12      </td><td>3       </td><td>2       </td><td>2       </td><td> 38000  </td></tr>\n",
       "\t<tr><td>635     </td><td> 996.240</td><td> 3      </td><td> 5      </td><td>3       </td><td>1       </td><td>1       </td><td> 28000  </td></tr>\n",
       "\t<tr><td>636     </td><td>1099.422</td><td> 2      </td><td> 7      </td><td>4       </td><td>2       </td><td>2       </td><td> 57777  </td></tr>\n",
       "\t<tr><td>637     </td><td>2042.292</td><td> 6      </td><td>18      </td><td>2       </td><td>2       </td><td>2       </td><td> 82000  </td></tr>\n",
       "\t<tr><td>638     </td><td> 843.246</td><td> 2      </td><td>18      </td><td>1       </td><td>1       </td><td>1       </td><td> 53000  </td></tr>\n",
       "\t<tr><td>639     </td><td>1889.298</td><td>18      </td><td>21      </td><td>3       </td><td>2       </td><td>2       </td><td> 70000  </td></tr>\n",
       "\t<tr><td>640     </td><td>1266.648</td><td> 6      </td><td> 7      </td><td>3       </td><td>2       </td><td>2       </td><td> 40000  </td></tr>\n",
       "\t<tr><td>641     </td><td>1707.840</td><td> 9      </td><td> 9      </td><td>4       </td><td>2       </td><td>2       </td><td> 60000  </td></tr>\n",
       "\t<tr><td>642     </td><td>1707.840</td><td> 9      </td><td>15      </td><td>3       </td><td>2       </td><td>2       </td><td> 80000  </td></tr>\n",
       "\t<tr><td>643     </td><td>2846.400</td><td> 5      </td><td>12      </td><td>4       </td><td>2       </td><td>2       </td><td>138888  </td></tr>\n",
       "\t<tr><td>644     </td><td>1359.156</td><td> 7      </td><td>15      </td><td>3       </td><td>2       </td><td>2       </td><td> 45000  </td></tr>\n",
       "\t<tr><td>645     </td><td> 377.148</td><td> 4      </td><td>10      </td><td>1       </td><td>1       </td><td>1       </td><td> 24800  </td></tr>\n",
       "\t<tr><td>646     </td><td> 740.064</td><td>13      </td><td>14      </td><td>1       </td><td>1       </td><td>1       </td><td> 45000  </td></tr>\n",
       "\t<tr><td>647     </td><td>1707.840</td><td> 3      </td><td>14      </td><td>3       </td><td>2       </td><td>2       </td><td> 65000  </td></tr>\n",
       "\t<tr><td>648     </td><td>1376.946</td><td> 6      </td><td> 7      </td><td>3       </td><td>2       </td><td>1       </td><td> 36000  </td></tr>\n",
       "</tbody>\n",
       "</table>\n"
      ],
      "text/latex": [
       "\\begin{tabular}{r|llllllll}\n",
       " X & Sqft & Floor & TotalFloor & Bedroom & Living.Room & Bathroom & Price\\\\\n",
       "\\hline\n",
       "\t  1       & 1177.698 &  2       &  7       & 2        & 2        & 2        &  62000  \\\\\n",
       "\t  2       & 2134.800 &  5       &  7       & 4        & 2        & 2        &  78000  \\\\\n",
       "\t  3       & 1138.560 &  5       &  7       & 2        & 2        & 1        &  58000  \\\\\n",
       "\t  4       & 1458.780 &  2       &  7       & 3        & 2        & 2        &  45000  \\\\\n",
       "\t  5       &  967.776 & 11       & 14       & 3        & 2        & 2        &  45000  \\\\\n",
       "\t  6       & 1127.886 & 11       & 12       & 4        & 2        & 2        & 148000  \\\\\n",
       "\t  7       & 1352.040 &  5       &  7       & 3        & 2        & 1        &  58000  \\\\\n",
       "\t  8       &  757.854 &  5       & 14       & 1        & 0        & 1        &  48000  \\\\\n",
       "\t  9       & 1152.792 & 10       & 12       & 3        & 2        & 2        &  45000  \\\\\n",
       "\t 10       & 1423.200 &  4       &  5       & 4        & 2        & 2        &  65000  \\\\\n",
       "\t 11       &  668.904 &  4       & 11       & 1        & 1        & 1        &  31000  \\\\\n",
       "\t 12       &  711.600 &  4       &  7       & 2        & 1        & 1        &  29002  \\\\\n",
       "\t 13       & 1352.040 &  9       & 19       & 4        & 2        & 2        &  39000  \\\\\n",
       "\t 14       &  818.340 &  4       & 13       & 2        & 2        & 1        &  48000  \\\\\n",
       "\t 15       & 2134.800 & 10       & 19       & 3        & 2        & 2        &  55000  \\\\\n",
       "\t 16       & 2768.124 &  6       & 19       & 3        & 2        & 2        & 100000  \\\\\n",
       "\t 17       &  711.600 &  5       & 13       & 2        & 2        & 1        &  48000  \\\\\n",
       "\t 18       &  462.540 &  5       & 13       & 1        & 1        & 1        &  25000  \\\\\n",
       "\t 19       & 2739.660 &  6       & 19       & 3        & 2        & 2        &  90000  \\\\\n",
       "\t 20       & 1174.140 &  3       &  9       & 3        & 2        & 1        &  33000  \\\\\n",
       "\t 21       & 2490.600 & 19       & 21       & 5        & 3        & 4        & 140000  \\\\\n",
       "\t 22       & 2768.124 &  6       & 19       & 3        & 2        & 2        & 100000  \\\\\n",
       "\t 23       &  747.180 &  7       & 15       & 2        & 2        & 1        &  55000  \\\\\n",
       "\t 24       & 1668.702 &  4       & 12       & 3        & 2        & 2        & 105000  \\\\\n",
       "\t 25       & 3664.740 & 19       & 19       & 3        & 2        & 3        & 200000  \\\\\n",
       "\t 26       & 1779.000 & 10       & 12       & 4        & 2        & 2        &  98000  \\\\\n",
       "\t 27       & 3664.740 & 19       & 19       & 3        & 2        & 3        & 200000  \\\\\n",
       "\t 28       & 3059.880 & 21       & 24       & 4        & 2        & 3        & 145000  \\\\\n",
       "\t 29       &  533.700 &  3       &  4       & 1        & 1        & 1        &  25000  \\\\\n",
       "\t 30       &  853.920 &  6       &  7       & 2        & 1        & 1        &  24028  \\\\\n",
       "\t ... & ... & ... & ... & ... & ... & ... & ...\\\\\n",
       "\t 619      & 1857.276 &  2       & 14       & 3        & 2        & 2        &  45000  \\\\\n",
       "\t 620      & 1102.980 &  6       &  7       & 3        & 2        & 2        &  65000  \\\\\n",
       "\t 621      &  925.080 &  2       &  4       & 2        & 1        & 1        &  32000  \\\\\n",
       "\t 622      & 2312.700 & 11       & 14       & 3        & 2        & 2        &  99999  \\\\\n",
       "\t 623      &  925.080 &  4       &  9       & 3        & 2        & 2        &  45000  \\\\\n",
       "\t 624      &  711.600 &  1       &  1       & 3        & 1        & 1        &  12000  \\\\\n",
       "\t 625      & 4198.440 & 15       & 19       & 7        & 3        & 4        & 180000  \\\\\n",
       "\t 626      & 3095.460 &  1       &  6       & 4        & 2        & 3        & 100000  \\\\\n",
       "\t 627      & 2590.224 &  5       & 15       & 3        & 2        & 3        & 110000  \\\\\n",
       "\t 628      & 1885.740 &  8       & 13       & 3        & 2        & 2        & 120000  \\\\\n",
       "\t 629      & 1245.300 &  1       & 14       & 3        & 2        & 2        &  55000  \\\\\n",
       "\t 630      & 1174.140 & 10       & 12       & 3        & 2        & 2        &  41000  \\\\\n",
       "\t 631      & 1458.780 &  6       &  7       & 2        & 2        & 2        &  75000  \\\\\n",
       "\t 632      & 1305.786 &  9       & 12       & 3        & 2        & 2        &  42000  \\\\\n",
       "\t 633      & 1316.460 & 12       & 12       & 3        & 2        & 2        &  45000  \\\\\n",
       "\t 634      & 1167.024 &  2       & 12       & 3        & 2        & 2        &  38000  \\\\\n",
       "\t 635      &  996.240 &  3       &  5       & 3        & 1        & 1        &  28000  \\\\\n",
       "\t 636      & 1099.422 &  2       &  7       & 4        & 2        & 2        &  57777  \\\\\n",
       "\t 637      & 2042.292 &  6       & 18       & 2        & 2        & 2        &  82000  \\\\\n",
       "\t 638      &  843.246 &  2       & 18       & 1        & 1        & 1        &  53000  \\\\\n",
       "\t 639      & 1889.298 & 18       & 21       & 3        & 2        & 2        &  70000  \\\\\n",
       "\t 640      & 1266.648 &  6       &  7       & 3        & 2        & 2        &  40000  \\\\\n",
       "\t 641      & 1707.840 &  9       &  9       & 4        & 2        & 2        &  60000  \\\\\n",
       "\t 642      & 1707.840 &  9       & 15       & 3        & 2        & 2        &  80000  \\\\\n",
       "\t 643      & 2846.400 &  5       & 12       & 4        & 2        & 2        & 138888  \\\\\n",
       "\t 644      & 1359.156 &  7       & 15       & 3        & 2        & 2        &  45000  \\\\\n",
       "\t 645      &  377.148 &  4       & 10       & 1        & 1        & 1        &  24800  \\\\\n",
       "\t 646      &  740.064 & 13       & 14       & 1        & 1        & 1        &  45000  \\\\\n",
       "\t 647      & 1707.840 &  3       & 14       & 3        & 2        & 2        &  65000  \\\\\n",
       "\t 648      & 1376.946 &  6       &  7       & 3        & 2        & 1        &  36000  \\\\\n",
       "\\end{tabular}\n"
      ],
      "text/markdown": [
       "\n",
       "X | Sqft | Floor | TotalFloor | Bedroom | Living.Room | Bathroom | Price | \n",
       "|---|---|---|---|---|---|---|---|---|---|---|---|---|---|---|---|---|---|---|---|---|---|---|---|---|---|---|---|---|---|---|---|---|---|---|---|---|---|---|---|---|---|---|---|---|---|---|---|---|---|---|---|---|---|---|---|---|---|---|---|---|\n",
       "|  1       | 1177.698 |  2       |  7       | 2        | 2        | 2        |  62000   | \n",
       "|  2       | 2134.800 |  5       |  7       | 4        | 2        | 2        |  78000   | \n",
       "|  3       | 1138.560 |  5       |  7       | 2        | 2        | 1        |  58000   | \n",
       "|  4       | 1458.780 |  2       |  7       | 3        | 2        | 2        |  45000   | \n",
       "|  5       |  967.776 | 11       | 14       | 3        | 2        | 2        |  45000   | \n",
       "|  6       | 1127.886 | 11       | 12       | 4        | 2        | 2        | 148000   | \n",
       "|  7       | 1352.040 |  5       |  7       | 3        | 2        | 1        |  58000   | \n",
       "|  8       |  757.854 |  5       | 14       | 1        | 0        | 1        |  48000   | \n",
       "|  9       | 1152.792 | 10       | 12       | 3        | 2        | 2        |  45000   | \n",
       "| 10       | 1423.200 |  4       |  5       | 4        | 2        | 2        |  65000   | \n",
       "| 11       |  668.904 |  4       | 11       | 1        | 1        | 1        |  31000   | \n",
       "| 12       |  711.600 |  4       |  7       | 2        | 1        | 1        |  29002   | \n",
       "| 13       | 1352.040 |  9       | 19       | 4        | 2        | 2        |  39000   | \n",
       "| 14       |  818.340 |  4       | 13       | 2        | 2        | 1        |  48000   | \n",
       "| 15       | 2134.800 | 10       | 19       | 3        | 2        | 2        |  55000   | \n",
       "| 16       | 2768.124 |  6       | 19       | 3        | 2        | 2        | 100000   | \n",
       "| 17       |  711.600 |  5       | 13       | 2        | 2        | 1        |  48000   | \n",
       "| 18       |  462.540 |  5       | 13       | 1        | 1        | 1        |  25000   | \n",
       "| 19       | 2739.660 |  6       | 19       | 3        | 2        | 2        |  90000   | \n",
       "| 20       | 1174.140 |  3       |  9       | 3        | 2        | 1        |  33000   | \n",
       "| 21       | 2490.600 | 19       | 21       | 5        | 3        | 4        | 140000   | \n",
       "| 22       | 2768.124 |  6       | 19       | 3        | 2        | 2        | 100000   | \n",
       "| 23       |  747.180 |  7       | 15       | 2        | 2        | 1        |  55000   | \n",
       "| 24       | 1668.702 |  4       | 12       | 3        | 2        | 2        | 105000   | \n",
       "| 25       | 3664.740 | 19       | 19       | 3        | 2        | 3        | 200000   | \n",
       "| 26       | 1779.000 | 10       | 12       | 4        | 2        | 2        |  98000   | \n",
       "| 27       | 3664.740 | 19       | 19       | 3        | 2        | 3        | 200000   | \n",
       "| 28       | 3059.880 | 21       | 24       | 4        | 2        | 3        | 145000   | \n",
       "| 29       |  533.700 |  3       |  4       | 1        | 1        | 1        |  25000   | \n",
       "| 30       |  853.920 |  6       |  7       | 2        | 1        | 1        |  24028   | \n",
       "| ... | ... | ... | ... | ... | ... | ... | ... | \n",
       "| 619      | 1857.276 |  2       | 14       | 3        | 2        | 2        |  45000   | \n",
       "| 620      | 1102.980 |  6       |  7       | 3        | 2        | 2        |  65000   | \n",
       "| 621      |  925.080 |  2       |  4       | 2        | 1        | 1        |  32000   | \n",
       "| 622      | 2312.700 | 11       | 14       | 3        | 2        | 2        |  99999   | \n",
       "| 623      |  925.080 |  4       |  9       | 3        | 2        | 2        |  45000   | \n",
       "| 624      |  711.600 |  1       |  1       | 3        | 1        | 1        |  12000   | \n",
       "| 625      | 4198.440 | 15       | 19       | 7        | 3        | 4        | 180000   | \n",
       "| 626      | 3095.460 |  1       |  6       | 4        | 2        | 3        | 100000   | \n",
       "| 627      | 2590.224 |  5       | 15       | 3        | 2        | 3        | 110000   | \n",
       "| 628      | 1885.740 |  8       | 13       | 3        | 2        | 2        | 120000   | \n",
       "| 629      | 1245.300 |  1       | 14       | 3        | 2        | 2        |  55000   | \n",
       "| 630      | 1174.140 | 10       | 12       | 3        | 2        | 2        |  41000   | \n",
       "| 631      | 1458.780 |  6       |  7       | 2        | 2        | 2        |  75000   | \n",
       "| 632      | 1305.786 |  9       | 12       | 3        | 2        | 2        |  42000   | \n",
       "| 633      | 1316.460 | 12       | 12       | 3        | 2        | 2        |  45000   | \n",
       "| 634      | 1167.024 |  2       | 12       | 3        | 2        | 2        |  38000   | \n",
       "| 635      |  996.240 |  3       |  5       | 3        | 1        | 1        |  28000   | \n",
       "| 636      | 1099.422 |  2       |  7       | 4        | 2        | 2        |  57777   | \n",
       "| 637      | 2042.292 |  6       | 18       | 2        | 2        | 2        |  82000   | \n",
       "| 638      |  843.246 |  2       | 18       | 1        | 1        | 1        |  53000   | \n",
       "| 639      | 1889.298 | 18       | 21       | 3        | 2        | 2        |  70000   | \n",
       "| 640      | 1266.648 |  6       |  7       | 3        | 2        | 2        |  40000   | \n",
       "| 641      | 1707.840 |  9       |  9       | 4        | 2        | 2        |  60000   | \n",
       "| 642      | 1707.840 |  9       | 15       | 3        | 2        | 2        |  80000   | \n",
       "| 643      | 2846.400 |  5       | 12       | 4        | 2        | 2        | 138888   | \n",
       "| 644      | 1359.156 |  7       | 15       | 3        | 2        | 2        |  45000   | \n",
       "| 645      |  377.148 |  4       | 10       | 1        | 1        | 1        |  24800   | \n",
       "| 646      |  740.064 | 13       | 14       | 1        | 1        | 1        |  45000   | \n",
       "| 647      | 1707.840 |  3       | 14       | 3        | 2        | 2        |  65000   | \n",
       "| 648      | 1376.946 |  6       |  7       | 3        | 2        | 1        |  36000   | \n",
       "\n",
       "\n"
      ],
      "text/plain": [
       "    X   Sqft     Floor TotalFloor Bedroom Living.Room Bathroom Price \n",
       "1    1  1177.698  2     7         2       2           2         62000\n",
       "2    2  2134.800  5     7         4       2           2         78000\n",
       "3    3  1138.560  5     7         2       2           1         58000\n",
       "4    4  1458.780  2     7         3       2           2         45000\n",
       "5    5   967.776 11    14         3       2           2         45000\n",
       "6    6  1127.886 11    12         4       2           2        148000\n",
       "7    7  1352.040  5     7         3       2           1         58000\n",
       "8    8   757.854  5    14         1       0           1         48000\n",
       "9    9  1152.792 10    12         3       2           2         45000\n",
       "10  10  1423.200  4     5         4       2           2         65000\n",
       "11  11   668.904  4    11         1       1           1         31000\n",
       "12  12   711.600  4     7         2       1           1         29002\n",
       "13  13  1352.040  9    19         4       2           2         39000\n",
       "14  14   818.340  4    13         2       2           1         48000\n",
       "15  15  2134.800 10    19         3       2           2         55000\n",
       "16  16  2768.124  6    19         3       2           2        100000\n",
       "17  17   711.600  5    13         2       2           1         48000\n",
       "18  18   462.540  5    13         1       1           1         25000\n",
       "19  19  2739.660  6    19         3       2           2         90000\n",
       "20  20  1174.140  3     9         3       2           1         33000\n",
       "21  21  2490.600 19    21         5       3           4        140000\n",
       "22  22  2768.124  6    19         3       2           2        100000\n",
       "23  23   747.180  7    15         2       2           1         55000\n",
       "24  24  1668.702  4    12         3       2           2        105000\n",
       "25  25  3664.740 19    19         3       2           3        200000\n",
       "26  26  1779.000 10    12         4       2           2         98000\n",
       "27  27  3664.740 19    19         3       2           3        200000\n",
       "28  28  3059.880 21    24         4       2           3        145000\n",
       "29  29   533.700  3     4         1       1           1         25000\n",
       "30  30   853.920  6     7         2       1           1         24028\n",
       "... ... ...      ...   ...        ...     ...         ...      ...   \n",
       "616 619 1857.276  2    14         3       2           2         45000\n",
       "617 620 1102.980  6     7         3       2           2         65000\n",
       "618 621  925.080  2     4         2       1           1         32000\n",
       "619 622 2312.700 11    14         3       2           2         99999\n",
       "620 623  925.080  4     9         3       2           2         45000\n",
       "621 624  711.600  1     1         3       1           1         12000\n",
       "622 625 4198.440 15    19         7       3           4        180000\n",
       "623 626 3095.460  1     6         4       2           3        100000\n",
       "624 627 2590.224  5    15         3       2           3        110000\n",
       "625 628 1885.740  8    13         3       2           2        120000\n",
       "626 629 1245.300  1    14         3       2           2         55000\n",
       "627 630 1174.140 10    12         3       2           2         41000\n",
       "628 631 1458.780  6     7         2       2           2         75000\n",
       "629 632 1305.786  9    12         3       2           2         42000\n",
       "630 633 1316.460 12    12         3       2           2         45000\n",
       "631 634 1167.024  2    12         3       2           2         38000\n",
       "632 635  996.240  3     5         3       1           1         28000\n",
       "633 636 1099.422  2     7         4       2           2         57777\n",
       "634 637 2042.292  6    18         2       2           2         82000\n",
       "635 638  843.246  2    18         1       1           1         53000\n",
       "636 639 1889.298 18    21         3       2           2         70000\n",
       "637 640 1266.648  6     7         3       2           2         40000\n",
       "638 641 1707.840  9     9         4       2           2         60000\n",
       "639 642 1707.840  9    15         3       2           2         80000\n",
       "640 643 2846.400  5    12         4       2           2        138888\n",
       "641 644 1359.156  7    15         3       2           2         45000\n",
       "642 645  377.148  4    10         1       1           1         24800\n",
       "643 646  740.064 13    14         1       1           1         45000\n",
       "644 647 1707.840  3    14         3       2           2         65000\n",
       "645 648 1376.946  6     7         3       2           1         36000"
      ]
     },
     "metadata": {},
     "output_type": "display_data"
    }
   ],
   "source": [
    "read.csv('house_rental.csv.txt')"
   ]
  },
  {
   "cell_type": "code",
   "execution_count": 38,
   "metadata": {},
   "outputs": [],
   "source": [
    "write.csv(persons,\"persons.csv\")"
   ]
  },
  {
   "cell_type": "code",
   "execution_count": null,
   "metadata": {
    "collapsed": true
   },
   "outputs": [],
   "source": []
  }
 ],
 "metadata": {
  "kernelspec": {
   "display_name": "R",
   "language": "R",
   "name": "ir"
  },
  "language_info": {
   "codemirror_mode": "r",
   "file_extension": ".r",
   "mimetype": "text/x-r-source",
   "name": "R",
   "pygments_lexer": "r",
   "version": "3.3.2"
  }
 },
 "nbformat": 4,
 "nbformat_minor": 2
}
