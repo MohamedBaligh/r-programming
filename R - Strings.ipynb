{
 "cells": [
  {
   "cell_type": "code",
   "execution_count": 2,
   "metadata": {},
   "outputs": [],
   "source": [
    "st <- \"Hello\""
   ]
  },
  {
   "cell_type": "code",
   "execution_count": 5,
   "metadata": {},
   "outputs": [
    {
     "name": "stdout",
     "output_type": "stream",
     "text": [
      "[1] \"Hello\"\n",
      "[1] \"Hello\"\n",
      "[1] \"Hello\"\n"
     ]
    }
   ],
   "source": [
    "for ( i in 1:3 ) {\n",
    "    print(\"Hello\")\n",
    "}"
   ]
  },
  {
   "cell_type": "code",
   "execution_count": 7,
   "metadata": {},
   "outputs": [],
   "source": [
    "d = paste(\"Hello\",\"World\")"
   ]
  },
  {
   "cell_type": "code",
   "execution_count": 8,
   "metadata": {},
   "outputs": [
    {
     "data": {
      "text/html": [
       "'Hello World'"
      ],
      "text/latex": [
       "'Hello World'"
      ],
      "text/markdown": [
       "'Hello World'"
      ],
      "text/plain": [
       "[1] \"Hello World\""
      ]
     },
     "metadata": {},
     "output_type": "display_data"
    }
   ],
   "source": [
    "d"
   ]
  },
  {
   "cell_type": "code",
   "execution_count": 10,
   "metadata": {},
   "outputs": [
    {
     "name": "stdout",
     "output_type": "stream",
     "text": [
      "Hello Hey"
     ]
    }
   ],
   "source": [
    "x = cat(\"Hello\",\"Hey\")"
   ]
  },
  {
   "cell_type": "code",
   "execution_count": 11,
   "metadata": {},
   "outputs": [
    {
     "data": {
      "text/plain": [
       "NULL"
      ]
     },
     "metadata": {},
     "output_type": "display_data"
    }
   ],
   "source": [
    "x"
   ]
  },
  {
   "cell_type": "code",
   "execution_count": 12,
   "metadata": {},
   "outputs": [
    {
     "data": {
      "text/html": [
       "'hello'"
      ],
      "text/latex": [
       "'hello'"
      ],
      "text/markdown": [
       "'hello'"
      ],
      "text/plain": [
       "[1] \"hello\""
      ]
     },
     "metadata": {},
     "output_type": "display_data"
    }
   ],
   "source": [
    "tolower(\"Hello\")"
   ]
  },
  {
   "cell_type": "code",
   "execution_count": 13,
   "metadata": {},
   "outputs": [
    {
     "data": {
      "text/html": [
       "'HEY'"
      ],
      "text/latex": [
       "'HEY'"
      ],
      "text/markdown": [
       "'HEY'"
      ],
      "text/plain": [
       "[1] \"HEY\""
      ]
     },
     "metadata": {},
     "output_type": "display_data"
    }
   ],
   "source": [
    "toupper(\"Hey\")"
   ]
  },
  {
   "cell_type": "code",
   "execution_count": 14,
   "metadata": {},
   "outputs": [
    {
     "data": {
      "text/html": [
       "5"
      ],
      "text/latex": [
       "5"
      ],
      "text/markdown": [
       "5"
      ],
      "text/plain": [
       "[1] 5"
      ]
     },
     "metadata": {},
     "output_type": "display_data"
    }
   ],
   "source": [
    "nchar(\"Hello\")"
   ]
  },
  {
   "cell_type": "code",
   "execution_count": 15,
   "metadata": {},
   "outputs": [
    {
     "data": {
      "text/html": [
       "<ol class=list-inline>\n",
       "\t<li>5</li>\n",
       "\t<li>1</li>\n",
       "\t<li>4</li>\n",
       "</ol>\n"
      ],
      "text/latex": [
       "\\begin{enumerate*}\n",
       "\\item 5\n",
       "\\item 1\n",
       "\\item 4\n",
       "\\end{enumerate*}\n"
      ],
      "text/markdown": [
       "1. 5\n",
       "2. 1\n",
       "3. 4\n",
       "\n",
       "\n"
      ],
      "text/plain": [
       "[1] 5 1 4"
      ]
     },
     "metadata": {},
     "output_type": "display_data"
    }
   ],
   "source": [
    "nchar(c(\"Hello\",\"R\",\"User\"))"
   ]
  },
  {
   "cell_type": "code",
   "execution_count": 16,
   "metadata": {},
   "outputs": [
    {
     "data": {
      "text/html": [
       "'hell'"
      ],
      "text/latex": [
       "'hell'"
      ],
      "text/markdown": [
       "'hell'"
      ],
      "text/plain": [
       "[1] \"hell\""
      ]
     },
     "metadata": {},
     "output_type": "display_data"
    }
   ],
   "source": [
    "trimws(\" hell \")"
   ]
  },
  {
   "cell_type": "code",
   "execution_count": 17,
   "metadata": {
    "collapsed": true
   },
   "outputs": [],
   "source": [
    "dates <- c(\"Jan 3\", \"Feb 10\", \"Nov 15\")"
   ]
  },
  {
   "cell_type": "code",
   "execution_count": 20,
   "metadata": {},
   "outputs": [
    {
     "data": {
      "text/html": [
       "<ol class=list-inline>\n",
       "\t<li>'3'</li>\n",
       "\t<li>'10'</li>\n",
       "\t<li>'15'</li>\n",
       "</ol>\n"
      ],
      "text/latex": [
       "\\begin{enumerate*}\n",
       "\\item '3'\n",
       "\\item '10'\n",
       "\\item '15'\n",
       "\\end{enumerate*}\n"
      ],
      "text/markdown": [
       "1. '3'\n",
       "2. '10'\n",
       "3. '15'\n",
       "\n",
       "\n"
      ],
      "text/plain": [
       "[1] \"3\"  \"10\" \"15\""
      ]
     },
     "metadata": {},
     "output_type": "display_data"
    }
   ],
   "source": [
    "substr(dates,5,nchar(dates))"
   ]
  },
  {
   "cell_type": "code",
   "execution_count": 21,
   "metadata": {},
   "outputs": [
    {
     "data": {
      "text/html": [
       "<ol>\n",
       "\t<li><ol class=list-inline>\n",
       "\t<li>'a'</li>\n",
       "\t<li>'bb'</li>\n",
       "\t<li>'ccc'</li>\n",
       "</ol>\n",
       "</li>\n",
       "</ol>\n"
      ],
      "text/latex": [
       "\\begin{enumerate}\n",
       "\\item \\begin{enumerate*}\n",
       "\\item 'a'\n",
       "\\item 'bb'\n",
       "\\item 'ccc'\n",
       "\\end{enumerate*}\n",
       "\n",
       "\\end{enumerate}\n"
      ],
      "text/markdown": [
       "1. 1. 'a'\n",
       "2. 'bb'\n",
       "3. 'ccc'\n",
       "\n",
       "\n",
       "\n",
       "\n",
       "\n"
      ],
      "text/plain": [
       "[[1]]\n",
       "[1] \"a\"   \"bb\"  \"ccc\"\n"
      ]
     },
     "metadata": {},
     "output_type": "display_data"
    }
   ],
   "source": [
    "strsplit(\"a,bb,ccc\",split = \",\")"
   ]
  },
  {
   "cell_type": "code",
   "execution_count": 25,
   "metadata": {},
   "outputs": [],
   "source": [
    "stdnts <- strsplit(c(\"Tony, 26, Physics\", \"James, 25, Economics\"),split = \",\")"
   ]
  },
  {
   "cell_type": "code",
   "execution_count": 26,
   "metadata": {},
   "outputs": [
    {
     "data": {
      "text/html": [
       "<ol>\n",
       "\t<li><ol class=list-inline>\n",
       "\t<li>'Tony'</li>\n",
       "\t<li>' 26'</li>\n",
       "\t<li>' Physics'</li>\n",
       "</ol>\n",
       "</li>\n",
       "\t<li><ol class=list-inline>\n",
       "\t<li>'James'</li>\n",
       "\t<li>' 25'</li>\n",
       "\t<li>' Economics'</li>\n",
       "</ol>\n",
       "</li>\n",
       "</ol>\n"
      ],
      "text/latex": [
       "\\begin{enumerate}\n",
       "\\item \\begin{enumerate*}\n",
       "\\item 'Tony'\n",
       "\\item ' 26'\n",
       "\\item ' Physics'\n",
       "\\end{enumerate*}\n",
       "\n",
       "\\item \\begin{enumerate*}\n",
       "\\item 'James'\n",
       "\\item ' 25'\n",
       "\\item ' Economics'\n",
       "\\end{enumerate*}\n",
       "\n",
       "\\end{enumerate}\n"
      ],
      "text/markdown": [
       "1. 1. 'Tony'\n",
       "2. ' 26'\n",
       "3. ' Physics'\n",
       "\n",
       "\n",
       "\n",
       "2. 1. 'James'\n",
       "2. ' 25'\n",
       "3. ' Economics'\n",
       "\n",
       "\n",
       "\n",
       "\n",
       "\n"
      ],
      "text/plain": [
       "[[1]]\n",
       "[1] \"Tony\"     \" 26\"      \" Physics\"\n",
       "\n",
       "[[2]]\n",
       "[1] \"James\"      \" 25\"        \" Economics\"\n"
      ]
     },
     "metadata": {},
     "output_type": "display_data"
    }
   ],
   "source": [
    "stdnts"
   ]
  },
  {
   "cell_type": "code",
   "execution_count": 27,
   "metadata": {},
   "outputs": [
    {
     "data": {
      "text/html": [
       "3.14159265358979"
      ],
      "text/latex": [
       "3.14159265358979"
      ],
      "text/markdown": [
       "3.14159265358979"
      ],
      "text/plain": [
       "[1] 3.141593"
      ]
     },
     "metadata": {},
     "output_type": "display_data"
    }
   ],
   "source": [
    "pi"
   ]
  },
  {
   "cell_type": "code",
   "execution_count": 31,
   "metadata": {},
   "outputs": [
    {
     "data": {
      "text/html": [
       "'3.14'"
      ],
      "text/latex": [
       "'3.14'"
      ],
      "text/markdown": [
       "'3.14'"
      ],
      "text/plain": [
       "[1] \"3.14\""
      ]
     },
     "metadata": {},
     "output_type": "display_data"
    }
   ],
   "source": [
    "sprintf(\"%.2f\", pi)"
   ]
  },
  {
   "cell_type": "code",
   "execution_count": 32,
   "metadata": {},
   "outputs": [
    {
     "data": {
      "text/html": [
       "<span style=white-space:pre-wrap>'    3.14'</span>"
      ],
      "text/latex": [
       "'    3.14'"
      ],
      "text/markdown": [
       "<span style=white-space:pre-wrap>'    3.14'</span>"
      ],
      "text/plain": [
       "[1] \"    3.14\""
      ]
     },
     "metadata": {},
     "output_type": "display_data"
    }
   ],
   "source": [
    "sprintf(\"%8.2f\", pi)"
   ]
  },
  {
   "cell_type": "code",
   "execution_count": 34,
   "metadata": {},
   "outputs": [
    {
     "name": "stderr",
     "output_type": "stream",
     "text": [
      "Warning message in read.table(file = file, header = header, sep = sep, quote = quote, :\n",
      "\"incomplete final line found by readTableHeader on 'message.txt'\""
     ]
    },
    {
     "data": {
      "text/html": [
       "<table>\n",
       "<thead><tr><th scope=col>V1</th><th scope=col>V2</th><th scope=col>V3</th><th scope=col>V4</th><th scope=col>V5</th><th scope=col>V6</th></tr></thead>\n",
       "<tbody>\n",
       "\t<tr><td>2014-02-01           </td><td>09:20:25             </td><td>James                </td><td>Ken                  </td><td>Hey                  </td><td> Ken!                </td></tr>\n",
       "\t<tr><td>2014-02-01           </td><td>09:20:29             </td><td>Ken                  </td><td>James                </td><td>Hey                  </td><td> how are you?        </td></tr>\n",
       "\t<tr><td>2014-02-01           </td><td>09:20:41             </td><td>James                </td><td>Ken                  </td><td> I'm ok              </td><td> what about you?     </td></tr>\n",
       "\t<tr><td>2014-02-01           </td><td>09:21:03             </td><td>Ken                  </td><td>James                </td><td>I'm feeling excited! </td><td>                     </td></tr>\n",
       "\t<tr><td>2014-02-01           </td><td>09:21:26             </td><td>James                </td><td>Ken                  </td><td>What happens?        </td><td>                     </td></tr>\n",
       "</tbody>\n",
       "</table>\n"
      ],
      "text/latex": [
       "\\begin{tabular}{r|llllll}\n",
       " V1 & V2 & V3 & V4 & V5 & V6\\\\\n",
       "\\hline\n",
       "\t 2014-02-01            & 09:20:25              & James                 & Ken                   & Hey                   &  Ken!                \\\\\n",
       "\t 2014-02-01            & 09:20:29              & Ken                   & James                 & Hey                   &  how are you?        \\\\\n",
       "\t 2014-02-01            & 09:20:41              & James                 & Ken                   &  I'm ok               &  what about you?     \\\\\n",
       "\t 2014-02-01            & 09:21:03              & Ken                   & James                 & I'm feeling excited!  &                      \\\\\n",
       "\t 2014-02-01            & 09:21:26              & James                 & Ken                   & What happens?         &                      \\\\\n",
       "\\end{tabular}\n"
      ],
      "text/markdown": [
       "\n",
       "V1 | V2 | V3 | V4 | V5 | V6 | \n",
       "|---|---|---|---|---|\n",
       "| 2014-02-01            | 09:20:25              | James                 | Ken                   | Hey                   |  Ken!                 | \n",
       "| 2014-02-01            | 09:20:29              | Ken                   | James                 | Hey                   |  how are you?         | \n",
       "| 2014-02-01            | 09:20:41              | James                 | Ken                   |  I'm ok               |  what about you?      | \n",
       "| 2014-02-01            | 09:21:03              | Ken                   | James                 | I'm feeling excited!  |                       | \n",
       "| 2014-02-01            | 09:21:26              | James                 | Ken                   | What happens?         |                       | \n",
       "\n",
       "\n"
      ],
      "text/plain": [
       "  V1         V2       V3    V4    V5                    V6               \n",
       "1 2014-02-01 09:20:25 James Ken   Hey                    Ken!            \n",
       "2 2014-02-01 09:20:29 Ken   James Hey                    how are you?    \n",
       "3 2014-02-01 09:20:41 James Ken    I'm ok                what about you? \n",
       "4 2014-02-01 09:21:03 Ken   James I'm feeling excited!                   \n",
       "5 2014-02-01 09:21:26 James Ken   What happens?                          "
      ]
     },
     "metadata": {},
     "output_type": "display_data"
    }
   ],
   "source": [
    "read.csv('message.txt', header = FALSE)"
   ]
  },
  {
   "cell_type": "code",
   "execution_count": 40,
   "metadata": {},
   "outputs": [],
   "source": [
    "fruits <- readLines(\"fruits.txt\")"
   ]
  },
  {
   "cell_type": "code",
   "execution_count": 57,
   "metadata": {},
   "outputs": [
    {
     "data": {
      "text/html": [
       "<ol class=list-inline>\n",
       "\t<li>'apple: 20 '</li>\n",
       "\t<li>'orange: missing '</li>\n",
       "\t<li>'banana: 30 '</li>\n",
       "\t<li>'pear: sent to Jerry '</li>\n",
       "\t<li>'watermelon: 2 '</li>\n",
       "\t<li>'blueberry: 12 '</li>\n",
       "\t<li>'strawberry: sent to James'</li>\n",
       "</ol>\n"
      ],
      "text/latex": [
       "\\begin{enumerate*}\n",
       "\\item 'apple: 20 '\n",
       "\\item 'orange: missing '\n",
       "\\item 'banana: 30 '\n",
       "\\item 'pear: sent to Jerry '\n",
       "\\item 'watermelon: 2 '\n",
       "\\item 'blueberry: 12 '\n",
       "\\item 'strawberry: sent to James'\n",
       "\\end{enumerate*}\n"
      ],
      "text/markdown": [
       "1. 'apple: 20 '\n",
       "2. 'orange: missing '\n",
       "3. 'banana: 30 '\n",
       "4. 'pear: sent to Jerry '\n",
       "5. 'watermelon: 2 '\n",
       "6. 'blueberry: 12 '\n",
       "7. 'strawberry: sent to James'\n",
       "\n",
       "\n"
      ],
      "text/plain": [
       "[1] \"apple: 20 \"                \"orange: missing \"         \n",
       "[3] \"banana: 30 \"               \"pear: sent to Jerry \"     \n",
       "[5] \"watermelon: 2 \"            \"blueberry: 12 \"           \n",
       "[7] \"strawberry: sent to James\""
      ]
     },
     "metadata": {},
     "output_type": "display_data"
    }
   ],
   "source": [
    "fruits"
   ]
  },
  {
   "cell_type": "code",
   "execution_count": 58,
   "metadata": {},
   "outputs": [],
   "source": [
    "matches <- grep(\"^\\\\w+:\\\\s\\\\d\", fruits)"
   ]
  },
  {
   "cell_type": "markdown",
   "metadata": {},
   "source": [
    "* ^: This symbol is used at the beginning of the line\n",
    "* \\w: This symbol represents a word character\n",
    "* \\s: This symbol is a space character\n",
    "* \\d: This symbol is a digit character\n",
    "* $: This symbol is used at the end of the line"
   ]
  },
  {
   "cell_type": "code",
   "execution_count": 56,
   "metadata": {},
   "outputs": [
    {
     "data": {
      "text/html": [
       "<ol class=list-inline>\n",
       "\t<li>2</li>\n",
       "\t<li>3</li>\n",
       "\t<li>4</li>\n",
       "</ol>\n"
      ],
      "text/latex": [
       "\\begin{enumerate*}\n",
       "\\item 2\n",
       "\\item 3\n",
       "\\item 4\n",
       "\\end{enumerate*}\n"
      ],
      "text/markdown": [
       "1. 2\n",
       "2. 3\n",
       "3. 4\n",
       "\n",
       "\n"
      ],
      "text/plain": [
       "[1] 2 3 4"
      ]
     },
     "metadata": {},
     "output_type": "display_data"
    }
   ],
   "source": [
    "grep(\"\\\\d\", c(\"abc\", \"a12\", \"123\", \"1\"))"
   ]
  },
  {
   "cell_type": "code",
   "execution_count": 59,
   "metadata": {},
   "outputs": [
    {
     "data": {
      "text/html": [
       "<ol class=list-inline>\n",
       "\t<li>1</li>\n",
       "\t<li>3</li>\n",
       "\t<li>5</li>\n",
       "\t<li>6</li>\n",
       "</ol>\n"
      ],
      "text/latex": [
       "\\begin{enumerate*}\n",
       "\\item 1\n",
       "\\item 3\n",
       "\\item 5\n",
       "\\item 6\n",
       "\\end{enumerate*}\n"
      ],
      "text/markdown": [
       "1. 1\n",
       "2. 3\n",
       "3. 5\n",
       "4. 6\n",
       "\n",
       "\n"
      ],
      "text/plain": [
       "[1] 1 3 5 6"
      ]
     },
     "metadata": {},
     "output_type": "display_data"
    }
   ],
   "source": [
    "matches"
   ]
  },
  {
   "cell_type": "code",
   "execution_count": 60,
   "metadata": {},
   "outputs": [
    {
     "data": {
      "text/html": [
       "<ol class=list-inline>\n",
       "\t<li>1</li>\n",
       "\t<li>2</li>\n",
       "</ol>\n"
      ],
      "text/latex": [
       "\\begin{enumerate*}\n",
       "\\item 1\n",
       "\\item 2\n",
       "\\end{enumerate*}\n"
      ],
      "text/markdown": [
       "1. 1\n",
       "2. 2\n",
       "\n",
       "\n"
      ],
      "text/plain": [
       "[1] 1 2"
      ]
     },
     "metadata": {},
     "output_type": "display_data"
    }
   ],
   "source": [
    "grep(\"@\",c(\"abc@123\", \"def@12\", \"gh\"))"
   ]
  },
  {
   "cell_type": "code",
   "execution_count": null,
   "metadata": {
    "collapsed": true
   },
   "outputs": [],
   "source": []
  }
 ],
 "metadata": {
  "kernelspec": {
   "display_name": "R",
   "language": "R",
   "name": "ir"
  },
  "language_info": {
   "codemirror_mode": "r",
   "file_extension": ".r",
   "mimetype": "text/x-r-source",
   "name": "R",
   "pygments_lexer": "r",
   "version": "3.3.2"
  }
 },
 "nbformat": 4,
 "nbformat_minor": 2
}
