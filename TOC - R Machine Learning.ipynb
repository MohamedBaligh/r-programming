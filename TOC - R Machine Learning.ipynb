{
 "cells": [
  {
   "cell_type": "markdown",
   "metadata": {},
   "source": [
    "### TOC of Supervised Machine Learning\n",
    "* Fitting a linear regression model with lm\n",
    "* Summarizing linear model fits\n",
    "* Using linear regression to predict unknown values\n",
    "* Measuring the performance of the regression model\n",
    "* Performing a multiple regression analysis\n",
    "* Selecting the best-fitted regression model with stepwise regression\n",
    "* Applying the Gaussian model for generalized linear regression\n",
    "* Performing a logistic regression analysis\n",
    "* Building a classification model with recursive partitioning trees\n",
    "* Visualizing a recursive partitioning tree\n",
    "* Measuring model performance with a confusion matrix\n",
    "* Measuring prediction performance using ROCR"
   ]
  },
  {
   "cell_type": "markdown",
   "metadata": {},
   "source": [
    "### Unsupervised Machine Learning\n",
    "* Clustering data with hierarchical clustering\n",
    "* Cutting trees into clusters\n",
    "* Clustering data with the k-means method\n",
    "* Clustering data with the density-based method\n",
    "* Extracting silhouette information from clustering\n",
    "* Comparing clustering methods\n",
    "* Recognizing digits using density-based clustering methods\n",
    "* Grouping similar text documents with k-means clustering methods\n",
    "* Performing dimension reduction with Principal Component Analysis (PCA)\n",
    "* Determining the number of principal components using a scree plot\n",
    "* Determining the number of principal components using the Kaiser method\n",
    "* Visualizing multivariate data using a biplot"
   ]
  },
  {
   "cell_type": "code",
   "execution_count": null,
   "metadata": {
    "collapsed": true
   },
   "outputs": [],
   "source": []
  }
 ],
 "metadata": {
  "kernelspec": {
   "display_name": "R",
   "language": "R",
   "name": "ir"
  },
  "language_info": {
   "codemirror_mode": "r",
   "file_extension": ".r",
   "mimetype": "text/x-r-source",
   "name": "R",
   "pygments_lexer": "r",
   "version": "3.3.2"
  }
 },
 "nbformat": 4,
 "nbformat_minor": 2
}
