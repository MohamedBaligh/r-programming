{
 "cells": [
  {
   "cell_type": "code",
   "execution_count": 1,
   "metadata": {},
   "outputs": [
    {
     "data": {
      "text/html": [
       "'hello'"
      ],
      "text/latex": [
       "'hello'"
      ],
      "text/markdown": [
       "'hello'"
      ],
      "text/plain": [
       "[1] \"hello\""
      ]
     },
     "metadata": {},
     "output_type": "display_data"
    }
   ],
   "source": [
    "\"hello\""
   ]
  },
  {
   "cell_type": "code",
   "execution_count": 2,
   "metadata": {
    "collapsed": true
   },
   "outputs": [],
   "source": [
    "str1 <- \"Hello World\""
   ]
  },
  {
   "cell_type": "code",
   "execution_count": 3,
   "metadata": {},
   "outputs": [
    {
     "data": {
      "text/html": [
       "'Hello World'"
      ],
      "text/latex": [
       "'Hello World'"
      ],
      "text/markdown": [
       "'Hello World'"
      ],
      "text/plain": [
       "[1] \"Hello World\""
      ]
     },
     "metadata": {},
     "output_type": "display_data"
    }
   ],
   "source": [
    "str1"
   ]
  },
  {
   "cell_type": "code",
   "execution_count": 4,
   "metadata": {},
   "outputs": [
    {
     "name": "stdout",
     "output_type": "stream",
     "text": [
      "Hello World"
     ]
    }
   ],
   "source": [
    "cat(\"Hello\",\"World\")"
   ]
  },
  {
   "cell_type": "code",
   "execution_count": 5,
   "metadata": {},
   "outputs": [
    {
     "data": {
      "text/html": [
       "<ol class=list-inline>\n",
       "\t<li>'A C'</li>\n",
       "\t<li>'B D'</li>\n",
       "</ol>\n"
      ],
      "text/latex": [
       "\\begin{enumerate*}\n",
       "\\item 'A C'\n",
       "\\item 'B D'\n",
       "\\end{enumerate*}\n"
      ],
      "text/markdown": [
       "1. 'A C'\n",
       "2. 'B D'\n",
       "\n",
       "\n"
      ],
      "text/plain": [
       "[1] \"A C\" \"B D\""
      ]
     },
     "metadata": {},
     "output_type": "display_data"
    }
   ],
   "source": [
    "paste(c(\"A\",\"B\"),c(\"C\",\"D\"))"
   ]
  },
  {
   "cell_type": "code",
   "execution_count": 6,
   "metadata": {},
   "outputs": [
    {
     "data": {
      "text/html": [
       "'HELLO'"
      ],
      "text/latex": [
       "'HELLO'"
      ],
      "text/markdown": [
       "'HELLO'"
      ],
      "text/plain": [
       "[1] \"HELLO\""
      ]
     },
     "metadata": {},
     "output_type": "display_data"
    }
   ],
   "source": [
    "toupper(\"Hello\")"
   ]
  },
  {
   "cell_type": "code",
   "execution_count": 7,
   "metadata": {},
   "outputs": [
    {
     "data": {
      "text/html": [
       "6"
      ],
      "text/latex": [
       "6"
      ],
      "text/markdown": [
       "6"
      ],
      "text/plain": [
       "[1] 6"
      ]
     },
     "metadata": {},
     "output_type": "display_data"
    }
   ],
   "source": [
    "nchar(\"Helllo\")"
   ]
  },
  {
   "cell_type": "code",
   "execution_count": 8,
   "metadata": {},
   "outputs": [
    {
     "data": {
      "text/html": [
       "<ol class=list-inline>\n",
       "\t<li>5</li>\n",
       "\t<li>5</li>\n",
       "</ol>\n"
      ],
      "text/latex": [
       "\\begin{enumerate*}\n",
       "\\item 5\n",
       "\\item 5\n",
       "\\end{enumerate*}\n"
      ],
      "text/markdown": [
       "1. 5\n",
       "2. 5\n",
       "\n",
       "\n"
      ],
      "text/plain": [
       "[1] 5 5"
      ]
     },
     "metadata": {},
     "output_type": "display_data"
    }
   ],
   "source": [
    "nchar(c(\"Hello\",\"World\"))"
   ]
  },
  {
   "cell_type": "code",
   "execution_count": 11,
   "metadata": {},
   "outputs": [
    {
     "data": {
      "text/html": [
       "<ol>\n",
       "\t<li><ol class=list-inline>\n",
       "\t<li>'Hell'</li>\n",
       "\t<li>',W'</li>\n",
       "\t<li>'rld'</li>\n",
       "</ol>\n",
       "</li>\n",
       "</ol>\n"
      ],
      "text/latex": [
       "\\begin{enumerate}\n",
       "\\item \\begin{enumerate*}\n",
       "\\item 'Hell'\n",
       "\\item ',W'\n",
       "\\item 'rld'\n",
       "\\end{enumerate*}\n",
       "\n",
       "\\end{enumerate}\n"
      ],
      "text/markdown": [
       "1. 1. 'Hell'\n",
       "2. ',W'\n",
       "3. 'rld'\n",
       "\n",
       "\n",
       "\n",
       "\n",
       "\n"
      ],
      "text/plain": [
       "[[1]]\n",
       "[1] \"Hell\" \",W\"   \"rld\" \n"
      ]
     },
     "metadata": {},
     "output_type": "display_data"
    }
   ],
   "source": [
    "strsplit(\"Hello,World\",split = \"o\")"
   ]
  },
  {
   "cell_type": "markdown",
   "metadata": {},
   "source": [
    "### Formatting date/time"
   ]
  },
  {
   "cell_type": "code",
   "execution_count": 12,
   "metadata": {},
   "outputs": [
    {
     "data": {
      "text/html": [
       "<time datetime=\"2017-07-01\">2017-07-01</time>"
      ],
      "text/latex": [
       "2017-07-01"
      ],
      "text/markdown": [
       "2017-07-01"
      ],
      "text/plain": [
       "[1] \"2017-07-01\""
      ]
     },
     "metadata": {},
     "output_type": "display_data"
    }
   ],
   "source": [
    "Sys.Date()"
   ]
  },
  {
   "cell_type": "code",
   "execution_count": 14,
   "metadata": {},
   "outputs": [],
   "source": [
    "curr_time = Sys.time()"
   ]
  },
  {
   "cell_type": "code",
   "execution_count": 15,
   "metadata": {},
   "outputs": [
    {
     "data": {
      "text/plain": [
       "[1] \"2017-07-01 10:15:45 IST\""
      ]
     },
     "metadata": {},
     "output_type": "display_data"
    }
   ],
   "source": [
    "curr_time + 3"
   ]
  },
  {
   "cell_type": "code",
   "execution_count": 16,
   "metadata": {},
   "outputs": [
    {
     "data": {
      "text/plain": [
       "[1] \"2017-07-01 10:15:42 IST\""
      ]
     },
     "metadata": {},
     "output_type": "display_data"
    }
   ],
   "source": [
    "curr_time"
   ]
  },
  {
   "cell_type": "code",
   "execution_count": 20,
   "metadata": {},
   "outputs": [
    {
     "name": "stderr",
     "output_type": "stream",
     "text": [
      "Warning message in read.table(file = file, header = header, sep = sep, quote = quote, :\n",
      "\"incomplete final line found by readTableHeader on 'message.csv'\""
     ]
    },
    {
     "data": {
      "text/html": [
       "<table>\n",
       "<thead><tr><th scope=col>V1</th><th scope=col>V2</th><th scope=col>V3</th><th scope=col>V4</th><th scope=col>V5</th><th scope=col>V6</th></tr></thead>\n",
       "<tbody>\n",
       "\t<tr><td>2014-02-01           </td><td>09:20:25             </td><td>James                </td><td>Ken                  </td><td>Hey                  </td><td> Ken!                </td></tr>\n",
       "\t<tr><td>2014-02-01           </td><td>09:20:29             </td><td>Ken                  </td><td>James                </td><td>Hey                  </td><td> how are you?        </td></tr>\n",
       "\t<tr><td>2014-02-01           </td><td>09:20:41             </td><td>James                </td><td>Ken                  </td><td> I'm ok              </td><td> what about you?     </td></tr>\n",
       "\t<tr><td>2014-02-01           </td><td>09:21:03             </td><td>Ken                  </td><td>James                </td><td>I'm feeling excited! </td><td>                     </td></tr>\n",
       "\t<tr><td>2014-02-01           </td><td>09:21:26             </td><td>James                </td><td>Ken                  </td><td>What happens?        </td><td>                     </td></tr>\n",
       "</tbody>\n",
       "</table>\n"
      ],
      "text/latex": [
       "\\begin{tabular}{r|llllll}\n",
       " V1 & V2 & V3 & V4 & V5 & V6\\\\\n",
       "\\hline\n",
       "\t 2014-02-01            & 09:20:25              & James                 & Ken                   & Hey                   &  Ken!                \\\\\n",
       "\t 2014-02-01            & 09:20:29              & Ken                   & James                 & Hey                   &  how are you?        \\\\\n",
       "\t 2014-02-01            & 09:20:41              & James                 & Ken                   &  I'm ok               &  what about you?     \\\\\n",
       "\t 2014-02-01            & 09:21:03              & Ken                   & James                 & I'm feeling excited!  &                      \\\\\n",
       "\t 2014-02-01            & 09:21:26              & James                 & Ken                   & What happens?         &                      \\\\\n",
       "\\end{tabular}\n"
      ],
      "text/markdown": [
       "\n",
       "V1 | V2 | V3 | V4 | V5 | V6 | \n",
       "|---|---|---|---|---|\n",
       "| 2014-02-01            | 09:20:25              | James                 | Ken                   | Hey                   |  Ken!                 | \n",
       "| 2014-02-01            | 09:20:29              | Ken                   | James                 | Hey                   |  how are you?         | \n",
       "| 2014-02-01            | 09:20:41              | James                 | Ken                   |  I'm ok               |  what about you?      | \n",
       "| 2014-02-01            | 09:21:03              | Ken                   | James                 | I'm feeling excited!  |                       | \n",
       "| 2014-02-01            | 09:21:26              | James                 | Ken                   | What happens?         |                       | \n",
       "\n",
       "\n"
      ],
      "text/plain": [
       "  V1         V2       V3    V4    V5                    V6               \n",
       "1 2014-02-01 09:20:25 James Ken   Hey                    Ken!            \n",
       "2 2014-02-01 09:20:29 Ken   James Hey                    how are you?    \n",
       "3 2014-02-01 09:20:41 James Ken    I'm ok                what about you? \n",
       "4 2014-02-01 09:21:03 Ken   James I'm feeling excited!                   \n",
       "5 2014-02-01 09:21:26 James Ken   What happens?                          "
      ]
     },
     "metadata": {},
     "output_type": "display_data"
    }
   ],
   "source": [
    "read.csv(\"message.csv\",header = FALSE)"
   ]
  },
  {
   "cell_type": "code",
   "execution_count": 37,
   "metadata": {},
   "outputs": [],
   "source": [
    "fruits <- readLines(\"fruits.txt\")"
   ]
  },
  {
   "cell_type": "markdown",
   "metadata": {},
   "source": [
    "### Regualar Expression\n",
    "##### + 1 or more characters\n",
    "##### * 0 or more char\n",
    "##### ^ Symbol is used at the beginning of line \n",
    "##### \\w represents word character - alphabets, numeric or hyphen\n",
    "##### \\s space character\n",
    "##### \\d digit character\n",
    "#####  '$' end of line\n",
    "\n"
   ]
  },
  {
   "cell_type": "code",
   "execution_count": 41,
   "metadata": {},
   "outputs": [],
   "source": [
    "telephone <- c(\"123-4567\",\"456-7992\",\"34-678\")"
   ]
  },
  {
   "cell_type": "markdown",
   "metadata": {},
   "source": []
  },
  {
   "cell_type": "code",
   "execution_count": 44,
   "metadata": {},
   "outputs": [
    {
     "data": {
      "text/html": [
       "<ol class=list-inline>\n",
       "\t<li>'123-4567'</li>\n",
       "\t<li>'456-7992'</li>\n",
       "</ol>\n"
      ],
      "text/latex": [
       "\\begin{enumerate*}\n",
       "\\item '123-4567'\n",
       "\\item '456-7992'\n",
       "\\end{enumerate*}\n"
      ],
      "text/markdown": [
       "1. '123-4567'\n",
       "2. '456-7992'\n",
       "\n",
       "\n"
      ],
      "text/plain": [
       "[1] \"123-4567\" \"456-7992\""
      ]
     },
     "metadata": {},
     "output_type": "display_data"
    }
   ],
   "source": [
    "telephone[grep(\"^\\\\d{3}-\\\\d{4}\",telephone)]"
   ]
  },
  {
   "cell_type": "code",
   "execution_count": 51,
   "metadata": {
    "collapsed": true
   },
   "outputs": [],
   "source": [
    "emails <- c(\"awa@gmail.com\", \"awi@.om\")"
   ]
  },
  {
   "cell_type": "code",
   "execution_count": 53,
   "metadata": {},
   "outputs": [
    {
     "data": {
      "text/html": [
       "'awa@gmail.com'"
      ],
      "text/latex": [
       "'awa@gmail.com'"
      ],
      "text/markdown": [
       "'awa@gmail.com'"
      ],
      "text/plain": [
       "[1] \"awa@gmail.com\""
      ]
     },
     "metadata": {},
     "output_type": "display_data"
    }
   ],
   "source": [
    "emails[grep(\"^\\\\w*@\\\\w+.\\\\w*\",emails)]"
   ]
  },
  {
   "cell_type": "code",
   "execution_count": 58,
   "metadata": {},
   "outputs": [
    {
     "data": {
      "text/html": [
       "'awa@gmail.com'"
      ],
      "text/latex": [
       "'awa@gmail.com'"
      ],
      "text/markdown": [
       "'awa@gmail.com'"
      ],
      "text/plain": [
       "[1] \"awa@gmail.com\""
      ]
     },
     "metadata": {},
     "output_type": "display_data"
    }
   ],
   "source": [
    "emails[grep(\"com$\",emails)]"
   ]
  },
  {
   "cell_type": "code",
   "execution_count": 59,
   "metadata": {},
   "outputs": [
    {
     "data": {
      "text/html": [
       "'awa@gmail.com'"
      ],
      "text/latex": [
       "'awa@gmail.com'"
      ],
      "text/markdown": [
       "'awa@gmail.com'"
      ],
      "text/plain": [
       "[1] \"awa@gmail.com\""
      ]
     },
     "metadata": {},
     "output_type": "display_data"
    }
   ],
   "source": [
    "emails[grep(\"com$\",emails)]"
   ]
  },
  {
   "cell_type": "code",
   "execution_count": null,
   "metadata": {
    "collapsed": true
   },
   "outputs": [],
   "source": []
  }
 ],
 "metadata": {
  "kernelspec": {
   "display_name": "R",
   "language": "R",
   "name": "ir"
  },
  "language_info": {
   "codemirror_mode": "r",
   "file_extension": ".r",
   "mimetype": "text/x-r-source",
   "name": "R",
   "pygments_lexer": "r",
   "version": "3.3.2"
  }
 },
 "nbformat": 4,
 "nbformat_minor": 2
}
