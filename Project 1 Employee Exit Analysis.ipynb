{
 "cells": [
  {
   "cell_type": "code",
   "execution_count": 1,
   "metadata": {},
   "outputs": [
    {
     "data": {
      "text/html": [
       "<table>\n",
       "<thead><tr><th scope=col>satisfaction_level</th><th scope=col>last_evaluation</th><th scope=col>number_project</th><th scope=col>average_montly_hours</th><th scope=col>time_spend_company</th><th scope=col>Work_accident</th><th scope=col>left</th><th scope=col>promotion_last_5years</th><th scope=col>sales</th><th scope=col>salary</th></tr></thead>\n",
       "<tbody>\n",
       "\t<tr><td>0.38  </td><td>0.53  </td><td>2     </td><td>157   </td><td>3     </td><td>0     </td><td>1     </td><td>0     </td><td>sales </td><td>low   </td></tr>\n",
       "\t<tr><td>0.80  </td><td>0.86  </td><td>5     </td><td>262   </td><td>6     </td><td>0     </td><td>1     </td><td>0     </td><td>sales </td><td>medium</td></tr>\n",
       "\t<tr><td>0.11  </td><td>0.88  </td><td>7     </td><td>272   </td><td>4     </td><td>0     </td><td>1     </td><td>0     </td><td>sales </td><td>medium</td></tr>\n",
       "\t<tr><td>0.72  </td><td>0.87  </td><td>5     </td><td>223   </td><td>5     </td><td>0     </td><td>1     </td><td>0     </td><td>sales </td><td>low   </td></tr>\n",
       "\t<tr><td>0.37  </td><td>0.52  </td><td>2     </td><td>159   </td><td>3     </td><td>0     </td><td>1     </td><td>0     </td><td>sales </td><td>low   </td></tr>\n",
       "\t<tr><td>0.41  </td><td>0.50  </td><td>2     </td><td>153   </td><td>3     </td><td>0     </td><td>1     </td><td>0     </td><td>sales </td><td>low   </td></tr>\n",
       "</tbody>\n",
       "</table>\n"
      ],
      "text/latex": [
       "\\begin{tabular}{r|llllllllll}\n",
       " satisfaction\\_level & last\\_evaluation & number\\_project & average\\_montly\\_hours & time\\_spend\\_company & Work\\_accident & left & promotion\\_last\\_5years & sales & salary\\\\\n",
       "\\hline\n",
       "\t 0.38   & 0.53   & 2      & 157    & 3      & 0      & 1      & 0      & sales  & low   \\\\\n",
       "\t 0.80   & 0.86   & 5      & 262    & 6      & 0      & 1      & 0      & sales  & medium\\\\\n",
       "\t 0.11   & 0.88   & 7      & 272    & 4      & 0      & 1      & 0      & sales  & medium\\\\\n",
       "\t 0.72   & 0.87   & 5      & 223    & 5      & 0      & 1      & 0      & sales  & low   \\\\\n",
       "\t 0.37   & 0.52   & 2      & 159    & 3      & 0      & 1      & 0      & sales  & low   \\\\\n",
       "\t 0.41   & 0.50   & 2      & 153    & 3      & 0      & 1      & 0      & sales  & low   \\\\\n",
       "\\end{tabular}\n"
      ],
      "text/markdown": [
       "\n",
       "satisfaction_level | last_evaluation | number_project | average_montly_hours | time_spend_company | Work_accident | left | promotion_last_5years | sales | salary | \n",
       "|---|---|---|---|---|---|\n",
       "| 0.38   | 0.53   | 2      | 157    | 3      | 0      | 1      | 0      | sales  | low    | \n",
       "| 0.80   | 0.86   | 5      | 262    | 6      | 0      | 1      | 0      | sales  | medium | \n",
       "| 0.11   | 0.88   | 7      | 272    | 4      | 0      | 1      | 0      | sales  | medium | \n",
       "| 0.72   | 0.87   | 5      | 223    | 5      | 0      | 1      | 0      | sales  | low    | \n",
       "| 0.37   | 0.52   | 2      | 159    | 3      | 0      | 1      | 0      | sales  | low    | \n",
       "| 0.41   | 0.50   | 2      | 153    | 3      | 0      | 1      | 0      | sales  | low    | \n",
       "\n",
       "\n"
      ],
      "text/plain": [
       "  satisfaction_level last_evaluation number_project average_montly_hours\n",
       "1 0.38               0.53            2              157                 \n",
       "2 0.80               0.86            5              262                 \n",
       "3 0.11               0.88            7              272                 \n",
       "4 0.72               0.87            5              223                 \n",
       "5 0.37               0.52            2              159                 \n",
       "6 0.41               0.50            2              153                 \n",
       "  time_spend_company Work_accident left promotion_last_5years sales salary\n",
       "1 3                  0             1    0                     sales low   \n",
       "2 6                  0             1    0                     sales medium\n",
       "3 4                  0             1    0                     sales medium\n",
       "4 5                  0             1    0                     sales low   \n",
       "5 3                  0             1    0                     sales low   \n",
       "6 3                  0             1    0                     sales low   "
      ]
     },
     "metadata": {},
     "output_type": "display_data"
    },
    {
     "data": {
      "text/plain": [
       " satisfaction_level last_evaluation  number_project  average_montly_hours\n",
       " Min.   :0.0900     Min.   :0.3600   Min.   :2.000   Min.   : 96.0       \n",
       " 1st Qu.:0.4400     1st Qu.:0.5600   1st Qu.:3.000   1st Qu.:156.0       \n",
       " Median :0.6400     Median :0.7200   Median :4.000   Median :200.0       \n",
       " Mean   :0.6128     Mean   :0.7161   Mean   :3.803   Mean   :201.1       \n",
       " 3rd Qu.:0.8200     3rd Qu.:0.8700   3rd Qu.:5.000   3rd Qu.:245.0       \n",
       " Max.   :1.0000     Max.   :1.0000   Max.   :7.000   Max.   :310.0       \n",
       "                                                                         \n",
       " time_spend_company Work_accident         left        promotion_last_5years\n",
       " Min.   : 2.000     Min.   :0.0000   Min.   :0.0000   Min.   :0.00000      \n",
       " 1st Qu.: 3.000     1st Qu.:0.0000   1st Qu.:0.0000   1st Qu.:0.00000      \n",
       " Median : 3.000     Median :0.0000   Median :0.0000   Median :0.00000      \n",
       " Mean   : 3.498     Mean   :0.1446   Mean   :0.2381   Mean   :0.02127      \n",
       " 3rd Qu.: 4.000     3rd Qu.:0.0000   3rd Qu.:0.0000   3rd Qu.:0.00000      \n",
       " Max.   :10.000     Max.   :1.0000   Max.   :1.0000   Max.   :1.00000      \n",
       "                                                                           \n",
       "         sales         salary    \n",
       " sales      :4140   high  :1237  \n",
       " technical  :2720   low   :7316  \n",
       " support    :2229   medium:6446  \n",
       " IT         :1227                \n",
       " product_mng: 902                \n",
       " marketing  : 858                \n",
       " (Other)    :2923                "
      ]
     },
     "metadata": {},
     "output_type": "display_data"
    }
   ],
   "source": [
    "### Let us read the data\n",
    "\n",
    "data <- read.csv('HR_comma_sep.csv')\n",
    "head(data)\n",
    "summary(data)"
   ]
  },
  {
   "cell_type": "code",
   "execution_count": 2,
   "metadata": {
    "collapsed": true
   },
   "outputs": [],
   "source": [
    "### Convert sales and salary to factor\n",
    "\n",
    "data$sales <- as.factor(data$sales)"
   ]
  },
  {
   "cell_type": "code",
   "execution_count": 3,
   "metadata": {
    "collapsed": true
   },
   "outputs": [],
   "source": [
    "data$salary<- as.factor(data$salary)"
   ]
  },
  {
   "cell_type": "code",
   "execution_count": 4,
   "metadata": {},
   "outputs": [
    {
     "data": {
      "text/html": [
       "<table>\n",
       "<thead><tr><th scope=col>satisfaction_level</th><th scope=col>last_evaluation</th><th scope=col>number_project</th><th scope=col>average_montly_hours</th><th scope=col>time_spend_company</th><th scope=col>Work_accident</th><th scope=col>left</th><th scope=col>promotion_last_5years</th><th scope=col>sales</th><th scope=col>salary</th></tr></thead>\n",
       "<tbody>\n",
       "\t<tr><td>0.38  </td><td>0.53  </td><td>2     </td><td>157   </td><td>3     </td><td>0     </td><td>1     </td><td>0     </td><td>sales </td><td>low   </td></tr>\n",
       "\t<tr><td>0.80  </td><td>0.86  </td><td>5     </td><td>262   </td><td>6     </td><td>0     </td><td>1     </td><td>0     </td><td>sales </td><td>medium</td></tr>\n",
       "\t<tr><td>0.11  </td><td>0.88  </td><td>7     </td><td>272   </td><td>4     </td><td>0     </td><td>1     </td><td>0     </td><td>sales </td><td>medium</td></tr>\n",
       "\t<tr><td>0.72  </td><td>0.87  </td><td>5     </td><td>223   </td><td>5     </td><td>0     </td><td>1     </td><td>0     </td><td>sales </td><td>low   </td></tr>\n",
       "\t<tr><td>0.37  </td><td>0.52  </td><td>2     </td><td>159   </td><td>3     </td><td>0     </td><td>1     </td><td>0     </td><td>sales </td><td>low   </td></tr>\n",
       "\t<tr><td>0.41  </td><td>0.50  </td><td>2     </td><td>153   </td><td>3     </td><td>0     </td><td>1     </td><td>0     </td><td>sales </td><td>low   </td></tr>\n",
       "</tbody>\n",
       "</table>\n"
      ],
      "text/latex": [
       "\\begin{tabular}{r|llllllllll}\n",
       " satisfaction\\_level & last\\_evaluation & number\\_project & average\\_montly\\_hours & time\\_spend\\_company & Work\\_accident & left & promotion\\_last\\_5years & sales & salary\\\\\n",
       "\\hline\n",
       "\t 0.38   & 0.53   & 2      & 157    & 3      & 0      & 1      & 0      & sales  & low   \\\\\n",
       "\t 0.80   & 0.86   & 5      & 262    & 6      & 0      & 1      & 0      & sales  & medium\\\\\n",
       "\t 0.11   & 0.88   & 7      & 272    & 4      & 0      & 1      & 0      & sales  & medium\\\\\n",
       "\t 0.72   & 0.87   & 5      & 223    & 5      & 0      & 1      & 0      & sales  & low   \\\\\n",
       "\t 0.37   & 0.52   & 2      & 159    & 3      & 0      & 1      & 0      & sales  & low   \\\\\n",
       "\t 0.41   & 0.50   & 2      & 153    & 3      & 0      & 1      & 0      & sales  & low   \\\\\n",
       "\\end{tabular}\n"
      ],
      "text/markdown": [
       "\n",
       "satisfaction_level | last_evaluation | number_project | average_montly_hours | time_spend_company | Work_accident | left | promotion_last_5years | sales | salary | \n",
       "|---|---|---|---|---|---|\n",
       "| 0.38   | 0.53   | 2      | 157    | 3      | 0      | 1      | 0      | sales  | low    | \n",
       "| 0.80   | 0.86   | 5      | 262    | 6      | 0      | 1      | 0      | sales  | medium | \n",
       "| 0.11   | 0.88   | 7      | 272    | 4      | 0      | 1      | 0      | sales  | medium | \n",
       "| 0.72   | 0.87   | 5      | 223    | 5      | 0      | 1      | 0      | sales  | low    | \n",
       "| 0.37   | 0.52   | 2      | 159    | 3      | 0      | 1      | 0      | sales  | low    | \n",
       "| 0.41   | 0.50   | 2      | 153    | 3      | 0      | 1      | 0      | sales  | low    | \n",
       "\n",
       "\n"
      ],
      "text/plain": [
       "  satisfaction_level last_evaluation number_project average_montly_hours\n",
       "1 0.38               0.53            2              157                 \n",
       "2 0.80               0.86            5              262                 \n",
       "3 0.11               0.88            7              272                 \n",
       "4 0.72               0.87            5              223                 \n",
       "5 0.37               0.52            2              159                 \n",
       "6 0.41               0.50            2              153                 \n",
       "  time_spend_company Work_accident left promotion_last_5years sales salary\n",
       "1 3                  0             1    0                     sales low   \n",
       "2 6                  0             1    0                     sales medium\n",
       "3 4                  0             1    0                     sales medium\n",
       "4 5                  0             1    0                     sales low   \n",
       "5 3                  0             1    0                     sales low   \n",
       "6 3                  0             1    0                     sales low   "
      ]
     },
     "metadata": {},
     "output_type": "display_data"
    }
   ],
   "source": [
    "head(data)"
   ]
  },
  {
   "cell_type": "code",
   "execution_count": 5,
   "metadata": {
    "collapsed": true
   },
   "outputs": [],
   "source": [
    "data$salary<-ordered(data$salary,levels=c(\"low\",\"medium\",\"high\"))"
   ]
  },
  {
   "cell_type": "code",
   "execution_count": 6,
   "metadata": {},
   "outputs": [
    {
     "data": {
      "text/html": [
       "<table>\n",
       "<thead><tr><th scope=col>satisfaction_level</th><th scope=col>last_evaluation</th><th scope=col>number_project</th><th scope=col>average_montly_hours</th><th scope=col>time_spend_company</th><th scope=col>Work_accident</th><th scope=col>left</th><th scope=col>promotion_last_5years</th><th scope=col>sales</th><th scope=col>salary</th></tr></thead>\n",
       "<tbody>\n",
       "\t<tr><td>0.38      </td><td>0.53      </td><td>2         </td><td>157       </td><td>3         </td><td>0         </td><td>1         </td><td>0         </td><td>sales     </td><td>low       </td></tr>\n",
       "\t<tr><td>0.80      </td><td>0.86      </td><td>5         </td><td>262       </td><td>6         </td><td>0         </td><td>1         </td><td>0         </td><td>sales     </td><td>medium    </td></tr>\n",
       "\t<tr><td>0.11      </td><td>0.88      </td><td>7         </td><td>272       </td><td>4         </td><td>0         </td><td>1         </td><td>0         </td><td>sales     </td><td>medium    </td></tr>\n",
       "\t<tr><td>0.72      </td><td>0.87      </td><td>5         </td><td>223       </td><td>5         </td><td>0         </td><td>1         </td><td>0         </td><td>sales     </td><td>low       </td></tr>\n",
       "\t<tr><td>0.37      </td><td>0.52      </td><td>2         </td><td>159       </td><td>3         </td><td>0         </td><td>1         </td><td>0         </td><td>sales     </td><td>low       </td></tr>\n",
       "\t<tr><td>0.41      </td><td>0.50      </td><td>2         </td><td>153       </td><td>3         </td><td>0         </td><td>1         </td><td>0         </td><td>sales     </td><td>low       </td></tr>\n",
       "\t<tr><td>0.10      </td><td>0.77      </td><td>6         </td><td>247       </td><td>4         </td><td>0         </td><td>1         </td><td>0         </td><td>sales     </td><td>low       </td></tr>\n",
       "\t<tr><td>0.92      </td><td>0.85      </td><td>5         </td><td>259       </td><td>5         </td><td>0         </td><td>1         </td><td>0         </td><td>sales     </td><td>low       </td></tr>\n",
       "\t<tr><td>0.89      </td><td>1.00      </td><td>5         </td><td>224       </td><td>5         </td><td>0         </td><td>1         </td><td>0         </td><td>sales     </td><td>low       </td></tr>\n",
       "\t<tr><td>0.42      </td><td>0.53      </td><td>2         </td><td>142       </td><td>3         </td><td>0         </td><td>1         </td><td>0         </td><td>sales     </td><td>low       </td></tr>\n",
       "\t<tr><td>0.45      </td><td>0.54      </td><td>2         </td><td>135       </td><td>3         </td><td>0         </td><td>1         </td><td>0         </td><td>sales     </td><td>low       </td></tr>\n",
       "\t<tr><td>0.11      </td><td>0.81      </td><td>6         </td><td>305       </td><td>4         </td><td>0         </td><td>1         </td><td>0         </td><td>sales     </td><td>low       </td></tr>\n",
       "\t<tr><td>0.84      </td><td>0.92      </td><td>4         </td><td>234       </td><td>5         </td><td>0         </td><td>1         </td><td>0         </td><td>sales     </td><td>low       </td></tr>\n",
       "\t<tr><td>0.41      </td><td>0.55      </td><td>2         </td><td>148       </td><td>3         </td><td>0         </td><td>1         </td><td>0         </td><td>sales     </td><td>low       </td></tr>\n",
       "\t<tr><td>0.36      </td><td>0.56      </td><td>2         </td><td>137       </td><td>3         </td><td>0         </td><td>1         </td><td>0         </td><td>sales     </td><td>low       </td></tr>\n",
       "\t<tr><td>0.38      </td><td>0.54      </td><td>2         </td><td>143       </td><td>3         </td><td>0         </td><td>1         </td><td>0         </td><td>sales     </td><td>low       </td></tr>\n",
       "\t<tr><td>0.45      </td><td>0.47      </td><td>2         </td><td>160       </td><td>3         </td><td>0         </td><td>1         </td><td>0         </td><td>sales     </td><td>low       </td></tr>\n",
       "\t<tr><td>0.78      </td><td>0.99      </td><td>4         </td><td>255       </td><td>6         </td><td>0         </td><td>1         </td><td>0         </td><td>sales     </td><td>low       </td></tr>\n",
       "\t<tr><td>0.45      </td><td>0.51      </td><td>2         </td><td>160       </td><td>3         </td><td>1         </td><td>1         </td><td>1         </td><td>sales     </td><td>low       </td></tr>\n",
       "\t<tr><td>0.76      </td><td>0.89      </td><td>5         </td><td>262       </td><td>5         </td><td>0         </td><td>1         </td><td>0         </td><td>sales     </td><td>low       </td></tr>\n",
       "\t<tr><td>0.11      </td><td>0.83      </td><td>6         </td><td>282       </td><td>4         </td><td>0         </td><td>1         </td><td>0         </td><td>sales     </td><td>low       </td></tr>\n",
       "\t<tr><td>0.38      </td><td>0.55      </td><td>2         </td><td>147       </td><td>3         </td><td>0         </td><td>1         </td><td>0         </td><td>sales     </td><td>low       </td></tr>\n",
       "\t<tr><td>0.09      </td><td>0.95      </td><td>6         </td><td>304       </td><td>4         </td><td>0         </td><td>1         </td><td>0         </td><td>sales     </td><td>low       </td></tr>\n",
       "\t<tr><td>0.46      </td><td>0.57      </td><td>2         </td><td>139       </td><td>3         </td><td>0         </td><td>1         </td><td>0         </td><td>sales     </td><td>low       </td></tr>\n",
       "\t<tr><td>0.40      </td><td>0.53      </td><td>2         </td><td>158       </td><td>3         </td><td>0         </td><td>1         </td><td>0         </td><td>sales     </td><td>low       </td></tr>\n",
       "\t<tr><td>0.89      </td><td>0.92      </td><td>5         </td><td>242       </td><td>5         </td><td>0         </td><td>1         </td><td>0         </td><td>sales     </td><td>low       </td></tr>\n",
       "\t<tr><td>0.82      </td><td>0.87      </td><td>4         </td><td>239       </td><td>5         </td><td>0         </td><td>1         </td><td>0         </td><td>sales     </td><td>low       </td></tr>\n",
       "\t<tr><td>0.40      </td><td>0.49      </td><td>2         </td><td>135       </td><td>3         </td><td>0         </td><td>1         </td><td>0         </td><td>sales     </td><td>low       </td></tr>\n",
       "\t<tr><td>0.41      </td><td>0.46      </td><td>2         </td><td>128       </td><td>3         </td><td>0         </td><td>1         </td><td>0         </td><td>accounting</td><td>low       </td></tr>\n",
       "\t<tr><td>0.38      </td><td>0.50      </td><td>2         </td><td>132       </td><td>3         </td><td>0         </td><td>1         </td><td>0         </td><td>accounting</td><td>low       </td></tr>\n",
       "\t<tr><td>...</td><td>...</td><td>...</td><td>...</td><td>...</td><td>...</td><td>...</td><td>...</td><td>...</td><td>...</td></tr>\n",
       "\t<tr><td>0.43      </td><td>0.46      </td><td>2         </td><td>157       </td><td>3         </td><td>0         </td><td>1         </td><td>0         </td><td>sales     </td><td>medium    </td></tr>\n",
       "\t<tr><td>0.78      </td><td>0.93      </td><td>4         </td><td>225       </td><td>5         </td><td>0         </td><td>1         </td><td>0         </td><td>sales     </td><td>medium    </td></tr>\n",
       "\t<tr><td>0.39      </td><td>0.45      </td><td>2         </td><td>140       </td><td>3         </td><td>0         </td><td>1         </td><td>0         </td><td>sales     </td><td>medium    </td></tr>\n",
       "\t<tr><td>0.11      </td><td>0.97      </td><td>6         </td><td>310       </td><td>4         </td><td>0         </td><td>1         </td><td>0         </td><td>accounting</td><td>medium    </td></tr>\n",
       "\t<tr><td>0.36      </td><td>0.52      </td><td>2         </td><td>143       </td><td>3         </td><td>0         </td><td>1         </td><td>0         </td><td>accounting</td><td>medium    </td></tr>\n",
       "\t<tr><td>0.36      </td><td>0.54      </td><td>2         </td><td>153       </td><td>3         </td><td>0         </td><td>1         </td><td>0         </td><td>accounting</td><td>medium    </td></tr>\n",
       "\t<tr><td>0.10      </td><td>0.79      </td><td>7         </td><td>310       </td><td>4         </td><td>0         </td><td>1         </td><td>0         </td><td>hr        </td><td>medium    </td></tr>\n",
       "\t<tr><td>0.40      </td><td>0.47      </td><td>2         </td><td>136       </td><td>3         </td><td>0         </td><td>1         </td><td>0         </td><td>hr        </td><td>medium    </td></tr>\n",
       "\t<tr><td>0.81      </td><td>0.85      </td><td>4         </td><td>251       </td><td>6         </td><td>0         </td><td>1         </td><td>0         </td><td>hr        </td><td>medium    </td></tr>\n",
       "\t<tr><td>0.40      </td><td>0.47      </td><td>2         </td><td>144       </td><td>3         </td><td>0         </td><td>1         </td><td>0         </td><td>hr        </td><td>medium    </td></tr>\n",
       "\t<tr><td>0.09      </td><td>0.93      </td><td>6         </td><td>296       </td><td>4         </td><td>0         </td><td>1         </td><td>0         </td><td>technical </td><td>medium    </td></tr>\n",
       "\t<tr><td>0.76      </td><td>0.89      </td><td>5         </td><td>238       </td><td>5         </td><td>0         </td><td>1         </td><td>0         </td><td>technical </td><td>high      </td></tr>\n",
       "\t<tr><td>0.73      </td><td>0.93      </td><td>5         </td><td>162       </td><td>4         </td><td>0         </td><td>1         </td><td>0         </td><td>technical </td><td>low       </td></tr>\n",
       "\t<tr><td>0.38      </td><td>0.49      </td><td>2         </td><td>137       </td><td>3         </td><td>0         </td><td>1         </td><td>0         </td><td>technical </td><td>medium    </td></tr>\n",
       "\t<tr><td>0.72      </td><td>0.84      </td><td>5         </td><td>257       </td><td>5         </td><td>0         </td><td>1         </td><td>0         </td><td>technical </td><td>medium    </td></tr>\n",
       "\t<tr><td>0.40      </td><td>0.56      </td><td>2         </td><td>148       </td><td>3         </td><td>0         </td><td>1         </td><td>0         </td><td>technical </td><td>medium    </td></tr>\n",
       "\t<tr><td>0.91      </td><td>0.99      </td><td>5         </td><td>254       </td><td>5         </td><td>0         </td><td>1         </td><td>0         </td><td>technical </td><td>medium    </td></tr>\n",
       "\t<tr><td>0.85      </td><td>0.85      </td><td>4         </td><td>247       </td><td>6         </td><td>0         </td><td>1         </td><td>0         </td><td>technical </td><td>low       </td></tr>\n",
       "\t<tr><td>0.90      </td><td>0.70      </td><td>5         </td><td>206       </td><td>4         </td><td>0         </td><td>1         </td><td>0         </td><td>technical </td><td>low       </td></tr>\n",
       "\t<tr><td>0.46      </td><td>0.55      </td><td>2         </td><td>145       </td><td>3         </td><td>0         </td><td>1         </td><td>0         </td><td>technical </td><td>low       </td></tr>\n",
       "\t<tr><td>0.43      </td><td>0.57      </td><td>2         </td><td>159       </td><td>3         </td><td>1         </td><td>1         </td><td>0         </td><td>technical </td><td>low       </td></tr>\n",
       "\t<tr><td>0.89      </td><td>0.88      </td><td>5         </td><td>228       </td><td>5         </td><td>1         </td><td>1         </td><td>0         </td><td>support   </td><td>low       </td></tr>\n",
       "\t<tr><td>0.09      </td><td>0.81      </td><td>6         </td><td>257       </td><td>4         </td><td>0         </td><td>1         </td><td>0         </td><td>support   </td><td>low       </td></tr>\n",
       "\t<tr><td>0.40      </td><td>0.48      </td><td>2         </td><td>155       </td><td>3         </td><td>0         </td><td>1         </td><td>0         </td><td>support   </td><td>low       </td></tr>\n",
       "\t<tr><td>0.76      </td><td>0.83      </td><td>6         </td><td>293       </td><td>6         </td><td>0         </td><td>1         </td><td>0         </td><td>support   </td><td>low       </td></tr>\n",
       "\t<tr><td>0.40      </td><td>0.57      </td><td>2         </td><td>151       </td><td>3         </td><td>0         </td><td>1         </td><td>0         </td><td>support   </td><td>low       </td></tr>\n",
       "\t<tr><td>0.37      </td><td>0.48      </td><td>2         </td><td>160       </td><td>3         </td><td>0         </td><td>1         </td><td>0         </td><td>support   </td><td>low       </td></tr>\n",
       "\t<tr><td>0.37      </td><td>0.53      </td><td>2         </td><td>143       </td><td>3         </td><td>0         </td><td>1         </td><td>0         </td><td>support   </td><td>low       </td></tr>\n",
       "\t<tr><td>0.11      </td><td>0.96      </td><td>6         </td><td>280       </td><td>4         </td><td>0         </td><td>1         </td><td>0         </td><td>support   </td><td>low       </td></tr>\n",
       "\t<tr><td>0.37      </td><td>0.52      </td><td>2         </td><td>158       </td><td>3         </td><td>0         </td><td>1         </td><td>0         </td><td>support   </td><td>low       </td></tr>\n",
       "</tbody>\n",
       "</table>\n"
      ],
      "text/latex": [
       "\\begin{tabular}{r|llllllllll}\n",
       " satisfaction\\_level & last\\_evaluation & number\\_project & average\\_montly\\_hours & time\\_spend\\_company & Work\\_accident & left & promotion\\_last\\_5years & sales & salary\\\\\n",
       "\\hline\n",
       "\t 0.38       & 0.53       & 2          & 157        & 3          & 0          & 1          & 0          & sales      & low       \\\\\n",
       "\t 0.80       & 0.86       & 5          & 262        & 6          & 0          & 1          & 0          & sales      & medium    \\\\\n",
       "\t 0.11       & 0.88       & 7          & 272        & 4          & 0          & 1          & 0          & sales      & medium    \\\\\n",
       "\t 0.72       & 0.87       & 5          & 223        & 5          & 0          & 1          & 0          & sales      & low       \\\\\n",
       "\t 0.37       & 0.52       & 2          & 159        & 3          & 0          & 1          & 0          & sales      & low       \\\\\n",
       "\t 0.41       & 0.50       & 2          & 153        & 3          & 0          & 1          & 0          & sales      & low       \\\\\n",
       "\t 0.10       & 0.77       & 6          & 247        & 4          & 0          & 1          & 0          & sales      & low       \\\\\n",
       "\t 0.92       & 0.85       & 5          & 259        & 5          & 0          & 1          & 0          & sales      & low       \\\\\n",
       "\t 0.89       & 1.00       & 5          & 224        & 5          & 0          & 1          & 0          & sales      & low       \\\\\n",
       "\t 0.42       & 0.53       & 2          & 142        & 3          & 0          & 1          & 0          & sales      & low       \\\\\n",
       "\t 0.45       & 0.54       & 2          & 135        & 3          & 0          & 1          & 0          & sales      & low       \\\\\n",
       "\t 0.11       & 0.81       & 6          & 305        & 4          & 0          & 1          & 0          & sales      & low       \\\\\n",
       "\t 0.84       & 0.92       & 4          & 234        & 5          & 0          & 1          & 0          & sales      & low       \\\\\n",
       "\t 0.41       & 0.55       & 2          & 148        & 3          & 0          & 1          & 0          & sales      & low       \\\\\n",
       "\t 0.36       & 0.56       & 2          & 137        & 3          & 0          & 1          & 0          & sales      & low       \\\\\n",
       "\t 0.38       & 0.54       & 2          & 143        & 3          & 0          & 1          & 0          & sales      & low       \\\\\n",
       "\t 0.45       & 0.47       & 2          & 160        & 3          & 0          & 1          & 0          & sales      & low       \\\\\n",
       "\t 0.78       & 0.99       & 4          & 255        & 6          & 0          & 1          & 0          & sales      & low       \\\\\n",
       "\t 0.45       & 0.51       & 2          & 160        & 3          & 1          & 1          & 1          & sales      & low       \\\\\n",
       "\t 0.76       & 0.89       & 5          & 262        & 5          & 0          & 1          & 0          & sales      & low       \\\\\n",
       "\t 0.11       & 0.83       & 6          & 282        & 4          & 0          & 1          & 0          & sales      & low       \\\\\n",
       "\t 0.38       & 0.55       & 2          & 147        & 3          & 0          & 1          & 0          & sales      & low       \\\\\n",
       "\t 0.09       & 0.95       & 6          & 304        & 4          & 0          & 1          & 0          & sales      & low       \\\\\n",
       "\t 0.46       & 0.57       & 2          & 139        & 3          & 0          & 1          & 0          & sales      & low       \\\\\n",
       "\t 0.40       & 0.53       & 2          & 158        & 3          & 0          & 1          & 0          & sales      & low       \\\\\n",
       "\t 0.89       & 0.92       & 5          & 242        & 5          & 0          & 1          & 0          & sales      & low       \\\\\n",
       "\t 0.82       & 0.87       & 4          & 239        & 5          & 0          & 1          & 0          & sales      & low       \\\\\n",
       "\t 0.40       & 0.49       & 2          & 135        & 3          & 0          & 1          & 0          & sales      & low       \\\\\n",
       "\t 0.41       & 0.46       & 2          & 128        & 3          & 0          & 1          & 0          & accounting & low       \\\\\n",
       "\t 0.38       & 0.50       & 2          & 132        & 3          & 0          & 1          & 0          & accounting & low       \\\\\n",
       "\t ... & ... & ... & ... & ... & ... & ... & ... & ... & ...\\\\\n",
       "\t 0.43       & 0.46       & 2          & 157        & 3          & 0          & 1          & 0          & sales      & medium    \\\\\n",
       "\t 0.78       & 0.93       & 4          & 225        & 5          & 0          & 1          & 0          & sales      & medium    \\\\\n",
       "\t 0.39       & 0.45       & 2          & 140        & 3          & 0          & 1          & 0          & sales      & medium    \\\\\n",
       "\t 0.11       & 0.97       & 6          & 310        & 4          & 0          & 1          & 0          & accounting & medium    \\\\\n",
       "\t 0.36       & 0.52       & 2          & 143        & 3          & 0          & 1          & 0          & accounting & medium    \\\\\n",
       "\t 0.36       & 0.54       & 2          & 153        & 3          & 0          & 1          & 0          & accounting & medium    \\\\\n",
       "\t 0.10       & 0.79       & 7          & 310        & 4          & 0          & 1          & 0          & hr         & medium    \\\\\n",
       "\t 0.40       & 0.47       & 2          & 136        & 3          & 0          & 1          & 0          & hr         & medium    \\\\\n",
       "\t 0.81       & 0.85       & 4          & 251        & 6          & 0          & 1          & 0          & hr         & medium    \\\\\n",
       "\t 0.40       & 0.47       & 2          & 144        & 3          & 0          & 1          & 0          & hr         & medium    \\\\\n",
       "\t 0.09       & 0.93       & 6          & 296        & 4          & 0          & 1          & 0          & technical  & medium    \\\\\n",
       "\t 0.76       & 0.89       & 5          & 238        & 5          & 0          & 1          & 0          & technical  & high      \\\\\n",
       "\t 0.73       & 0.93       & 5          & 162        & 4          & 0          & 1          & 0          & technical  & low       \\\\\n",
       "\t 0.38       & 0.49       & 2          & 137        & 3          & 0          & 1          & 0          & technical  & medium    \\\\\n",
       "\t 0.72       & 0.84       & 5          & 257        & 5          & 0          & 1          & 0          & technical  & medium    \\\\\n",
       "\t 0.40       & 0.56       & 2          & 148        & 3          & 0          & 1          & 0          & technical  & medium    \\\\\n",
       "\t 0.91       & 0.99       & 5          & 254        & 5          & 0          & 1          & 0          & technical  & medium    \\\\\n",
       "\t 0.85       & 0.85       & 4          & 247        & 6          & 0          & 1          & 0          & technical  & low       \\\\\n",
       "\t 0.90       & 0.70       & 5          & 206        & 4          & 0          & 1          & 0          & technical  & low       \\\\\n",
       "\t 0.46       & 0.55       & 2          & 145        & 3          & 0          & 1          & 0          & technical  & low       \\\\\n",
       "\t 0.43       & 0.57       & 2          & 159        & 3          & 1          & 1          & 0          & technical  & low       \\\\\n",
       "\t 0.89       & 0.88       & 5          & 228        & 5          & 1          & 1          & 0          & support    & low       \\\\\n",
       "\t 0.09       & 0.81       & 6          & 257        & 4          & 0          & 1          & 0          & support    & low       \\\\\n",
       "\t 0.40       & 0.48       & 2          & 155        & 3          & 0          & 1          & 0          & support    & low       \\\\\n",
       "\t 0.76       & 0.83       & 6          & 293        & 6          & 0          & 1          & 0          & support    & low       \\\\\n",
       "\t 0.40       & 0.57       & 2          & 151        & 3          & 0          & 1          & 0          & support    & low       \\\\\n",
       "\t 0.37       & 0.48       & 2          & 160        & 3          & 0          & 1          & 0          & support    & low       \\\\\n",
       "\t 0.37       & 0.53       & 2          & 143        & 3          & 0          & 1          & 0          & support    & low       \\\\\n",
       "\t 0.11       & 0.96       & 6          & 280        & 4          & 0          & 1          & 0          & support    & low       \\\\\n",
       "\t 0.37       & 0.52       & 2          & 158        & 3          & 0          & 1          & 0          & support    & low       \\\\\n",
       "\\end{tabular}\n"
      ],
      "text/markdown": [
       "\n",
       "satisfaction_level | last_evaluation | number_project | average_montly_hours | time_spend_company | Work_accident | left | promotion_last_5years | sales | salary | \n",
       "|---|---|---|---|---|---|---|---|---|---|---|---|---|---|---|---|---|---|---|---|---|---|---|---|---|---|---|---|---|---|---|---|---|---|---|---|---|---|---|---|---|---|---|---|---|---|---|---|---|---|---|---|---|---|---|---|---|---|---|---|---|\n",
       "| 0.38       | 0.53       | 2          | 157        | 3          | 0          | 1          | 0          | sales      | low        | \n",
       "| 0.80       | 0.86       | 5          | 262        | 6          | 0          | 1          | 0          | sales      | medium     | \n",
       "| 0.11       | 0.88       | 7          | 272        | 4          | 0          | 1          | 0          | sales      | medium     | \n",
       "| 0.72       | 0.87       | 5          | 223        | 5          | 0          | 1          | 0          | sales      | low        | \n",
       "| 0.37       | 0.52       | 2          | 159        | 3          | 0          | 1          | 0          | sales      | low        | \n",
       "| 0.41       | 0.50       | 2          | 153        | 3          | 0          | 1          | 0          | sales      | low        | \n",
       "| 0.10       | 0.77       | 6          | 247        | 4          | 0          | 1          | 0          | sales      | low        | \n",
       "| 0.92       | 0.85       | 5          | 259        | 5          | 0          | 1          | 0          | sales      | low        | \n",
       "| 0.89       | 1.00       | 5          | 224        | 5          | 0          | 1          | 0          | sales      | low        | \n",
       "| 0.42       | 0.53       | 2          | 142        | 3          | 0          | 1          | 0          | sales      | low        | \n",
       "| 0.45       | 0.54       | 2          | 135        | 3          | 0          | 1          | 0          | sales      | low        | \n",
       "| 0.11       | 0.81       | 6          | 305        | 4          | 0          | 1          | 0          | sales      | low        | \n",
       "| 0.84       | 0.92       | 4          | 234        | 5          | 0          | 1          | 0          | sales      | low        | \n",
       "| 0.41       | 0.55       | 2          | 148        | 3          | 0          | 1          | 0          | sales      | low        | \n",
       "| 0.36       | 0.56       | 2          | 137        | 3          | 0          | 1          | 0          | sales      | low        | \n",
       "| 0.38       | 0.54       | 2          | 143        | 3          | 0          | 1          | 0          | sales      | low        | \n",
       "| 0.45       | 0.47       | 2          | 160        | 3          | 0          | 1          | 0          | sales      | low        | \n",
       "| 0.78       | 0.99       | 4          | 255        | 6          | 0          | 1          | 0          | sales      | low        | \n",
       "| 0.45       | 0.51       | 2          | 160        | 3          | 1          | 1          | 1          | sales      | low        | \n",
       "| 0.76       | 0.89       | 5          | 262        | 5          | 0          | 1          | 0          | sales      | low        | \n",
       "| 0.11       | 0.83       | 6          | 282        | 4          | 0          | 1          | 0          | sales      | low        | \n",
       "| 0.38       | 0.55       | 2          | 147        | 3          | 0          | 1          | 0          | sales      | low        | \n",
       "| 0.09       | 0.95       | 6          | 304        | 4          | 0          | 1          | 0          | sales      | low        | \n",
       "| 0.46       | 0.57       | 2          | 139        | 3          | 0          | 1          | 0          | sales      | low        | \n",
       "| 0.40       | 0.53       | 2          | 158        | 3          | 0          | 1          | 0          | sales      | low        | \n",
       "| 0.89       | 0.92       | 5          | 242        | 5          | 0          | 1          | 0          | sales      | low        | \n",
       "| 0.82       | 0.87       | 4          | 239        | 5          | 0          | 1          | 0          | sales      | low        | \n",
       "| 0.40       | 0.49       | 2          | 135        | 3          | 0          | 1          | 0          | sales      | low        | \n",
       "| 0.41       | 0.46       | 2          | 128        | 3          | 0          | 1          | 0          | accounting | low        | \n",
       "| 0.38       | 0.50       | 2          | 132        | 3          | 0          | 1          | 0          | accounting | low        | \n",
       "| ... | ... | ... | ... | ... | ... | ... | ... | ... | ... | \n",
       "| 0.43       | 0.46       | 2          | 157        | 3          | 0          | 1          | 0          | sales      | medium     | \n",
       "| 0.78       | 0.93       | 4          | 225        | 5          | 0          | 1          | 0          | sales      | medium     | \n",
       "| 0.39       | 0.45       | 2          | 140        | 3          | 0          | 1          | 0          | sales      | medium     | \n",
       "| 0.11       | 0.97       | 6          | 310        | 4          | 0          | 1          | 0          | accounting | medium     | \n",
       "| 0.36       | 0.52       | 2          | 143        | 3          | 0          | 1          | 0          | accounting | medium     | \n",
       "| 0.36       | 0.54       | 2          | 153        | 3          | 0          | 1          | 0          | accounting | medium     | \n",
       "| 0.10       | 0.79       | 7          | 310        | 4          | 0          | 1          | 0          | hr         | medium     | \n",
       "| 0.40       | 0.47       | 2          | 136        | 3          | 0          | 1          | 0          | hr         | medium     | \n",
       "| 0.81       | 0.85       | 4          | 251        | 6          | 0          | 1          | 0          | hr         | medium     | \n",
       "| 0.40       | 0.47       | 2          | 144        | 3          | 0          | 1          | 0          | hr         | medium     | \n",
       "| 0.09       | 0.93       | 6          | 296        | 4          | 0          | 1          | 0          | technical  | medium     | \n",
       "| 0.76       | 0.89       | 5          | 238        | 5          | 0          | 1          | 0          | technical  | high       | \n",
       "| 0.73       | 0.93       | 5          | 162        | 4          | 0          | 1          | 0          | technical  | low        | \n",
       "| 0.38       | 0.49       | 2          | 137        | 3          | 0          | 1          | 0          | technical  | medium     | \n",
       "| 0.72       | 0.84       | 5          | 257        | 5          | 0          | 1          | 0          | technical  | medium     | \n",
       "| 0.40       | 0.56       | 2          | 148        | 3          | 0          | 1          | 0          | technical  | medium     | \n",
       "| 0.91       | 0.99       | 5          | 254        | 5          | 0          | 1          | 0          | technical  | medium     | \n",
       "| 0.85       | 0.85       | 4          | 247        | 6          | 0          | 1          | 0          | technical  | low        | \n",
       "| 0.90       | 0.70       | 5          | 206        | 4          | 0          | 1          | 0          | technical  | low        | \n",
       "| 0.46       | 0.55       | 2          | 145        | 3          | 0          | 1          | 0          | technical  | low        | \n",
       "| 0.43       | 0.57       | 2          | 159        | 3          | 1          | 1          | 0          | technical  | low        | \n",
       "| 0.89       | 0.88       | 5          | 228        | 5          | 1          | 1          | 0          | support    | low        | \n",
       "| 0.09       | 0.81       | 6          | 257        | 4          | 0          | 1          | 0          | support    | low        | \n",
       "| 0.40       | 0.48       | 2          | 155        | 3          | 0          | 1          | 0          | support    | low        | \n",
       "| 0.76       | 0.83       | 6          | 293        | 6          | 0          | 1          | 0          | support    | low        | \n",
       "| 0.40       | 0.57       | 2          | 151        | 3          | 0          | 1          | 0          | support    | low        | \n",
       "| 0.37       | 0.48       | 2          | 160        | 3          | 0          | 1          | 0          | support    | low        | \n",
       "| 0.37       | 0.53       | 2          | 143        | 3          | 0          | 1          | 0          | support    | low        | \n",
       "| 0.11       | 0.96       | 6          | 280        | 4          | 0          | 1          | 0          | support    | low        | \n",
       "| 0.37       | 0.52       | 2          | 158        | 3          | 0          | 1          | 0          | support    | low        | \n",
       "\n",
       "\n"
      ],
      "text/plain": [
       "      satisfaction_level last_evaluation number_project average_montly_hours\n",
       "1     0.38               0.53            2              157                 \n",
       "2     0.80               0.86            5              262                 \n",
       "3     0.11               0.88            7              272                 \n",
       "4     0.72               0.87            5              223                 \n",
       "5     0.37               0.52            2              159                 \n",
       "6     0.41               0.50            2              153                 \n",
       "7     0.10               0.77            6              247                 \n",
       "8     0.92               0.85            5              259                 \n",
       "9     0.89               1.00            5              224                 \n",
       "10    0.42               0.53            2              142                 \n",
       "11    0.45               0.54            2              135                 \n",
       "12    0.11               0.81            6              305                 \n",
       "13    0.84               0.92            4              234                 \n",
       "14    0.41               0.55            2              148                 \n",
       "15    0.36               0.56            2              137                 \n",
       "16    0.38               0.54            2              143                 \n",
       "17    0.45               0.47            2              160                 \n",
       "18    0.78               0.99            4              255                 \n",
       "19    0.45               0.51            2              160                 \n",
       "20    0.76               0.89            5              262                 \n",
       "21    0.11               0.83            6              282                 \n",
       "22    0.38               0.55            2              147                 \n",
       "23    0.09               0.95            6              304                 \n",
       "24    0.46               0.57            2              139                 \n",
       "25    0.40               0.53            2              158                 \n",
       "26    0.89               0.92            5              242                 \n",
       "27    0.82               0.87            4              239                 \n",
       "28    0.40               0.49            2              135                 \n",
       "29    0.41               0.46            2              128                 \n",
       "30    0.38               0.50            2              132                 \n",
       "...   ...                ...             ...            ...                 \n",
       "14970 0.43               0.46            2              157                 \n",
       "14971 0.78               0.93            4              225                 \n",
       "14972 0.39               0.45            2              140                 \n",
       "14973 0.11               0.97            6              310                 \n",
       "14974 0.36               0.52            2              143                 \n",
       "14975 0.36               0.54            2              153                 \n",
       "14976 0.10               0.79            7              310                 \n",
       "14977 0.40               0.47            2              136                 \n",
       "14978 0.81               0.85            4              251                 \n",
       "14979 0.40               0.47            2              144                 \n",
       "14980 0.09               0.93            6              296                 \n",
       "14981 0.76               0.89            5              238                 \n",
       "14982 0.73               0.93            5              162                 \n",
       "14983 0.38               0.49            2              137                 \n",
       "14984 0.72               0.84            5              257                 \n",
       "14985 0.40               0.56            2              148                 \n",
       "14986 0.91               0.99            5              254                 \n",
       "14987 0.85               0.85            4              247                 \n",
       "14988 0.90               0.70            5              206                 \n",
       "14989 0.46               0.55            2              145                 \n",
       "14990 0.43               0.57            2              159                 \n",
       "14991 0.89               0.88            5              228                 \n",
       "14992 0.09               0.81            6              257                 \n",
       "14993 0.40               0.48            2              155                 \n",
       "14994 0.76               0.83            6              293                 \n",
       "14995 0.40               0.57            2              151                 \n",
       "14996 0.37               0.48            2              160                 \n",
       "14997 0.37               0.53            2              143                 \n",
       "14998 0.11               0.96            6              280                 \n",
       "14999 0.37               0.52            2              158                 \n",
       "      time_spend_company Work_accident left promotion_last_5years sales     \n",
       "1     3                  0             1    0                     sales     \n",
       "2     6                  0             1    0                     sales     \n",
       "3     4                  0             1    0                     sales     \n",
       "4     5                  0             1    0                     sales     \n",
       "5     3                  0             1    0                     sales     \n",
       "6     3                  0             1    0                     sales     \n",
       "7     4                  0             1    0                     sales     \n",
       "8     5                  0             1    0                     sales     \n",
       "9     5                  0             1    0                     sales     \n",
       "10    3                  0             1    0                     sales     \n",
       "11    3                  0             1    0                     sales     \n",
       "12    4                  0             1    0                     sales     \n",
       "13    5                  0             1    0                     sales     \n",
       "14    3                  0             1    0                     sales     \n",
       "15    3                  0             1    0                     sales     \n",
       "16    3                  0             1    0                     sales     \n",
       "17    3                  0             1    0                     sales     \n",
       "18    6                  0             1    0                     sales     \n",
       "19    3                  1             1    1                     sales     \n",
       "20    5                  0             1    0                     sales     \n",
       "21    4                  0             1    0                     sales     \n",
       "22    3                  0             1    0                     sales     \n",
       "23    4                  0             1    0                     sales     \n",
       "24    3                  0             1    0                     sales     \n",
       "25    3                  0             1    0                     sales     \n",
       "26    5                  0             1    0                     sales     \n",
       "27    5                  0             1    0                     sales     \n",
       "28    3                  0             1    0                     sales     \n",
       "29    3                  0             1    0                     accounting\n",
       "30    3                  0             1    0                     accounting\n",
       "...   ...                ...           ...  ...                   ...       \n",
       "14970 3                  0             1    0                     sales     \n",
       "14971 5                  0             1    0                     sales     \n",
       "14972 3                  0             1    0                     sales     \n",
       "14973 4                  0             1    0                     accounting\n",
       "14974 3                  0             1    0                     accounting\n",
       "14975 3                  0             1    0                     accounting\n",
       "14976 4                  0             1    0                     hr        \n",
       "14977 3                  0             1    0                     hr        \n",
       "14978 6                  0             1    0                     hr        \n",
       "14979 3                  0             1    0                     hr        \n",
       "14980 4                  0             1    0                     technical \n",
       "14981 5                  0             1    0                     technical \n",
       "14982 4                  0             1    0                     technical \n",
       "14983 3                  0             1    0                     technical \n",
       "14984 5                  0             1    0                     technical \n",
       "14985 3                  0             1    0                     technical \n",
       "14986 5                  0             1    0                     technical \n",
       "14987 6                  0             1    0                     technical \n",
       "14988 4                  0             1    0                     technical \n",
       "14989 3                  0             1    0                     technical \n",
       "14990 3                  1             1    0                     technical \n",
       "14991 5                  1             1    0                     support   \n",
       "14992 4                  0             1    0                     support   \n",
       "14993 3                  0             1    0                     support   \n",
       "14994 6                  0             1    0                     support   \n",
       "14995 3                  0             1    0                     support   \n",
       "14996 3                  0             1    0                     support   \n",
       "14997 3                  0             1    0                     support   \n",
       "14998 4                  0             1    0                     support   \n",
       "14999 3                  0             1    0                     support   \n",
       "      salary\n",
       "1     low   \n",
       "2     medium\n",
       "3     medium\n",
       "4     low   \n",
       "5     low   \n",
       "6     low   \n",
       "7     low   \n",
       "8     low   \n",
       "9     low   \n",
       "10    low   \n",
       "11    low   \n",
       "12    low   \n",
       "13    low   \n",
       "14    low   \n",
       "15    low   \n",
       "16    low   \n",
       "17    low   \n",
       "18    low   \n",
       "19    low   \n",
       "20    low   \n",
       "21    low   \n",
       "22    low   \n",
       "23    low   \n",
       "24    low   \n",
       "25    low   \n",
       "26    low   \n",
       "27    low   \n",
       "28    low   \n",
       "29    low   \n",
       "30    low   \n",
       "...   ...   \n",
       "14970 medium\n",
       "14971 medium\n",
       "14972 medium\n",
       "14973 medium\n",
       "14974 medium\n",
       "14975 medium\n",
       "14976 medium\n",
       "14977 medium\n",
       "14978 medium\n",
       "14979 medium\n",
       "14980 medium\n",
       "14981 high  \n",
       "14982 low   \n",
       "14983 medium\n",
       "14984 medium\n",
       "14985 medium\n",
       "14986 medium\n",
       "14987 low   \n",
       "14988 low   \n",
       "14989 low   \n",
       "14990 low   \n",
       "14991 low   \n",
       "14992 low   \n",
       "14993 low   \n",
       "14994 low   \n",
       "14995 low   \n",
       "14996 low   \n",
       "14997 low   \n",
       "14998 low   \n",
       "14999 low   "
      ]
     },
     "metadata": {},
     "output_type": "display_data"
    }
   ],
   "source": [
    "data"
   ]
  },
  {
   "cell_type": "code",
   "execution_count": 8,
   "metadata": {},
   "outputs": [
    {
     "name": "stdout",
     "output_type": "stream",
     "text": [
      "package 'corrplot' successfully unpacked and MD5 sums checked\n",
      "\n",
      "The downloaded binary packages are in\n",
      "\tC:\\Users\\ZekeLabs\\AppData\\Local\\Temp\\RtmpIrDoNa\\downloaded_packages\n"
     ]
    }
   ],
   "source": [
    "install.packages(\"corrplot\",repos = \"http://cran.us.r-project.org\")"
   ]
  },
  {
   "cell_type": "code",
   "execution_count": 9,
   "metadata": {},
   "outputs": [
    {
     "data": {
      "text/html": [
       "<table>\n",
       "<thead><tr><th></th><th scope=col>satisfaction_level</th><th scope=col>last_evaluation</th><th scope=col>number_project</th><th scope=col>average_montly_hours</th><th scope=col>time_spend_company</th><th scope=col>Work_accident</th><th scope=col>left</th><th scope=col>promotion_last_5years</th></tr></thead>\n",
       "<tbody>\n",
       "\t<tr><th scope=row>satisfaction_level</th><td> 1.00000000 </td><td> 0.105021214</td><td>-0.142969586</td><td>-0.020048113</td><td>-0.100866073</td><td> 0.058697241</td><td>-0.38837498 </td><td> 0.025605186</td></tr>\n",
       "\t<tr><th scope=row>last_evaluation</th><td> 0.10502121 </td><td> 1.000000000</td><td> 0.349332589</td><td> 0.339741800</td><td> 0.131590722</td><td>-0.007104289</td><td> 0.00656712 </td><td>-0.008683768</td></tr>\n",
       "\t<tr><th scope=row>number_project</th><td>-0.14296959 </td><td> 0.349332589</td><td> 1.000000000</td><td> 0.417210634</td><td> 0.196785891</td><td>-0.004740548</td><td> 0.02378719 </td><td>-0.006063958</td></tr>\n",
       "\t<tr><th scope=row>average_montly_hours</th><td>-0.02004811 </td><td> 0.339741800</td><td> 0.417210634</td><td> 1.000000000</td><td> 0.127754910</td><td>-0.010142888</td><td> 0.07128718 </td><td>-0.003544414</td></tr>\n",
       "\t<tr><th scope=row>time_spend_company</th><td>-0.10086607 </td><td> 0.131590722</td><td> 0.196785891</td><td> 0.127754910</td><td> 1.000000000</td><td> 0.002120418</td><td> 0.14482217 </td><td> 0.067432925</td></tr>\n",
       "\t<tr><th scope=row>Work_accident</th><td> 0.05869724 </td><td>-0.007104289</td><td>-0.004740548</td><td>-0.010142888</td><td> 0.002120418</td><td> 1.000000000</td><td>-0.15462163 </td><td> 0.039245435</td></tr>\n",
       "\t<tr><th scope=row>left</th><td>-0.38837498 </td><td> 0.006567120</td><td> 0.023787185</td><td> 0.071287179</td><td> 0.144822175</td><td>-0.154621634</td><td> 1.00000000 </td><td>-0.061788107</td></tr>\n",
       "\t<tr><th scope=row>promotion_last_5years</th><td> 0.02560519 </td><td>-0.008683768</td><td>-0.006063958</td><td>-0.003544414</td><td> 0.067432925</td><td> 0.039245435</td><td>-0.06178811 </td><td> 1.000000000</td></tr>\n",
       "</tbody>\n",
       "</table>\n"
      ],
      "text/latex": [
       "\\begin{tabular}{r|llllllll}\n",
       "  & satisfaction\\_level & last\\_evaluation & number\\_project & average\\_montly\\_hours & time\\_spend\\_company & Work\\_accident & left & promotion\\_last\\_5years\\\\\n",
       "\\hline\n",
       "\tsatisfaction\\_level &  1.00000000  &  0.105021214 & -0.142969586 & -0.020048113 & -0.100866073 &  0.058697241 & -0.38837498  &  0.025605186\\\\\n",
       "\tlast\\_evaluation &  0.10502121  &  1.000000000 &  0.349332589 &  0.339741800 &  0.131590722 & -0.007104289 &  0.00656712  & -0.008683768\\\\\n",
       "\tnumber\\_project & -0.14296959  &  0.349332589 &  1.000000000 &  0.417210634 &  0.196785891 & -0.004740548 &  0.02378719  & -0.006063958\\\\\n",
       "\taverage\\_montly\\_hours & -0.02004811  &  0.339741800 &  0.417210634 &  1.000000000 &  0.127754910 & -0.010142888 &  0.07128718  & -0.003544414\\\\\n",
       "\ttime\\_spend\\_company & -0.10086607  &  0.131590722 &  0.196785891 &  0.127754910 &  1.000000000 &  0.002120418 &  0.14482217  &  0.067432925\\\\\n",
       "\tWork\\_accident &  0.05869724  & -0.007104289 & -0.004740548 & -0.010142888 &  0.002120418 &  1.000000000 & -0.15462163  &  0.039245435\\\\\n",
       "\tleft & -0.38837498  &  0.006567120 &  0.023787185 &  0.071287179 &  0.144822175 & -0.154621634 &  1.00000000  & -0.061788107\\\\\n",
       "\tpromotion\\_last\\_5years &  0.02560519  & -0.008683768 & -0.006063958 & -0.003544414 &  0.067432925 &  0.039245435 & -0.06178811  &  1.000000000\\\\\n",
       "\\end{tabular}\n"
      ],
      "text/markdown": [
       "\n",
       "| <!--/--> | satisfaction_level | last_evaluation | number_project | average_montly_hours | time_spend_company | Work_accident | left | promotion_last_5years | \n",
       "|---|---|---|---|---|---|---|---|\n",
       "| satisfaction_level |  1.00000000  |  0.105021214 | -0.142969586 | -0.020048113 | -0.100866073 |  0.058697241 | -0.38837498  |  0.025605186 | \n",
       "| last_evaluation |  0.10502121  |  1.000000000 |  0.349332589 |  0.339741800 |  0.131590722 | -0.007104289 |  0.00656712  | -0.008683768 | \n",
       "| number_project | -0.14296959  |  0.349332589 |  1.000000000 |  0.417210634 |  0.196785891 | -0.004740548 |  0.02378719  | -0.006063958 | \n",
       "| average_montly_hours | -0.02004811  |  0.339741800 |  0.417210634 |  1.000000000 |  0.127754910 | -0.010142888 |  0.07128718  | -0.003544414 | \n",
       "| time_spend_company | -0.10086607  |  0.131590722 |  0.196785891 |  0.127754910 |  1.000000000 |  0.002120418 |  0.14482217  |  0.067432925 | \n",
       "| Work_accident |  0.05869724  | -0.007104289 | -0.004740548 | -0.010142888 |  0.002120418 |  1.000000000 | -0.15462163  |  0.039245435 | \n",
       "| left | -0.38837498  |  0.006567120 |  0.023787185 |  0.071287179 |  0.144822175 | -0.154621634 |  1.00000000  | -0.061788107 | \n",
       "| promotion_last_5years |  0.02560519  | -0.008683768 | -0.006063958 | -0.003544414 |  0.067432925 |  0.039245435 | -0.06178811  |  1.000000000 | \n",
       "\n",
       "\n"
      ],
      "text/plain": [
       "                      satisfaction_level last_evaluation number_project\n",
       "satisfaction_level     1.00000000         0.105021214    -0.142969586  \n",
       "last_evaluation        0.10502121         1.000000000     0.349332589  \n",
       "number_project        -0.14296959         0.349332589     1.000000000  \n",
       "average_montly_hours  -0.02004811         0.339741800     0.417210634  \n",
       "time_spend_company    -0.10086607         0.131590722     0.196785891  \n",
       "Work_accident          0.05869724        -0.007104289    -0.004740548  \n",
       "left                  -0.38837498         0.006567120     0.023787185  \n",
       "promotion_last_5years  0.02560519        -0.008683768    -0.006063958  \n",
       "                      average_montly_hours time_spend_company Work_accident\n",
       "satisfaction_level    -0.020048113         -0.100866073        0.058697241 \n",
       "last_evaluation        0.339741800          0.131590722       -0.007104289 \n",
       "number_project         0.417210634          0.196785891       -0.004740548 \n",
       "average_montly_hours   1.000000000          0.127754910       -0.010142888 \n",
       "time_spend_company     0.127754910          1.000000000        0.002120418 \n",
       "Work_accident         -0.010142888          0.002120418        1.000000000 \n",
       "left                   0.071287179          0.144822175       -0.154621634 \n",
       "promotion_last_5years -0.003544414          0.067432925        0.039245435 \n",
       "                      left        promotion_last_5years\n",
       "satisfaction_level    -0.38837498  0.025605186         \n",
       "last_evaluation        0.00656712 -0.008683768         \n",
       "number_project         0.02378719 -0.006063958         \n",
       "average_montly_hours   0.07128718 -0.003544414         \n",
       "time_spend_company     0.14482217  0.067432925         \n",
       "Work_accident         -0.15462163  0.039245435         \n",
       "left                   1.00000000 -0.061788107         \n",
       "promotion_last_5years -0.06178811  1.000000000         "
      ]
     },
     "metadata": {},
     "output_type": "display_data"
    }
   ],
   "source": [
    "cor(data[,1:8])"
   ]
  },
  {
   "cell_type": "code",
   "execution_count": 11,
   "metadata": {},
   "outputs": [
    {
     "data": {
      "image/png": "[encoded data removed]",
      "text/plain": [
       "Plot with title \"\""
      ]
     },
     "metadata": {},
     "output_type": "display_data"
    }
   ],
   "source": [
    "library(corrplot)\n",
    "corrplot(cor(data[,1:8]), method=\"circle\")"
   ]
  },
  {
   "cell_type": "code",
   "execution_count": 13,
   "metadata": {
    "collapsed": true
   },
   "outputs": [],
   "source": [
    "library(ggplot2)"
   ]
  },
  {
   "cell_type": "code",
   "execution_count": 14,
   "metadata": {},
   "outputs": [
    {
     "data": {},
     "metadata": {},
     "output_type": "display_data"
    },
    {
     "data": {
      "image/png": "[encoded data removed]",
      "text/plain": [
       "plot without title"
      ]
     },
     "metadata": {},
     "output_type": "display_data"
    }
   ],
   "source": [
    "ggplot(data, aes(x =  salary, y = satisfaction_level, fill = factor(left), colour = factor(left))) + \n",
    "geom_boxplot(outlier.colour = \"black\") + xlab(\"Salary\") + ylab(\"Satisfacion level\") "
   ]
  },
  {
   "cell_type": "code",
   "execution_count": 15,
   "metadata": {},
   "outputs": [
    {
     "data": {},
     "metadata": {},
     "output_type": "display_data"
    },
    {
     "data": {
      "image/png": "[encoded data removed]",
      "text/plain": [
       "plot without title"
      ]
     },
     "metadata": {},
     "output_type": "display_data"
    }
   ],
   "source": [
    "ggplot(data, aes(x =  salary, y = time_spend_company, fill = factor(left), colour = factor(left))) + \n",
    "geom_boxplot(outlier.colour = NA) + xlab(\"Salary\") + ylab(\"time_spend_company\") "
   ]
  },
  {
   "cell_type": "code",
   "execution_count": 16,
   "metadata": {},
   "outputs": [
    {
     "data": {},
     "metadata": {},
     "output_type": "display_data"
    },
    {
     "data": {
      "image/png": "[encoded data removed]",
      "text/plain": [
       "plot without title"
      ]
     },
     "metadata": {},
     "output_type": "display_data"
    }
   ],
   "source": [
    "ggplot(data, aes(x =  factor(time_spend_company), y = average_montly_hours, fill = factor(left), colour = factor(left))) + \n",
    "geom_boxplot(outlier.colour = NA) + xlab(\"Time spend Company\") + ylab(\"Average Monthly Hours\")"
   ]
  },
  {
   "cell_type": "code",
   "execution_count": null,
   "metadata": {
    "collapsed": true
   },
   "outputs": [],
   "source": []
  }
 ],
 "metadata": {
  "kernelspec": {
   "display_name": "R",
   "language": "R",
   "name": "ir"
  },
  "language_info": {
   "codemirror_mode": "r",
   "file_extension": ".r",
   "mimetype": "text/x-r-source",
   "name": "R",
   "pygments_lexer": "r",
   "version": "3.4.1"
  }
 },
 "nbformat": 4,
 "nbformat_minor": 2
}
