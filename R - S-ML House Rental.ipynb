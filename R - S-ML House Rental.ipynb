{
 "cells": [
  {
   "cell_type": "code",
   "execution_count": 3,
   "metadata": {},
   "outputs": [],
   "source": [
    "house <- read.csv('house_rental.csv.txt', header=TRUE)"
   ]
  },
  {
   "cell_type": "code",
   "execution_count": 4,
   "metadata": {},
   "outputs": [
    {
     "data": {
      "text/html": [
       "<table>\n",
       "<thead><tr><th scope=col>X</th><th scope=col>Sqft</th><th scope=col>Floor</th><th scope=col>TotalFloor</th><th scope=col>Bedroom</th><th scope=col>Living.Room</th><th scope=col>Bathroom</th><th scope=col>Price</th></tr></thead>\n",
       "<tbody>\n",
       "\t<tr><td> 1      </td><td>1177.698</td><td> 2      </td><td> 7      </td><td>2       </td><td>2       </td><td>2       </td><td> 62000  </td></tr>\n",
       "\t<tr><td> 2      </td><td>2134.800</td><td> 5      </td><td> 7      </td><td>4       </td><td>2       </td><td>2       </td><td> 78000  </td></tr>\n",
       "\t<tr><td> 3      </td><td>1138.560</td><td> 5      </td><td> 7      </td><td>2       </td><td>2       </td><td>1       </td><td> 58000  </td></tr>\n",
       "\t<tr><td> 4      </td><td>1458.780</td><td> 2      </td><td> 7      </td><td>3       </td><td>2       </td><td>2       </td><td> 45000  </td></tr>\n",
       "\t<tr><td> 5      </td><td> 967.776</td><td>11      </td><td>14      </td><td>3       </td><td>2       </td><td>2       </td><td> 45000  </td></tr>\n",
       "\t<tr><td> 6      </td><td>1127.886</td><td>11      </td><td>12      </td><td>4       </td><td>2       </td><td>2       </td><td>148000  </td></tr>\n",
       "\t<tr><td> 7      </td><td>1352.040</td><td> 5      </td><td> 7      </td><td>3       </td><td>2       </td><td>1       </td><td> 58000  </td></tr>\n",
       "\t<tr><td> 8      </td><td> 757.854</td><td> 5      </td><td>14      </td><td>1       </td><td>0       </td><td>1       </td><td> 48000  </td></tr>\n",
       "\t<tr><td> 9      </td><td>1152.792</td><td>10      </td><td>12      </td><td>3       </td><td>2       </td><td>2       </td><td> 45000  </td></tr>\n",
       "\t<tr><td>10      </td><td>1423.200</td><td> 4      </td><td> 5      </td><td>4       </td><td>2       </td><td>2       </td><td> 65000  </td></tr>\n",
       "\t<tr><td>11      </td><td> 668.904</td><td> 4      </td><td>11      </td><td>1       </td><td>1       </td><td>1       </td><td> 31000  </td></tr>\n",
       "\t<tr><td>12      </td><td> 711.600</td><td> 4      </td><td> 7      </td><td>2       </td><td>1       </td><td>1       </td><td> 29002  </td></tr>\n",
       "\t<tr><td>13      </td><td>1352.040</td><td> 9      </td><td>19      </td><td>4       </td><td>2       </td><td>2       </td><td> 39000  </td></tr>\n",
       "\t<tr><td>14      </td><td> 818.340</td><td> 4      </td><td>13      </td><td>2       </td><td>2       </td><td>1       </td><td> 48000  </td></tr>\n",
       "\t<tr><td>15      </td><td>2134.800</td><td>10      </td><td>19      </td><td>3       </td><td>2       </td><td>2       </td><td> 55000  </td></tr>\n",
       "\t<tr><td>16      </td><td>2768.124</td><td> 6      </td><td>19      </td><td>3       </td><td>2       </td><td>2       </td><td>100000  </td></tr>\n",
       "\t<tr><td>17      </td><td> 711.600</td><td> 5      </td><td>13      </td><td>2       </td><td>2       </td><td>1       </td><td> 48000  </td></tr>\n",
       "\t<tr><td>18      </td><td> 462.540</td><td> 5      </td><td>13      </td><td>1       </td><td>1       </td><td>1       </td><td> 25000  </td></tr>\n",
       "\t<tr><td>19      </td><td>2739.660</td><td> 6      </td><td>19      </td><td>3       </td><td>2       </td><td>2       </td><td> 90000  </td></tr>\n",
       "\t<tr><td>20      </td><td>1174.140</td><td> 3      </td><td> 9      </td><td>3       </td><td>2       </td><td>1       </td><td> 33000  </td></tr>\n",
       "\t<tr><td>21      </td><td>2490.600</td><td>19      </td><td>21      </td><td>5       </td><td>3       </td><td>4       </td><td>140000  </td></tr>\n",
       "\t<tr><td>22      </td><td>2768.124</td><td> 6      </td><td>19      </td><td>3       </td><td>2       </td><td>2       </td><td>100000  </td></tr>\n",
       "\t<tr><td>23      </td><td> 747.180</td><td> 7      </td><td>15      </td><td>2       </td><td>2       </td><td>1       </td><td> 55000  </td></tr>\n",
       "\t<tr><td>24      </td><td>1668.702</td><td> 4      </td><td>12      </td><td>3       </td><td>2       </td><td>2       </td><td>105000  </td></tr>\n",
       "\t<tr><td>25      </td><td>3664.740</td><td>19      </td><td>19      </td><td>3       </td><td>2       </td><td>3       </td><td>200000  </td></tr>\n",
       "\t<tr><td>26      </td><td>1779.000</td><td>10      </td><td>12      </td><td>4       </td><td>2       </td><td>2       </td><td> 98000  </td></tr>\n",
       "\t<tr><td>27      </td><td>3664.740</td><td>19      </td><td>19      </td><td>3       </td><td>2       </td><td>3       </td><td>200000  </td></tr>\n",
       "\t<tr><td>28      </td><td>3059.880</td><td>21      </td><td>24      </td><td>4       </td><td>2       </td><td>3       </td><td>145000  </td></tr>\n",
       "\t<tr><td>29      </td><td> 533.700</td><td> 3      </td><td> 4      </td><td>1       </td><td>1       </td><td>1       </td><td> 25000  </td></tr>\n",
       "\t<tr><td>30      </td><td> 853.920</td><td> 6      </td><td> 7      </td><td>2       </td><td>1       </td><td>1       </td><td> 24028  </td></tr>\n",
       "\t<tr><td>...</td><td>...</td><td>...</td><td>...</td><td>...</td><td>...</td><td>...</td><td>...</td></tr>\n",
       "\t<tr><td>619     </td><td>1857.276</td><td> 2      </td><td>14      </td><td>3       </td><td>2       </td><td>2       </td><td> 45000  </td></tr>\n",
       "\t<tr><td>620     </td><td>1102.980</td><td> 6      </td><td> 7      </td><td>3       </td><td>2       </td><td>2       </td><td> 65000  </td></tr>\n",
       "\t<tr><td>621     </td><td> 925.080</td><td> 2      </td><td> 4      </td><td>2       </td><td>1       </td><td>1       </td><td> 32000  </td></tr>\n",
       "\t<tr><td>622     </td><td>2312.700</td><td>11      </td><td>14      </td><td>3       </td><td>2       </td><td>2       </td><td> 99999  </td></tr>\n",
       "\t<tr><td>623     </td><td> 925.080</td><td> 4      </td><td> 9      </td><td>3       </td><td>2       </td><td>2       </td><td> 45000  </td></tr>\n",
       "\t<tr><td>624     </td><td> 711.600</td><td> 1      </td><td> 1      </td><td>3       </td><td>1       </td><td>1       </td><td> 12000  </td></tr>\n",
       "\t<tr><td>625     </td><td>4198.440</td><td>15      </td><td>19      </td><td>7       </td><td>3       </td><td>4       </td><td>180000  </td></tr>\n",
       "\t<tr><td>626     </td><td>3095.460</td><td> 1      </td><td> 6      </td><td>4       </td><td>2       </td><td>3       </td><td>100000  </td></tr>\n",
       "\t<tr><td>627     </td><td>2590.224</td><td> 5      </td><td>15      </td><td>3       </td><td>2       </td><td>3       </td><td>110000  </td></tr>\n",
       "\t<tr><td>628     </td><td>1885.740</td><td> 8      </td><td>13      </td><td>3       </td><td>2       </td><td>2       </td><td>120000  </td></tr>\n",
       "\t<tr><td>629     </td><td>1245.300</td><td> 1      </td><td>14      </td><td>3       </td><td>2       </td><td>2       </td><td> 55000  </td></tr>\n",
       "\t<tr><td>630     </td><td>1174.140</td><td>10      </td><td>12      </td><td>3       </td><td>2       </td><td>2       </td><td> 41000  </td></tr>\n",
       "\t<tr><td>631     </td><td>1458.780</td><td> 6      </td><td> 7      </td><td>2       </td><td>2       </td><td>2       </td><td> 75000  </td></tr>\n",
       "\t<tr><td>632     </td><td>1305.786</td><td> 9      </td><td>12      </td><td>3       </td><td>2       </td><td>2       </td><td> 42000  </td></tr>\n",
       "\t<tr><td>633     </td><td>1316.460</td><td>12      </td><td>12      </td><td>3       </td><td>2       </td><td>2       </td><td> 45000  </td></tr>\n",
       "\t<tr><td>634     </td><td>1167.024</td><td> 2      </td><td>12      </td><td>3       </td><td>2       </td><td>2       </td><td> 38000  </td></tr>\n",
       "\t<tr><td>635     </td><td> 996.240</td><td> 3      </td><td> 5      </td><td>3       </td><td>1       </td><td>1       </td><td> 28000  </td></tr>\n",
       "\t<tr><td>636     </td><td>1099.422</td><td> 2      </td><td> 7      </td><td>4       </td><td>2       </td><td>2       </td><td> 57777  </td></tr>\n",
       "\t<tr><td>637     </td><td>2042.292</td><td> 6      </td><td>18      </td><td>2       </td><td>2       </td><td>2       </td><td> 82000  </td></tr>\n",
       "\t<tr><td>638     </td><td> 843.246</td><td> 2      </td><td>18      </td><td>1       </td><td>1       </td><td>1       </td><td> 53000  </td></tr>\n",
       "\t<tr><td>639     </td><td>1889.298</td><td>18      </td><td>21      </td><td>3       </td><td>2       </td><td>2       </td><td> 70000  </td></tr>\n",
       "\t<tr><td>640     </td><td>1266.648</td><td> 6      </td><td> 7      </td><td>3       </td><td>2       </td><td>2       </td><td> 40000  </td></tr>\n",
       "\t<tr><td>641     </td><td>1707.840</td><td> 9      </td><td> 9      </td><td>4       </td><td>2       </td><td>2       </td><td> 60000  </td></tr>\n",
       "\t<tr><td>642     </td><td>1707.840</td><td> 9      </td><td>15      </td><td>3       </td><td>2       </td><td>2       </td><td> 80000  </td></tr>\n",
       "\t<tr><td>643     </td><td>2846.400</td><td> 5      </td><td>12      </td><td>4       </td><td>2       </td><td>2       </td><td>138888  </td></tr>\n",
       "\t<tr><td>644     </td><td>1359.156</td><td> 7      </td><td>15      </td><td>3       </td><td>2       </td><td>2       </td><td> 45000  </td></tr>\n",
       "\t<tr><td>645     </td><td> 377.148</td><td> 4      </td><td>10      </td><td>1       </td><td>1       </td><td>1       </td><td> 24800  </td></tr>\n",
       "\t<tr><td>646     </td><td> 740.064</td><td>13      </td><td>14      </td><td>1       </td><td>1       </td><td>1       </td><td> 45000  </td></tr>\n",
       "\t<tr><td>647     </td><td>1707.840</td><td> 3      </td><td>14      </td><td>3       </td><td>2       </td><td>2       </td><td> 65000  </td></tr>\n",
       "\t<tr><td>648     </td><td>1376.946</td><td> 6      </td><td> 7      </td><td>3       </td><td>2       </td><td>1       </td><td> 36000  </td></tr>\n",
       "</tbody>\n",
       "</table>\n"
      ],
      "text/latex": [
       "\\begin{tabular}{r|llllllll}\n",
       " X & Sqft & Floor & TotalFloor & Bedroom & Living.Room & Bathroom & Price\\\\\n",
       "\\hline\n",
       "\t  1       & 1177.698 &  2       &  7       & 2        & 2        & 2        &  62000  \\\\\n",
       "\t  2       & 2134.800 &  5       &  7       & 4        & 2        & 2        &  78000  \\\\\n",
       "\t  3       & 1138.560 &  5       &  7       & 2        & 2        & 1        &  58000  \\\\\n",
       "\t  4       & 1458.780 &  2       &  7       & 3        & 2        & 2        &  45000  \\\\\n",
       "\t  5       &  967.776 & 11       & 14       & 3        & 2        & 2        &  45000  \\\\\n",
       "\t  6       & 1127.886 & 11       & 12       & 4        & 2        & 2        & 148000  \\\\\n",
       "\t  7       & 1352.040 &  5       &  7       & 3        & 2        & 1        &  58000  \\\\\n",
       "\t  8       &  757.854 &  5       & 14       & 1        & 0        & 1        &  48000  \\\\\n",
       "\t  9       & 1152.792 & 10       & 12       & 3        & 2        & 2        &  45000  \\\\\n",
       "\t 10       & 1423.200 &  4       &  5       & 4        & 2        & 2        &  65000  \\\\\n",
       "\t 11       &  668.904 &  4       & 11       & 1        & 1        & 1        &  31000  \\\\\n",
       "\t 12       &  711.600 &  4       &  7       & 2        & 1        & 1        &  29002  \\\\\n",
       "\t 13       & 1352.040 &  9       & 19       & 4        & 2        & 2        &  39000  \\\\\n",
       "\t 14       &  818.340 &  4       & 13       & 2        & 2        & 1        &  48000  \\\\\n",
       "\t 15       & 2134.800 & 10       & 19       & 3        & 2        & 2        &  55000  \\\\\n",
       "\t 16       & 2768.124 &  6       & 19       & 3        & 2        & 2        & 100000  \\\\\n",
       "\t 17       &  711.600 &  5       & 13       & 2        & 2        & 1        &  48000  \\\\\n",
       "\t 18       &  462.540 &  5       & 13       & 1        & 1        & 1        &  25000  \\\\\n",
       "\t 19       & 2739.660 &  6       & 19       & 3        & 2        & 2        &  90000  \\\\\n",
       "\t 20       & 1174.140 &  3       &  9       & 3        & 2        & 1        &  33000  \\\\\n",
       "\t 21       & 2490.600 & 19       & 21       & 5        & 3        & 4        & 140000  \\\\\n",
       "\t 22       & 2768.124 &  6       & 19       & 3        & 2        & 2        & 100000  \\\\\n",
       "\t 23       &  747.180 &  7       & 15       & 2        & 2        & 1        &  55000  \\\\\n",
       "\t 24       & 1668.702 &  4       & 12       & 3        & 2        & 2        & 105000  \\\\\n",
       "\t 25       & 3664.740 & 19       & 19       & 3        & 2        & 3        & 200000  \\\\\n",
       "\t 26       & 1779.000 & 10       & 12       & 4        & 2        & 2        &  98000  \\\\\n",
       "\t 27       & 3664.740 & 19       & 19       & 3        & 2        & 3        & 200000  \\\\\n",
       "\t 28       & 3059.880 & 21       & 24       & 4        & 2        & 3        & 145000  \\\\\n",
       "\t 29       &  533.700 &  3       &  4       & 1        & 1        & 1        &  25000  \\\\\n",
       "\t 30       &  853.920 &  6       &  7       & 2        & 1        & 1        &  24028  \\\\\n",
       "\t ... & ... & ... & ... & ... & ... & ... & ...\\\\\n",
       "\t 619      & 1857.276 &  2       & 14       & 3        & 2        & 2        &  45000  \\\\\n",
       "\t 620      & 1102.980 &  6       &  7       & 3        & 2        & 2        &  65000  \\\\\n",
       "\t 621      &  925.080 &  2       &  4       & 2        & 1        & 1        &  32000  \\\\\n",
       "\t 622      & 2312.700 & 11       & 14       & 3        & 2        & 2        &  99999  \\\\\n",
       "\t 623      &  925.080 &  4       &  9       & 3        & 2        & 2        &  45000  \\\\\n",
       "\t 624      &  711.600 &  1       &  1       & 3        & 1        & 1        &  12000  \\\\\n",
       "\t 625      & 4198.440 & 15       & 19       & 7        & 3        & 4        & 180000  \\\\\n",
       "\t 626      & 3095.460 &  1       &  6       & 4        & 2        & 3        & 100000  \\\\\n",
       "\t 627      & 2590.224 &  5       & 15       & 3        & 2        & 3        & 110000  \\\\\n",
       "\t 628      & 1885.740 &  8       & 13       & 3        & 2        & 2        & 120000  \\\\\n",
       "\t 629      & 1245.300 &  1       & 14       & 3        & 2        & 2        &  55000  \\\\\n",
       "\t 630      & 1174.140 & 10       & 12       & 3        & 2        & 2        &  41000  \\\\\n",
       "\t 631      & 1458.780 &  6       &  7       & 2        & 2        & 2        &  75000  \\\\\n",
       "\t 632      & 1305.786 &  9       & 12       & 3        & 2        & 2        &  42000  \\\\\n",
       "\t 633      & 1316.460 & 12       & 12       & 3        & 2        & 2        &  45000  \\\\\n",
       "\t 634      & 1167.024 &  2       & 12       & 3        & 2        & 2        &  38000  \\\\\n",
       "\t 635      &  996.240 &  3       &  5       & 3        & 1        & 1        &  28000  \\\\\n",
       "\t 636      & 1099.422 &  2       &  7       & 4        & 2        & 2        &  57777  \\\\\n",
       "\t 637      & 2042.292 &  6       & 18       & 2        & 2        & 2        &  82000  \\\\\n",
       "\t 638      &  843.246 &  2       & 18       & 1        & 1        & 1        &  53000  \\\\\n",
       "\t 639      & 1889.298 & 18       & 21       & 3        & 2        & 2        &  70000  \\\\\n",
       "\t 640      & 1266.648 &  6       &  7       & 3        & 2        & 2        &  40000  \\\\\n",
       "\t 641      & 1707.840 &  9       &  9       & 4        & 2        & 2        &  60000  \\\\\n",
       "\t 642      & 1707.840 &  9       & 15       & 3        & 2        & 2        &  80000  \\\\\n",
       "\t 643      & 2846.400 &  5       & 12       & 4        & 2        & 2        & 138888  \\\\\n",
       "\t 644      & 1359.156 &  7       & 15       & 3        & 2        & 2        &  45000  \\\\\n",
       "\t 645      &  377.148 &  4       & 10       & 1        & 1        & 1        &  24800  \\\\\n",
       "\t 646      &  740.064 & 13       & 14       & 1        & 1        & 1        &  45000  \\\\\n",
       "\t 647      & 1707.840 &  3       & 14       & 3        & 2        & 2        &  65000  \\\\\n",
       "\t 648      & 1376.946 &  6       &  7       & 3        & 2        & 1        &  36000  \\\\\n",
       "\\end{tabular}\n"
      ],
      "text/markdown": [
       "\n",
       "X | Sqft | Floor | TotalFloor | Bedroom | Living.Room | Bathroom | Price | \n",
       "|---|---|---|---|---|---|---|---|---|---|---|---|---|---|---|---|---|---|---|---|---|---|---|---|---|---|---|---|---|---|---|---|---|---|---|---|---|---|---|---|---|---|---|---|---|---|---|---|---|---|---|---|---|---|---|---|---|---|---|---|---|\n",
       "|  1       | 1177.698 |  2       |  7       | 2        | 2        | 2        |  62000   | \n",
       "|  2       | 2134.800 |  5       |  7       | 4        | 2        | 2        |  78000   | \n",
       "|  3       | 1138.560 |  5       |  7       | 2        | 2        | 1        |  58000   | \n",
       "|  4       | 1458.780 |  2       |  7       | 3        | 2        | 2        |  45000   | \n",
       "|  5       |  967.776 | 11       | 14       | 3        | 2        | 2        |  45000   | \n",
       "|  6       | 1127.886 | 11       | 12       | 4        | 2        | 2        | 148000   | \n",
       "|  7       | 1352.040 |  5       |  7       | 3        | 2        | 1        |  58000   | \n",
       "|  8       |  757.854 |  5       | 14       | 1        | 0        | 1        |  48000   | \n",
       "|  9       | 1152.792 | 10       | 12       | 3        | 2        | 2        |  45000   | \n",
       "| 10       | 1423.200 |  4       |  5       | 4        | 2        | 2        |  65000   | \n",
       "| 11       |  668.904 |  4       | 11       | 1        | 1        | 1        |  31000   | \n",
       "| 12       |  711.600 |  4       |  7       | 2        | 1        | 1        |  29002   | \n",
       "| 13       | 1352.040 |  9       | 19       | 4        | 2        | 2        |  39000   | \n",
       "| 14       |  818.340 |  4       | 13       | 2        | 2        | 1        |  48000   | \n",
       "| 15       | 2134.800 | 10       | 19       | 3        | 2        | 2        |  55000   | \n",
       "| 16       | 2768.124 |  6       | 19       | 3        | 2        | 2        | 100000   | \n",
       "| 17       |  711.600 |  5       | 13       | 2        | 2        | 1        |  48000   | \n",
       "| 18       |  462.540 |  5       | 13       | 1        | 1        | 1        |  25000   | \n",
       "| 19       | 2739.660 |  6       | 19       | 3        | 2        | 2        |  90000   | \n",
       "| 20       | 1174.140 |  3       |  9       | 3        | 2        | 1        |  33000   | \n",
       "| 21       | 2490.600 | 19       | 21       | 5        | 3        | 4        | 140000   | \n",
       "| 22       | 2768.124 |  6       | 19       | 3        | 2        | 2        | 100000   | \n",
       "| 23       |  747.180 |  7       | 15       | 2        | 2        | 1        |  55000   | \n",
       "| 24       | 1668.702 |  4       | 12       | 3        | 2        | 2        | 105000   | \n",
       "| 25       | 3664.740 | 19       | 19       | 3        | 2        | 3        | 200000   | \n",
       "| 26       | 1779.000 | 10       | 12       | 4        | 2        | 2        |  98000   | \n",
       "| 27       | 3664.740 | 19       | 19       | 3        | 2        | 3        | 200000   | \n",
       "| 28       | 3059.880 | 21       | 24       | 4        | 2        | 3        | 145000   | \n",
       "| 29       |  533.700 |  3       |  4       | 1        | 1        | 1        |  25000   | \n",
       "| 30       |  853.920 |  6       |  7       | 2        | 1        | 1        |  24028   | \n",
       "| ... | ... | ... | ... | ... | ... | ... | ... | \n",
       "| 619      | 1857.276 |  2       | 14       | 3        | 2        | 2        |  45000   | \n",
       "| 620      | 1102.980 |  6       |  7       | 3        | 2        | 2        |  65000   | \n",
       "| 621      |  925.080 |  2       |  4       | 2        | 1        | 1        |  32000   | \n",
       "| 622      | 2312.700 | 11       | 14       | 3        | 2        | 2        |  99999   | \n",
       "| 623      |  925.080 |  4       |  9       | 3        | 2        | 2        |  45000   | \n",
       "| 624      |  711.600 |  1       |  1       | 3        | 1        | 1        |  12000   | \n",
       "| 625      | 4198.440 | 15       | 19       | 7        | 3        | 4        | 180000   | \n",
       "| 626      | 3095.460 |  1       |  6       | 4        | 2        | 3        | 100000   | \n",
       "| 627      | 2590.224 |  5       | 15       | 3        | 2        | 3        | 110000   | \n",
       "| 628      | 1885.740 |  8       | 13       | 3        | 2        | 2        | 120000   | \n",
       "| 629      | 1245.300 |  1       | 14       | 3        | 2        | 2        |  55000   | \n",
       "| 630      | 1174.140 | 10       | 12       | 3        | 2        | 2        |  41000   | \n",
       "| 631      | 1458.780 |  6       |  7       | 2        | 2        | 2        |  75000   | \n",
       "| 632      | 1305.786 |  9       | 12       | 3        | 2        | 2        |  42000   | \n",
       "| 633      | 1316.460 | 12       | 12       | 3        | 2        | 2        |  45000   | \n",
       "| 634      | 1167.024 |  2       | 12       | 3        | 2        | 2        |  38000   | \n",
       "| 635      |  996.240 |  3       |  5       | 3        | 1        | 1        |  28000   | \n",
       "| 636      | 1099.422 |  2       |  7       | 4        | 2        | 2        |  57777   | \n",
       "| 637      | 2042.292 |  6       | 18       | 2        | 2        | 2        |  82000   | \n",
       "| 638      |  843.246 |  2       | 18       | 1        | 1        | 1        |  53000   | \n",
       "| 639      | 1889.298 | 18       | 21       | 3        | 2        | 2        |  70000   | \n",
       "| 640      | 1266.648 |  6       |  7       | 3        | 2        | 2        |  40000   | \n",
       "| 641      | 1707.840 |  9       |  9       | 4        | 2        | 2        |  60000   | \n",
       "| 642      | 1707.840 |  9       | 15       | 3        | 2        | 2        |  80000   | \n",
       "| 643      | 2846.400 |  5       | 12       | 4        | 2        | 2        | 138888   | \n",
       "| 644      | 1359.156 |  7       | 15       | 3        | 2        | 2        |  45000   | \n",
       "| 645      |  377.148 |  4       | 10       | 1        | 1        | 1        |  24800   | \n",
       "| 646      |  740.064 | 13       | 14       | 1        | 1        | 1        |  45000   | \n",
       "| 647      | 1707.840 |  3       | 14       | 3        | 2        | 2        |  65000   | \n",
       "| 648      | 1376.946 |  6       |  7       | 3        | 2        | 1        |  36000   | \n",
       "\n",
       "\n"
      ],
      "text/plain": [
       "    X   Sqft     Floor TotalFloor Bedroom Living.Room Bathroom Price \n",
       "1    1  1177.698  2     7         2       2           2         62000\n",
       "2    2  2134.800  5     7         4       2           2         78000\n",
       "3    3  1138.560  5     7         2       2           1         58000\n",
       "4    4  1458.780  2     7         3       2           2         45000\n",
       "5    5   967.776 11    14         3       2           2         45000\n",
       "6    6  1127.886 11    12         4       2           2        148000\n",
       "7    7  1352.040  5     7         3       2           1         58000\n",
       "8    8   757.854  5    14         1       0           1         48000\n",
       "9    9  1152.792 10    12         3       2           2         45000\n",
       "10  10  1423.200  4     5         4       2           2         65000\n",
       "11  11   668.904  4    11         1       1           1         31000\n",
       "12  12   711.600  4     7         2       1           1         29002\n",
       "13  13  1352.040  9    19         4       2           2         39000\n",
       "14  14   818.340  4    13         2       2           1         48000\n",
       "15  15  2134.800 10    19         3       2           2         55000\n",
       "16  16  2768.124  6    19         3       2           2        100000\n",
       "17  17   711.600  5    13         2       2           1         48000\n",
       "18  18   462.540  5    13         1       1           1         25000\n",
       "19  19  2739.660  6    19         3       2           2         90000\n",
       "20  20  1174.140  3     9         3       2           1         33000\n",
       "21  21  2490.600 19    21         5       3           4        140000\n",
       "22  22  2768.124  6    19         3       2           2        100000\n",
       "23  23   747.180  7    15         2       2           1         55000\n",
       "24  24  1668.702  4    12         3       2           2        105000\n",
       "25  25  3664.740 19    19         3       2           3        200000\n",
       "26  26  1779.000 10    12         4       2           2         98000\n",
       "27  27  3664.740 19    19         3       2           3        200000\n",
       "28  28  3059.880 21    24         4       2           3        145000\n",
       "29  29   533.700  3     4         1       1           1         25000\n",
       "30  30   853.920  6     7         2       1           1         24028\n",
       "... ... ...      ...   ...        ...     ...         ...      ...   \n",
       "616 619 1857.276  2    14         3       2           2         45000\n",
       "617 620 1102.980  6     7         3       2           2         65000\n",
       "618 621  925.080  2     4         2       1           1         32000\n",
       "619 622 2312.700 11    14         3       2           2         99999\n",
       "620 623  925.080  4     9         3       2           2         45000\n",
       "621 624  711.600  1     1         3       1           1         12000\n",
       "622 625 4198.440 15    19         7       3           4        180000\n",
       "623 626 3095.460  1     6         4       2           3        100000\n",
       "624 627 2590.224  5    15         3       2           3        110000\n",
       "625 628 1885.740  8    13         3       2           2        120000\n",
       "626 629 1245.300  1    14         3       2           2         55000\n",
       "627 630 1174.140 10    12         3       2           2         41000\n",
       "628 631 1458.780  6     7         2       2           2         75000\n",
       "629 632 1305.786  9    12         3       2           2         42000\n",
       "630 633 1316.460 12    12         3       2           2         45000\n",
       "631 634 1167.024  2    12         3       2           2         38000\n",
       "632 635  996.240  3     5         3       1           1         28000\n",
       "633 636 1099.422  2     7         4       2           2         57777\n",
       "634 637 2042.292  6    18         2       2           2         82000\n",
       "635 638  843.246  2    18         1       1           1         53000\n",
       "636 639 1889.298 18    21         3       2           2         70000\n",
       "637 640 1266.648  6     7         3       2           2         40000\n",
       "638 641 1707.840  9     9         4       2           2         60000\n",
       "639 642 1707.840  9    15         3       2           2         80000\n",
       "640 643 2846.400  5    12         4       2           2        138888\n",
       "641 644 1359.156  7    15         3       2           2         45000\n",
       "642 645  377.148  4    10         1       1           1         24800\n",
       "643 646  740.064 13    14         1       1           1         45000\n",
       "644 647 1707.840  3    14         3       2           2         65000\n",
       "645 648 1376.946  6     7         3       2           1         36000"
      ]
     },
     "metadata": {},
     "output_type": "display_data"
    }
   ],
   "source": [
    "house"
   ]
  },
  {
   "cell_type": "code",
   "execution_count": 10,
   "metadata": {
    "collapsed": true
   },
   "outputs": [],
   "source": [
    "#Price - dependent variable\n",
    "#Sqft - independent variable\n",
    "#Linear Regression\n",
    "lmfit <- lm(Price ~ Sqft, data=house)"
   ]
  },
  {
   "cell_type": "code",
   "execution_count": 6,
   "metadata": {},
   "outputs": [
    {
     "data": {
      "text/plain": [
       "\n",
       "Call:\n",
       "lm(formula = Price ~ Sqft, data = house)\n",
       "\n",
       "Coefficients:\n",
       "(Intercept)         Sqft  \n",
       "    3425.13        38.33  \n"
      ]
     },
     "metadata": {},
     "output_type": "display_data"
    }
   ],
   "source": [
    "lmfit"
   ]
  },
  {
   "cell_type": "code",
   "execution_count": 8,
   "metadata": {},
   "outputs": [
    {
     "data": {
      "image/png": "[encoded data removed]",
      "text/plain": [
       "plot without title"
      ]
     },
     "metadata": {},
     "output_type": "display_data"
    }
   ],
   "source": [
    "plot(Price ~ Sqft, data=house)\n",
    "abline(lmfit, col=\"red\")"
   ]
  },
  {
   "cell_type": "code",
   "execution_count": null,
   "metadata": {
    "collapsed": true
   },
   "outputs": [],
   "source": [
    "### Polynomial Linear Regression"
   ]
  },
  {
   "cell_type": "code",
   "execution_count": 9,
   "metadata": {
    "collapsed": true
   },
   "outputs": [],
   "source": [
    "data(anscombe)"
   ]
  },
  {
   "cell_type": "code",
   "execution_count": 11,
   "metadata": {},
   "outputs": [
    {
     "data": {
      "text/html": [
       "<table>\n",
       "<thead><tr><th scope=col>x1</th><th scope=col>x2</th><th scope=col>x3</th><th scope=col>x4</th><th scope=col>y1</th><th scope=col>y2</th><th scope=col>y3</th><th scope=col>y4</th></tr></thead>\n",
       "<tbody>\n",
       "\t<tr><td>10   </td><td>10   </td><td>10   </td><td> 8   </td><td> 8.04</td><td>9.14 </td><td> 7.46</td><td> 6.58</td></tr>\n",
       "\t<tr><td> 8   </td><td> 8   </td><td> 8   </td><td> 8   </td><td> 6.95</td><td>8.14 </td><td> 6.77</td><td> 5.76</td></tr>\n",
       "\t<tr><td>13   </td><td>13   </td><td>13   </td><td> 8   </td><td> 7.58</td><td>8.74 </td><td>12.74</td><td> 7.71</td></tr>\n",
       "\t<tr><td> 9   </td><td> 9   </td><td> 9   </td><td> 8   </td><td> 8.81</td><td>8.77 </td><td> 7.11</td><td> 8.84</td></tr>\n",
       "\t<tr><td>11   </td><td>11   </td><td>11   </td><td> 8   </td><td> 8.33</td><td>9.26 </td><td> 7.81</td><td> 8.47</td></tr>\n",
       "\t<tr><td>14   </td><td>14   </td><td>14   </td><td> 8   </td><td> 9.96</td><td>8.10 </td><td> 8.84</td><td> 7.04</td></tr>\n",
       "\t<tr><td> 6   </td><td> 6   </td><td> 6   </td><td> 8   </td><td> 7.24</td><td>6.13 </td><td> 6.08</td><td> 5.25</td></tr>\n",
       "\t<tr><td> 4   </td><td> 4   </td><td> 4   </td><td>19   </td><td> 4.26</td><td>3.10 </td><td> 5.39</td><td>12.50</td></tr>\n",
       "\t<tr><td>12   </td><td>12   </td><td>12   </td><td> 8   </td><td>10.84</td><td>9.13 </td><td> 8.15</td><td> 5.56</td></tr>\n",
       "\t<tr><td> 7   </td><td> 7   </td><td> 7   </td><td> 8   </td><td> 4.82</td><td>7.26 </td><td> 6.42</td><td> 7.91</td></tr>\n",
       "\t<tr><td> 5   </td><td> 5   </td><td> 5   </td><td> 8   </td><td> 5.68</td><td>4.74 </td><td> 5.73</td><td> 6.89</td></tr>\n",
       "</tbody>\n",
       "</table>\n"
      ],
      "text/latex": [
       "\\begin{tabular}{r|llllllll}\n",
       " x1 & x2 & x3 & x4 & y1 & y2 & y3 & y4\\\\\n",
       "\\hline\n",
       "\t 10    & 10    & 10    &  8    &  8.04 & 9.14  &  7.46 &  6.58\\\\\n",
       "\t  8    &  8    &  8    &  8    &  6.95 & 8.14  &  6.77 &  5.76\\\\\n",
       "\t 13    & 13    & 13    &  8    &  7.58 & 8.74  & 12.74 &  7.71\\\\\n",
       "\t  9    &  9    &  9    &  8    &  8.81 & 8.77  &  7.11 &  8.84\\\\\n",
       "\t 11    & 11    & 11    &  8    &  8.33 & 9.26  &  7.81 &  8.47\\\\\n",
       "\t 14    & 14    & 14    &  8    &  9.96 & 8.10  &  8.84 &  7.04\\\\\n",
       "\t  6    &  6    &  6    &  8    &  7.24 & 6.13  &  6.08 &  5.25\\\\\n",
       "\t  4    &  4    &  4    & 19    &  4.26 & 3.10  &  5.39 & 12.50\\\\\n",
       "\t 12    & 12    & 12    &  8    & 10.84 & 9.13  &  8.15 &  5.56\\\\\n",
       "\t  7    &  7    &  7    &  8    &  4.82 & 7.26  &  6.42 &  7.91\\\\\n",
       "\t  5    &  5    &  5    &  8    &  5.68 & 4.74  &  5.73 &  6.89\\\\\n",
       "\\end{tabular}\n"
      ],
      "text/markdown": [
       "\n",
       "x1 | x2 | x3 | x4 | y1 | y2 | y3 | y4 | \n",
       "|---|---|---|---|---|---|---|---|---|---|---|\n",
       "| 10    | 10    | 10    |  8    |  8.04 | 9.14  |  7.46 |  6.58 | \n",
       "|  8    |  8    |  8    |  8    |  6.95 | 8.14  |  6.77 |  5.76 | \n",
       "| 13    | 13    | 13    |  8    |  7.58 | 8.74  | 12.74 |  7.71 | \n",
       "|  9    |  9    |  9    |  8    |  8.81 | 8.77  |  7.11 |  8.84 | \n",
       "| 11    | 11    | 11    |  8    |  8.33 | 9.26  |  7.81 |  8.47 | \n",
       "| 14    | 14    | 14    |  8    |  9.96 | 8.10  |  8.84 |  7.04 | \n",
       "|  6    |  6    |  6    |  8    |  7.24 | 6.13  |  6.08 |  5.25 | \n",
       "|  4    |  4    |  4    | 19    |  4.26 | 3.10  |  5.39 | 12.50 | \n",
       "| 12    | 12    | 12    |  8    | 10.84 | 9.13  |  8.15 |  5.56 | \n",
       "|  7    |  7    |  7    |  8    |  4.82 | 7.26  |  6.42 |  7.91 | \n",
       "|  5    |  5    |  5    |  8    |  5.68 | 4.74  |  5.73 |  6.89 | \n",
       "\n",
       "\n"
      ],
      "text/plain": [
       "   x1 x2 x3 x4 y1    y2   y3    y4   \n",
       "1  10 10 10  8  8.04 9.14  7.46  6.58\n",
       "2   8  8  8  8  6.95 8.14  6.77  5.76\n",
       "3  13 13 13  8  7.58 8.74 12.74  7.71\n",
       "4   9  9  9  8  8.81 8.77  7.11  8.84\n",
       "5  11 11 11  8  8.33 9.26  7.81  8.47\n",
       "6  14 14 14  8  9.96 8.10  8.84  7.04\n",
       "7   6  6  6  8  7.24 6.13  6.08  5.25\n",
       "8   4  4  4 19  4.26 3.10  5.39 12.50\n",
       "9  12 12 12  8 10.84 9.13  8.15  5.56\n",
       "10  7  7  7  8  4.82 7.26  6.42  7.91\n",
       "11  5  5  5  8  5.68 4.74  5.73  6.89"
      ]
     },
     "metadata": {},
     "output_type": "display_data"
    }
   ],
   "source": [
    "anscombe"
   ]
  },
  {
   "cell_type": "code",
   "execution_count": 12,
   "metadata": {},
   "outputs": [
    {
     "data": {
      "image/png": "[encoded data removed]",
      "text/plain": [
       "plot without title"
      ]
     },
     "metadata": {},
     "output_type": "display_data"
    }
   ],
   "source": [
    "plot(y2 ~ x1, data=anscombe)"
   ]
  },
  {
   "cell_type": "code",
   "execution_count": 24,
   "metadata": {},
   "outputs": [
    {
     "data": {
      "image/png": "[encoded data removed]",
      "text/plain": [
       "plot without title"
      ]
     },
     "metadata": {},
     "output_type": "display_data"
    }
   ],
   "source": [
    "plot(y2 ~ x1, data=anscombe)\n",
    "lmfit2 <- lm(y2~poly(x1,2), data=anscombe)\n",
    "\n",
    "#lines(sort(anscombe$x1), lmfit2$fit[order(anscombe$x1)], col = \"red\")"
   ]
  },
  {
   "cell_type": "code",
   "execution_count": 16,
   "metadata": {},
   "outputs": [
    {
     "data": {
      "text/html": [
       "<ol class=list-inline>\n",
       "\t<li>8</li>\n",
       "\t<li>11</li>\n",
       "\t<li>7</li>\n",
       "\t<li>10</li>\n",
       "\t<li>2</li>\n",
       "\t<li>4</li>\n",
       "\t<li>1</li>\n",
       "\t<li>5</li>\n",
       "\t<li>9</li>\n",
       "\t<li>3</li>\n",
       "\t<li>6</li>\n",
       "</ol>\n"
      ],
      "text/latex": [
       "\\begin{enumerate*}\n",
       "\\item 8\n",
       "\\item 11\n",
       "\\item 7\n",
       "\\item 10\n",
       "\\item 2\n",
       "\\item 4\n",
       "\\item 1\n",
       "\\item 5\n",
       "\\item 9\n",
       "\\item 3\n",
       "\\item 6\n",
       "\\end{enumerate*}\n"
      ],
      "text/markdown": [
       "1. 8\n",
       "2. 11\n",
       "3. 7\n",
       "4. 10\n",
       "5. 2\n",
       "6. 4\n",
       "7. 1\n",
       "8. 5\n",
       "9. 9\n",
       "10. 3\n",
       "11. 6\n",
       "\n",
       "\n"
      ],
      "text/plain": [
       " [1]  8 11  7 10  2  4  1  5  9  3  6"
      ]
     },
     "metadata": {},
     "output_type": "display_data"
    }
   ],
   "source": [
    "order(anscombe$x1)"
   ]
  },
  {
   "cell_type": "code",
   "execution_count": 17,
   "metadata": {},
   "outputs": [
    {
     "data": {
      "text/html": [
       "<ol class=list-inline>\n",
       "\t<li>10</li>\n",
       "\t<li>8</li>\n",
       "\t<li>13</li>\n",
       "\t<li>9</li>\n",
       "\t<li>11</li>\n",
       "\t<li>14</li>\n",
       "\t<li>6</li>\n",
       "\t<li>4</li>\n",
       "\t<li>12</li>\n",
       "\t<li>7</li>\n",
       "\t<li>5</li>\n",
       "</ol>\n"
      ],
      "text/latex": [
       "\\begin{enumerate*}\n",
       "\\item 10\n",
       "\\item 8\n",
       "\\item 13\n",
       "\\item 9\n",
       "\\item 11\n",
       "\\item 14\n",
       "\\item 6\n",
       "\\item 4\n",
       "\\item 12\n",
       "\\item 7\n",
       "\\item 5\n",
       "\\end{enumerate*}\n"
      ],
      "text/markdown": [
       "1. 10\n",
       "2. 8\n",
       "3. 13\n",
       "4. 9\n",
       "5. 11\n",
       "6. 14\n",
       "7. 6\n",
       "8. 4\n",
       "9. 12\n",
       "10. 7\n",
       "11. 5\n",
       "\n",
       "\n"
      ],
      "text/plain": [
       " [1] 10  8 13  9 11 14  6  4 12  7  5"
      ]
     },
     "metadata": {},
     "output_type": "display_data"
    }
   ],
   "source": [
    "anscombe$x1"
   ]
  },
  {
   "cell_type": "code",
   "execution_count": 18,
   "metadata": {},
   "outputs": [
    {
     "data": {
      "text/html": [
       "<ol class=list-inline>\n",
       "\t<li>4</li>\n",
       "\t<li>5</li>\n",
       "\t<li>6</li>\n",
       "\t<li>7</li>\n",
       "\t<li>8</li>\n",
       "\t<li>9</li>\n",
       "\t<li>10</li>\n",
       "\t<li>11</li>\n",
       "\t<li>12</li>\n",
       "\t<li>13</li>\n",
       "\t<li>14</li>\n",
       "</ol>\n"
      ],
      "text/latex": [
       "\\begin{enumerate*}\n",
       "\\item 4\n",
       "\\item 5\n",
       "\\item 6\n",
       "\\item 7\n",
       "\\item 8\n",
       "\\item 9\n",
       "\\item 10\n",
       "\\item 11\n",
       "\\item 12\n",
       "\\item 13\n",
       "\\item 14\n",
       "\\end{enumerate*}\n"
      ],
      "text/markdown": [
       "1. 4\n",
       "2. 5\n",
       "3. 6\n",
       "4. 7\n",
       "5. 8\n",
       "6. 9\n",
       "7. 10\n",
       "8. 11\n",
       "9. 12\n",
       "10. 13\n",
       "11. 14\n",
       "\n",
       "\n"
      ],
      "text/plain": [
       " [1]  4  5  6  7  8  9 10 11 12 13 14"
      ]
     },
     "metadata": {},
     "output_type": "display_data"
    }
   ],
   "source": [
    "sort(anscombe$x1)"
   ]
  },
  {
   "cell_type": "code",
   "execution_count": 19,
   "metadata": {},
   "outputs": [
    {
     "data": {
      "text/html": [
       "<dl class=dl-horizontal>\n",
       "\t<dt>8</dt>\n",
       "\t\t<dd>3.10020979020979</dd>\n",
       "\t<dt>11</dt>\n",
       "\t\t<dd>4.74062937062937</dd>\n",
       "\t<dt>7</dt>\n",
       "\t\t<dd>6.12762237762238</dd>\n",
       "\t<dt>10</dt>\n",
       "\t\t<dd>7.26118881118881</dd>\n",
       "\t<dt>2</dt>\n",
       "\t\t<dd>8.14132867132867</dd>\n",
       "\t<dt>4</dt>\n",
       "\t\t<dd>8.76804195804196</dd>\n",
       "\t<dt>1</dt>\n",
       "\t\t<dd>9.14132867132867</dd>\n",
       "\t<dt>5</dt>\n",
       "\t\t<dd>9.26118881118881</dd>\n",
       "\t<dt>9</dt>\n",
       "\t\t<dd>9.12762237762238</dd>\n",
       "\t<dt>3</dt>\n",
       "\t\t<dd>8.74062937062937</dd>\n",
       "\t<dt>6</dt>\n",
       "\t\t<dd>8.10020979020979</dd>\n",
       "</dl>\n"
      ],
      "text/latex": [
       "\\begin{description*}\n",
       "\\item[8] 3.10020979020979\n",
       "\\item[11] 4.74062937062937\n",
       "\\item[7] 6.12762237762238\n",
       "\\item[10] 7.26118881118881\n",
       "\\item[2] 8.14132867132867\n",
       "\\item[4] 8.76804195804196\n",
       "\\item[1] 9.14132867132867\n",
       "\\item[5] 9.26118881118881\n",
       "\\item[9] 9.12762237762238\n",
       "\\item[3] 8.74062937062937\n",
       "\\item[6] 8.10020979020979\n",
       "\\end{description*}\n"
      ],
      "text/markdown": [
       "8\n",
       ":   3.1002097902097911\n",
       ":   4.740629370629377\n",
       ":   6.1276223776223810\n",
       ":   7.261188811188812\n",
       ":   8.141328671328674\n",
       ":   8.768041958041961\n",
       ":   9.141328671328675\n",
       ":   9.261188811188819\n",
       ":   9.127622377622383\n",
       ":   8.740629370629376\n",
       ":   8.10020979020979\n",
       "\n"
      ],
      "text/plain": [
       "       8       11        7       10        2        4        1        5 \n",
       "3.100210 4.740629 6.127622 7.261189 8.141329 8.768042 9.141329 9.261189 \n",
       "       9        3        6 \n",
       "9.127622 8.740629 8.100210 "
      ]
     },
     "metadata": {},
     "output_type": "display_data"
    }
   ],
   "source": [
    "lmfit2$fit[order(anscombe$x1)]"
   ]
  },
  {
   "cell_type": "code",
   "execution_count": 22,
   "metadata": {
    "collapsed": true
   },
   "outputs": [],
   "source": [
    "help(order)"
   ]
  },
  {
   "cell_type": "code",
   "execution_count": 25,
   "metadata": {},
   "outputs": [
    {
     "data": {
      "text/html": [
       "<dl class=dl-horizontal>\n",
       "\t<dt>(Intercept)</dt>\n",
       "\t\t<dd>3425.13318097656</dd>\n",
       "\t<dt>Sqft</dt>\n",
       "\t\t<dd>38.3343371086682</dd>\n",
       "</dl>\n"
      ],
      "text/latex": [
       "\\begin{description*}\n",
       "\\item[(Intercept)] 3425.13318097656\n",
       "\\item[Sqft] 38.3343371086682\n",
       "\\end{description*}\n"
      ],
      "text/markdown": [
       "(Intercept)\n",
       ":   3425.13318097656Sqft\n",
       ":   38.3343371086682\n",
       "\n"
      ],
      "text/plain": [
       "(Intercept)        Sqft \n",
       " 3425.13318    38.33434 "
      ]
     },
     "metadata": {},
     "output_type": "display_data"
    }
   ],
   "source": [
    "coefficients(lmfit)"
   ]
  },
  {
   "cell_type": "code",
   "execution_count": 27,
   "metadata": {},
   "outputs": [],
   "source": [
    "\n",
    "newdata <- data.frame(Sqft=c(800, 900, 1000))"
   ]
  },
  {
   "cell_type": "code",
   "execution_count": 28,
   "metadata": {},
   "outputs": [
    {
     "data": {
      "text/html": [
       "<dl class=dl-horizontal>\n",
       "\t<dt>1</dt>\n",
       "\t\t<dd>34092.6028679111</dd>\n",
       "\t<dt>2</dt>\n",
       "\t\t<dd>37926.0365787779</dd>\n",
       "\t<dt>3</dt>\n",
       "\t\t<dd>41759.4702896448</dd>\n",
       "</dl>\n"
      ],
      "text/latex": [
       "\\begin{description*}\n",
       "\\item[1] 34092.6028679111\n",
       "\\item[2] 37926.0365787779\n",
       "\\item[3] 41759.4702896448\n",
       "\\end{description*}\n"
      ],
      "text/markdown": [
       "1\n",
       ":   34092.60286791112\n",
       ":   37926.03657877793\n",
       ":   41759.4702896448\n",
       "\n"
      ],
      "text/plain": [
       "       1        2        3 \n",
       "34092.60 37926.04 41759.47 "
      ]
     },
     "metadata": {},
     "output_type": "display_data"
    }
   ],
   "source": [
    "predict(lmfit ,newdata)"
   ]
  },
  {
   "cell_type": "code",
   "execution_count": 29,
   "metadata": {
    "collapsed": true
   },
   "outputs": [],
   "source": [
    "predicted <- predict(lmfit, data=house)"
   ]
  },
  {
   "cell_type": "code",
   "execution_count": 30,
   "metadata": {
    "collapsed": true
   },
   "outputs": [],
   "source": [
    "actual <- house$Sqft"
   ]
  },
  {
   "cell_type": "code",
   "execution_count": 36,
   "metadata": {
    "collapsed": true
   },
   "outputs": [],
   "source": [
    "#Root Mean Squared Error\n",
    "rmse <- (mean((predicted - actual)^2))^0.5"
   ]
  },
  {
   "cell_type": "code",
   "execution_count": 32,
   "metadata": {},
   "outputs": [
    {
     "data": {
      "text/html": [
       "66894.3435361329"
      ],
      "text/latex": [
       "66894.3435361329"
      ],
      "text/markdown": [
       "66894.3435361329"
      ],
      "text/plain": [
       "[1] 66894.34"
      ]
     },
     "metadata": {},
     "output_type": "display_data"
    }
   ],
   "source": [
    "rmse"
   ]
  },
  {
   "cell_type": "code",
   "execution_count": 33,
   "metadata": {
    "collapsed": true
   },
   "outputs": [],
   "source": [
    "mu <- mean(actual)"
   ]
  },
  {
   "cell_type": "code",
   "execution_count": 37,
   "metadata": {
    "collapsed": true
   },
   "outputs": [],
   "source": [
    "#Relative Squared Error\n",
    "rse <- mean((predicted - actual)^2) / mean((mu - actual)^2) "
   ]
  },
  {
   "cell_type": "code",
   "execution_count": 35,
   "metadata": {},
   "outputs": [
    {
     "data": {
      "text/html": [
       "7610.6945980781"
      ],
      "text/latex": [
       "7610.6945980781"
      ],
      "text/markdown": [
       "7610.6945980781"
      ],
      "text/plain": [
       "[1] 7610.695"
      ]
     },
     "metadata": {},
     "output_type": "display_data"
    }
   ],
   "source": [
    "rse"
   ]
  },
  {
   "cell_type": "code",
   "execution_count": 45,
   "metadata": {},
   "outputs": [
    {
     "name": "stderr",
     "output_type": "stream",
     "text": [
      "also installing the dependencies 'gtools', 'gdata', 'gplots', 'ROCR'\n",
      "\n"
     ]
    },
    {
     "name": "stdout",
     "output_type": "stream",
     "text": [
      "package 'gtools' successfully unpacked and MD5 sums checked\n",
      "package 'gdata' successfully unpacked and MD5 sums checked\n",
      "package 'gplots' successfully unpacked and MD5 sums checked\n",
      "package 'ROCR' successfully unpacked and MD5 sums checked\n",
      "package 'MLmetrics' successfully unpacked and MD5 sums checked\n",
      "\n",
      "The downloaded binary packages are in\n",
      "\tC:\\Users\\ZekeLabs\\AppData\\Local\\Temp\\RtmpWkZdKO\\downloaded_packages\n"
     ]
    }
   ],
   "source": [
    "install.packages(\"MLmetrics\",repos='http://cran.us.r-project.org')"
   ]
  },
  {
   "cell_type": "code",
   "execution_count": 47,
   "metadata": {},
   "outputs": [
    {
     "name": "stderr",
     "output_type": "stream",
     "text": [
      "Warning message:\n",
      "\"package 'MLmetrics' was built under R version 3.3.3\"\n",
      "Attaching package: 'MLmetrics'\n",
      "\n",
      "The following object is masked from 'package:base':\n",
      "\n",
      "    Recall\n",
      "\n"
     ]
    }
   ],
   "source": [
    "library(MLmetrics)\n"
   ]
  },
  {
   "cell_type": "code",
   "execution_count": 49,
   "metadata": {},
   "outputs": [
    {
     "data": {
      "text/html": [
       "87.2392950342797"
      ],
      "text/latex": [
       "87.2392950342797"
      ],
      "text/markdown": [
       "87.2392950342797"
      ],
      "text/plain": [
       "[1] 87.2393"
      ]
     },
     "metadata": {},
     "output_type": "display_data"
    }
   ],
   "source": [
    "y_rrse <- RRSE(y_pred = predicted, y_true = actual)\n",
    "y_rrse"
   ]
  },
  {
   "cell_type": "code",
   "execution_count": 50,
   "metadata": {
    "collapsed": true
   },
   "outputs": [],
   "source": [
    "y_rmse <- RMSE(y_pred = predicted, y_true = actual)"
   ]
  },
  {
   "cell_type": "code",
   "execution_count": 51,
   "metadata": {},
   "outputs": [
    {
     "data": {
      "text/html": [
       "66894.3435361329"
      ],
      "text/latex": [
       "66894.3435361329"
      ],
      "text/markdown": [
       "66894.3435361329"
      ],
      "text/plain": [
       "[1] 66894.34"
      ]
     },
     "metadata": {},
     "output_type": "display_data"
    }
   ],
   "source": [
    "y_rmse"
   ]
  },
  {
   "cell_type": "code",
   "execution_count": 41,
   "metadata": {
    "collapsed": true
   },
   "outputs": [],
   "source": [
    "### For all imp features"
   ]
  },
  {
   "cell_type": "code",
   "execution_count": 42,
   "metadata": {
    "collapsed": true
   },
   "outputs": [],
   "source": [
    "fit <- lm(Price ~ Sqft + Floor + TotalFloor  + Bedroom + Living.Room + Bathroom, data=house)"
   ]
  },
  {
   "cell_type": "code",
   "execution_count": 43,
   "metadata": {},
   "outputs": [
    {
     "data": {
      "text/plain": [
       "\n",
       "Call:\n",
       "lm(formula = Price ~ Sqft + Floor + TotalFloor + Bedroom + Living.Room + \n",
       "    Bathroom, data = house)\n",
       "\n",
       "Residuals:\n",
       "   Min     1Q Median     3Q    Max \n",
       "-71429 -11314  -2075   8480 104063 \n",
       "\n",
       "Coefficients:\n",
       "             Estimate Std. Error t value Pr(>|t|)    \n",
       "(Intercept)  2669.268   3665.690   0.728    0.467    \n",
       "Sqft           37.884      1.615  23.456  < 2e-16 ***\n",
       "Floor        1025.887    241.543   4.247 2.49e-05 ***\n",
       "TotalFloor    135.451    197.033   0.687    0.492    \n",
       "Bedroom     -1775.956   1079.401  -1.645    0.100    \n",
       "Living.Room -3368.837   2078.469  -1.621    0.106    \n",
       "Bathroom     2777.701   1835.922   1.513    0.131    \n",
       "---\n",
       "Signif. codes:  0 '***' 0.001 '**' 0.01 '*' 0.05 '.' 0.1 ' ' 1\n",
       "\n",
       "Residual standard error: 19560 on 638 degrees of freedom\n",
       "Multiple R-squared:  0.7015,\tAdjusted R-squared:  0.6987 \n",
       "F-statistic: 249.9 on 6 and 638 DF,  p-value: < 2.2e-16\n"
      ]
     },
     "metadata": {},
     "output_type": "display_data"
    }
   ],
   "source": [
    "summary(fit)"
   ]
  },
  {
   "cell_type": "code",
   "execution_count": 44,
   "metadata": {},
   "outputs": [
    {
     "data": {
      "text/html": [
       "<dl class=dl-horizontal>\n",
       "\t<dt>1</dt>\n",
       "\t\t<dd>45550.7478487638</dd>\n",
       "\t<dt>2</dt>\n",
       "\t\t<dd>81335.2050693074</dd>\n",
       "\t<dt>3</dt>\n",
       "\t\t<dd>44368.0093588096</dd>\n",
       "</dl>\n"
      ],
      "text/latex": [
       "\\begin{description*}\n",
       "\\item[1] 45550.7478487638\n",
       "\\item[2] 81335.2050693074\n",
       "\\item[3] 44368.0093588096\n",
       "\\end{description*}\n"
      ],
      "text/markdown": [
       "1\n",
       ":   45550.74784876382\n",
       ":   81335.20506930743\n",
       ":   44368.0093588096\n",
       "\n"
      ],
      "text/plain": [
       "       1        2        3 \n",
       "45550.75 81335.21 44368.01 "
      ]
     },
     "metadata": {},
     "output_type": "display_data"
    }
   ],
   "source": [
    "predict(fit, house[1:3,])"
   ]
  },
  {
   "cell_type": "code",
   "execution_count": null,
   "metadata": {
    "collapsed": true
   },
   "outputs": [],
   "source": []
  }
 ],
 "metadata": {
  "kernelspec": {
   "display_name": "R",
   "language": "R",
   "name": "ir"
  },
  "language_info": {
   "codemirror_mode": "r",
   "file_extension": ".r",
   "mimetype": "text/x-r-source",
   "name": "R",
   "pygments_lexer": "r",
   "version": "3.3.2"
  }
 },
 "nbformat": 4,
 "nbformat_minor": 2
}
