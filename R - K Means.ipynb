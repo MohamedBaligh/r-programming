{
 "cells": [
  {
   "cell_type": "code",
   "execution_count": 1,
   "metadata": {
    "collapsed": true
   },
   "outputs": [],
   "source": [
    "mydata <- read.csv(\"kmeans_data.csv\")"
   ]
  },
  {
   "cell_type": "code",
   "execution_count": 2,
   "metadata": {},
   "outputs": [
    {
     "data": {
      "text/html": [
       "<table>\n",
       "<thead><tr><th scope=col>Sepal.Length</th><th scope=col>Sepal.Width</th></tr></thead>\n",
       "<tbody>\n",
       "\t<tr><td>5.1</td><td>3.5</td></tr>\n",
       "\t<tr><td>4.9</td><td>3.0</td></tr>\n",
       "\t<tr><td>4.7</td><td>3.2</td></tr>\n",
       "\t<tr><td>4.6</td><td>3.1</td></tr>\n",
       "\t<tr><td>5.0</td><td>3.6</td></tr>\n",
       "\t<tr><td>5.4</td><td>3.9</td></tr>\n",
       "</tbody>\n",
       "</table>\n"
      ],
      "text/latex": [
       "\\begin{tabular}{r|ll}\n",
       " Sepal.Length & Sepal.Width\\\\\n",
       "\\hline\n",
       "\t 5.1 & 3.5\\\\\n",
       "\t 4.9 & 3.0\\\\\n",
       "\t 4.7 & 3.2\\\\\n",
       "\t 4.6 & 3.1\\\\\n",
       "\t 5.0 & 3.6\\\\\n",
       "\t 5.4 & 3.9\\\\\n",
       "\\end{tabular}\n"
      ],
      "text/markdown": [
       "\n",
       "Sepal.Length | Sepal.Width | \n",
       "|---|---|---|---|---|---|\n",
       "| 5.1 | 3.5 | \n",
       "| 4.9 | 3.0 | \n",
       "| 4.7 | 3.2 | \n",
       "| 4.6 | 3.1 | \n",
       "| 5.0 | 3.6 | \n",
       "| 5.4 | 3.9 | \n",
       "\n",
       "\n"
      ],
      "text/plain": [
       "  Sepal.Length Sepal.Width\n",
       "1 5.1          3.5        \n",
       "2 4.9          3.0        \n",
       "3 4.7          3.2        \n",
       "4 4.6          3.1        \n",
       "5 5.0          3.6        \n",
       "6 5.4          3.9        "
      ]
     },
     "metadata": {},
     "output_type": "display_data"
    }
   ],
   "source": [
    "head(mydata)"
   ]
  },
  {
   "cell_type": "code",
   "execution_count": 5,
   "metadata": {},
   "outputs": [
    {
     "name": "stdout",
     "output_type": "stream",
     "text": [
      "'data.frame':\t150 obs. of  2 variables:\n",
      " $ Sepal.Length: num  5.1 4.9 4.7 4.6 5 5.4 4.6 5 4.4 4.9 ...\n",
      " $ Sepal.Width : num  3.5 3 3.2 3.1 3.6 3.9 3.4 3.4 2.9 3.1 ...\n"
     ]
    }
   ],
   "source": [
    "str(mydata)"
   ]
  },
  {
   "cell_type": "code",
   "execution_count": 6,
   "metadata": {},
   "outputs": [
    {
     "data": {
      "text/plain": [
       "  Sepal.Length    Sepal.Width   \n",
       " Min.   :4.300   Min.   :2.000  \n",
       " 1st Qu.:5.100   1st Qu.:2.800  \n",
       " Median :5.800   Median :3.000  \n",
       " Mean   :5.843   Mean   :3.057  \n",
       " 3rd Qu.:6.400   3rd Qu.:3.300  \n",
       " Max.   :7.900   Max.   :4.400  "
      ]
     },
     "metadata": {},
     "output_type": "display_data"
    }
   ],
   "source": [
    "summary(mydata)"
   ]
  },
  {
   "cell_type": "code",
   "execution_count": 8,
   "metadata": {},
   "outputs": [
    {
     "data": {
      "image/png": "[encoded data removed]",
      "text/plain": [
       "Plot with title \"Raw Data\""
      ]
     },
     "metadata": {},
     "output_type": "display_data"
    }
   ],
   "source": [
    "plot(mydata[c(\"Sepal.Length\",\"Sepal.Width\")], main = \"Raw Data\")"
   ]
  },
  {
   "cell_type": "code",
   "execution_count": 9,
   "metadata": {
    "collapsed": true
   },
   "outputs": [],
   "source": [
    "help(scale)"
   ]
  },
  {
   "cell_type": "code",
   "execution_count": 10,
   "metadata": {
    "collapsed": true
   },
   "outputs": [],
   "source": [
    "#standardization of data\n",
    "mydata <- scale(mydata)"
   ]
  },
  {
   "cell_type": "code",
   "execution_count": 12,
   "metadata": {},
   "outputs": [
    {
     "data": {
      "text/html": [
       "<table>\n",
       "<thead><tr><th scope=col>Sepal.Length</th><th scope=col>Sepal.Width</th></tr></thead>\n",
       "<tbody>\n",
       "\t<tr><td>-0.89767388</td><td> 1.01560199</td></tr>\n",
       "\t<tr><td>-1.13920048</td><td>-0.13153881</td></tr>\n",
       "\t<tr><td>-1.38072709</td><td> 0.32731751</td></tr>\n",
       "\t<tr><td>-1.50149039</td><td> 0.09788935</td></tr>\n",
       "\t<tr><td>-1.01843718</td><td> 1.24503015</td></tr>\n",
       "\t<tr><td>-0.53538397</td><td> 1.93331463</td></tr>\n",
       "\t<tr><td>-1.50149039</td><td> 0.78617383</td></tr>\n",
       "\t<tr><td>-1.01843718</td><td> 0.78617383</td></tr>\n",
       "\t<tr><td>-1.74301699</td><td>-0.36096697</td></tr>\n",
       "\t<tr><td>-1.13920048</td><td> 0.09788935</td></tr>\n",
       "\t<tr><td>-0.53538397</td><td> 1.47445831</td></tr>\n",
       "\t<tr><td>-1.25996379</td><td> 0.78617383</td></tr>\n",
       "\t<tr><td>-1.25996379</td><td>-0.13153881</td></tr>\n",
       "\t<tr><td>-1.86378030</td><td>-0.13153881</td></tr>\n",
       "\t<tr><td>-0.05233076</td><td> 2.16274279</td></tr>\n",
       "\t<tr><td>-0.17309407</td><td> 3.08045544</td></tr>\n",
       "\t<tr><td>-0.53538397</td><td> 1.93331463</td></tr>\n",
       "\t<tr><td>-0.89767388</td><td> 1.01560199</td></tr>\n",
       "\t<tr><td>-0.17309407</td><td> 1.70388647</td></tr>\n",
       "\t<tr><td>-0.89767388</td><td> 1.70388647</td></tr>\n",
       "\t<tr><td>-0.53538397</td><td> 0.78617383</td></tr>\n",
       "\t<tr><td>-0.89767388</td><td> 1.47445831</td></tr>\n",
       "\t<tr><td>-1.50149039</td><td> 1.24503015</td></tr>\n",
       "\t<tr><td>-0.89767388</td><td> 0.55674567</td></tr>\n",
       "\t<tr><td>-1.25996379</td><td> 0.78617383</td></tr>\n",
       "\t<tr><td>-1.01843718</td><td>-0.13153881</td></tr>\n",
       "\t<tr><td>-1.01843718</td><td> 0.78617383</td></tr>\n",
       "\t<tr><td>-0.77691058</td><td> 1.01560199</td></tr>\n",
       "\t<tr><td>-0.77691058</td><td> 0.78617383</td></tr>\n",
       "\t<tr><td>-1.38072709</td><td> 0.32731751</td></tr>\n",
       "\t<tr><td>...</td><td>...</td></tr>\n",
       "\t<tr><td> 1.27606556</td><td> 0.32731751</td></tr>\n",
       "\t<tr><td>-0.29385737</td><td>-0.59039513</td></tr>\n",
       "\t<tr><td> 2.24217198</td><td>-0.59039513</td></tr>\n",
       "\t<tr><td> 0.55148575</td><td>-0.81982329</td></tr>\n",
       "\t<tr><td> 1.03453895</td><td> 0.55674567</td></tr>\n",
       "\t<tr><td> 1.63835547</td><td> 0.32731751</td></tr>\n",
       "\t<tr><td> 0.43072244</td><td>-0.59039513</td></tr>\n",
       "\t<tr><td> 0.30995914</td><td>-0.13153881</td></tr>\n",
       "\t<tr><td> 0.67224905</td><td>-0.59039513</td></tr>\n",
       "\t<tr><td> 1.63835547</td><td>-0.13153881</td></tr>\n",
       "\t<tr><td> 1.87988207</td><td>-0.59039513</td></tr>\n",
       "\t<tr><td> 2.48369858</td><td> 1.70388647</td></tr>\n",
       "\t<tr><td> 0.67224905</td><td>-0.59039513</td></tr>\n",
       "\t<tr><td> 0.55148575</td><td>-0.59039513</td></tr>\n",
       "\t<tr><td> 0.30995914</td><td>-1.04925145</td></tr>\n",
       "\t<tr><td> 2.24217198</td><td>-0.13153881</td></tr>\n",
       "\t<tr><td> 0.55148575</td><td> 0.78617383</td></tr>\n",
       "\t<tr><td> 0.67224905</td><td> 0.09788935</td></tr>\n",
       "\t<tr><td> 0.18919584</td><td>-0.13153881</td></tr>\n",
       "\t<tr><td> 1.27606556</td><td> 0.09788935</td></tr>\n",
       "\t<tr><td> 1.03453895</td><td> 0.09788935</td></tr>\n",
       "\t<tr><td> 1.27606556</td><td> 0.09788935</td></tr>\n",
       "\t<tr><td>-0.05233076</td><td>-0.81982329</td></tr>\n",
       "\t<tr><td> 1.15530226</td><td> 0.32731751</td></tr>\n",
       "\t<tr><td> 1.03453895</td><td> 0.55674567</td></tr>\n",
       "\t<tr><td> 1.03453895</td><td>-0.13153881</td></tr>\n",
       "\t<tr><td> 0.55148575</td><td>-1.27867961</td></tr>\n",
       "\t<tr><td> 0.79301235</td><td>-0.13153881</td></tr>\n",
       "\t<tr><td> 0.43072244</td><td> 0.78617383</td></tr>\n",
       "\t<tr><td> 0.06843254</td><td>-0.13153881</td></tr>\n",
       "</tbody>\n",
       "</table>\n"
      ],
      "text/latex": [
       "\\begin{tabular}{ll}\n",
       " Sepal.Length & Sepal.Width\\\\\n",
       "\\hline\n",
       "\t -0.89767388 &  1.01560199\\\\\n",
       "\t -1.13920048 & -0.13153881\\\\\n",
       "\t -1.38072709 &  0.32731751\\\\\n",
       "\t -1.50149039 &  0.09788935\\\\\n",
       "\t -1.01843718 &  1.24503015\\\\\n",
       "\t -0.53538397 &  1.93331463\\\\\n",
       "\t -1.50149039 &  0.78617383\\\\\n",
       "\t -1.01843718 &  0.78617383\\\\\n",
       "\t -1.74301699 & -0.36096697\\\\\n",
       "\t -1.13920048 &  0.09788935\\\\\n",
       "\t -0.53538397 &  1.47445831\\\\\n",
       "\t -1.25996379 &  0.78617383\\\\\n",
       "\t -1.25996379 & -0.13153881\\\\\n",
       "\t -1.86378030 & -0.13153881\\\\\n",
       "\t -0.05233076 &  2.16274279\\\\\n",
       "\t -0.17309407 &  3.08045544\\\\\n",
       "\t -0.53538397 &  1.93331463\\\\\n",
       "\t -0.89767388 &  1.01560199\\\\\n",
       "\t -0.17309407 &  1.70388647\\\\\n",
       "\t -0.89767388 &  1.70388647\\\\\n",
       "\t -0.53538397 &  0.78617383\\\\\n",
       "\t -0.89767388 &  1.47445831\\\\\n",
       "\t -1.50149039 &  1.24503015\\\\\n",
       "\t -0.89767388 &  0.55674567\\\\\n",
       "\t -1.25996379 &  0.78617383\\\\\n",
       "\t -1.01843718 & -0.13153881\\\\\n",
       "\t -1.01843718 &  0.78617383\\\\\n",
       "\t -0.77691058 &  1.01560199\\\\\n",
       "\t -0.77691058 &  0.78617383\\\\\n",
       "\t -1.38072709 &  0.32731751\\\\\n",
       "\t ... & ...\\\\\n",
       "\t  1.27606556 &  0.32731751\\\\\n",
       "\t -0.29385737 & -0.59039513\\\\\n",
       "\t  2.24217198 & -0.59039513\\\\\n",
       "\t  0.55148575 & -0.81982329\\\\\n",
       "\t  1.03453895 &  0.55674567\\\\\n",
       "\t  1.63835547 &  0.32731751\\\\\n",
       "\t  0.43072244 & -0.59039513\\\\\n",
       "\t  0.30995914 & -0.13153881\\\\\n",
       "\t  0.67224905 & -0.59039513\\\\\n",
       "\t  1.63835547 & -0.13153881\\\\\n",
       "\t  1.87988207 & -0.59039513\\\\\n",
       "\t  2.48369858 &  1.70388647\\\\\n",
       "\t  0.67224905 & -0.59039513\\\\\n",
       "\t  0.55148575 & -0.59039513\\\\\n",
       "\t  0.30995914 & -1.04925145\\\\\n",
       "\t  2.24217198 & -0.13153881\\\\\n",
       "\t  0.55148575 &  0.78617383\\\\\n",
       "\t  0.67224905 &  0.09788935\\\\\n",
       "\t  0.18919584 & -0.13153881\\\\\n",
       "\t  1.27606556 &  0.09788935\\\\\n",
       "\t  1.03453895 &  0.09788935\\\\\n",
       "\t  1.27606556 &  0.09788935\\\\\n",
       "\t -0.05233076 & -0.81982329\\\\\n",
       "\t  1.15530226 &  0.32731751\\\\\n",
       "\t  1.03453895 &  0.55674567\\\\\n",
       "\t  1.03453895 & -0.13153881\\\\\n",
       "\t  0.55148575 & -1.27867961\\\\\n",
       "\t  0.79301235 & -0.13153881\\\\\n",
       "\t  0.43072244 &  0.78617383\\\\\n",
       "\t  0.06843254 & -0.13153881\\\\\n",
       "\\end{tabular}\n"
      ],
      "text/markdown": [
       "\n",
       "Sepal.Length | Sepal.Width | \n",
       "|---|---|---|---|---|---|---|---|---|---|---|---|---|---|---|---|---|---|---|---|---|---|---|---|---|---|---|---|---|---|---|---|---|---|---|---|---|---|---|---|---|---|---|---|---|---|---|---|---|---|---|---|---|---|---|---|---|---|---|---|---|\n",
       "| -0.89767388 |  1.01560199 | \n",
       "| -1.13920048 | -0.13153881 | \n",
       "| -1.38072709 |  0.32731751 | \n",
       "| -1.50149039 |  0.09788935 | \n",
       "| -1.01843718 |  1.24503015 | \n",
       "| -0.53538397 |  1.93331463 | \n",
       "| -1.50149039 |  0.78617383 | \n",
       "| -1.01843718 |  0.78617383 | \n",
       "| -1.74301699 | -0.36096697 | \n",
       "| -1.13920048 |  0.09788935 | \n",
       "| -0.53538397 |  1.47445831 | \n",
       "| -1.25996379 |  0.78617383 | \n",
       "| -1.25996379 | -0.13153881 | \n",
       "| -1.86378030 | -0.13153881 | \n",
       "| -0.05233076 |  2.16274279 | \n",
       "| -0.17309407 |  3.08045544 | \n",
       "| -0.53538397 |  1.93331463 | \n",
       "| -0.89767388 |  1.01560199 | \n",
       "| -0.17309407 |  1.70388647 | \n",
       "| -0.89767388 |  1.70388647 | \n",
       "| -0.53538397 |  0.78617383 | \n",
       "| -0.89767388 |  1.47445831 | \n",
       "| -1.50149039 |  1.24503015 | \n",
       "| -0.89767388 |  0.55674567 | \n",
       "| -1.25996379 |  0.78617383 | \n",
       "| -1.01843718 | -0.13153881 | \n",
       "| -1.01843718 |  0.78617383 | \n",
       "| -0.77691058 |  1.01560199 | \n",
       "| -0.77691058 |  0.78617383 | \n",
       "| -1.38072709 |  0.32731751 | \n",
       "| ... | ... | \n",
       "|  1.27606556 |  0.32731751 | \n",
       "| -0.29385737 | -0.59039513 | \n",
       "|  2.24217198 | -0.59039513 | \n",
       "|  0.55148575 | -0.81982329 | \n",
       "|  1.03453895 |  0.55674567 | \n",
       "|  1.63835547 |  0.32731751 | \n",
       "|  0.43072244 | -0.59039513 | \n",
       "|  0.30995914 | -0.13153881 | \n",
       "|  0.67224905 | -0.59039513 | \n",
       "|  1.63835547 | -0.13153881 | \n",
       "|  1.87988207 | -0.59039513 | \n",
       "|  2.48369858 |  1.70388647 | \n",
       "|  0.67224905 | -0.59039513 | \n",
       "|  0.55148575 | -0.59039513 | \n",
       "|  0.30995914 | -1.04925145 | \n",
       "|  2.24217198 | -0.13153881 | \n",
       "|  0.55148575 |  0.78617383 | \n",
       "|  0.67224905 |  0.09788935 | \n",
       "|  0.18919584 | -0.13153881 | \n",
       "|  1.27606556 |  0.09788935 | \n",
       "|  1.03453895 |  0.09788935 | \n",
       "|  1.27606556 |  0.09788935 | \n",
       "| -0.05233076 | -0.81982329 | \n",
       "|  1.15530226 |  0.32731751 | \n",
       "|  1.03453895 |  0.55674567 | \n",
       "|  1.03453895 | -0.13153881 | \n",
       "|  0.55148575 | -1.27867961 | \n",
       "|  0.79301235 | -0.13153881 | \n",
       "|  0.43072244 |  0.78617383 | \n",
       "|  0.06843254 | -0.13153881 | \n",
       "\n",
       "\n"
      ],
      "text/plain": [
       "      Sepal.Length Sepal.Width\n",
       " [1,] -0.89767388   1.01560199\n",
       " [2,] -1.13920048  -0.13153881\n",
       " [3,] -1.38072709   0.32731751\n",
       " [4,] -1.50149039   0.09788935\n",
       " [5,] -1.01843718   1.24503015\n",
       " [6,] -0.53538397   1.93331463\n",
       " [7,] -1.50149039   0.78617383\n",
       " [8,] -1.01843718   0.78617383\n",
       " [9,] -1.74301699  -0.36096697\n",
       "[10,] -1.13920048   0.09788935\n",
       "[11,] -0.53538397   1.47445831\n",
       "[12,] -1.25996379   0.78617383\n",
       "[13,] -1.25996379  -0.13153881\n",
       "[14,] -1.86378030  -0.13153881\n",
       "[15,] -0.05233076   2.16274279\n",
       "[16,] -0.17309407   3.08045544\n",
       "[17,] -0.53538397   1.93331463\n",
       "[18,] -0.89767388   1.01560199\n",
       "[19,] -0.17309407   1.70388647\n",
       "[20,] -0.89767388   1.70388647\n",
       "[21,] -0.53538397   0.78617383\n",
       "[22,] -0.89767388   1.47445831\n",
       "[23,] -1.50149039   1.24503015\n",
       "[24,] -0.89767388   0.55674567\n",
       "[25,] -1.25996379   0.78617383\n",
       "[26,] -1.01843718  -0.13153881\n",
       "[27,] -1.01843718   0.78617383\n",
       "[28,] -0.77691058   1.01560199\n",
       "[29,] -0.77691058   0.78617383\n",
       "[30,] -1.38072709   0.32731751\n",
       "[31,] ...          ...        \n",
       "[32,]  1.27606556   0.32731751\n",
       "[33,] -0.29385737  -0.59039513\n",
       "[34,]  2.24217198  -0.59039513\n",
       "[35,]  0.55148575  -0.81982329\n",
       "[36,]  1.03453895   0.55674567\n",
       "[37,]  1.63835547   0.32731751\n",
       "[38,]  0.43072244  -0.59039513\n",
       "[39,]  0.30995914  -0.13153881\n",
       "[40,]  0.67224905  -0.59039513\n",
       "[41,]  1.63835547  -0.13153881\n",
       "[42,]  1.87988207  -0.59039513\n",
       "[43,]  2.48369858   1.70388647\n",
       "[44,]  0.67224905  -0.59039513\n",
       "[45,]  0.55148575  -0.59039513\n",
       "[46,]  0.30995914  -1.04925145\n",
       "[47,]  2.24217198  -0.13153881\n",
       "[48,]  0.55148575   0.78617383\n",
       "[49,]  0.67224905   0.09788935\n",
       "[50,]  0.18919584  -0.13153881\n",
       "[51,]  1.27606556   0.09788935\n",
       "[52,]  1.03453895   0.09788935\n",
       "[53,]  1.27606556   0.09788935\n",
       "[54,] -0.05233076  -0.81982329\n",
       "[55,]  1.15530226   0.32731751\n",
       "[56,]  1.03453895   0.55674567\n",
       "[57,]  1.03453895  -0.13153881\n",
       "[58,]  0.55148575  -1.27867961\n",
       "[59,]  0.79301235  -0.13153881\n",
       "[60,]  0.43072244   0.78617383\n",
       "[61,]  0.06843254  -0.13153881"
      ]
     },
     "metadata": {},
     "output_type": "display_data"
    }
   ],
   "source": [
    "mydata"
   ]
  },
  {
   "cell_type": "code",
   "execution_count": 13,
   "metadata": {
    "collapsed": true
   },
   "outputs": [],
   "source": [
    "wss <- (nrow(mydata)-1)*sum(apply(mydata,2,var))"
   ]
  },
  {
   "cell_type": "code",
   "execution_count": 14,
   "metadata": {},
   "outputs": [
    {
     "data": {
      "text/html": [
       "2"
      ],
      "text/latex": [
       "2"
      ],
      "text/markdown": [
       "2"
      ],
      "text/plain": [
       "[1] 2"
      ]
     },
     "metadata": {},
     "output_type": "display_data"
    }
   ],
   "source": [
    "sum(apply(mydata,2,var))"
   ]
  },
  {
   "cell_type": "code",
   "execution_count": 15,
   "metadata": {},
   "outputs": [
    {
     "data": {
      "text/html": [
       "149"
      ],
      "text/latex": [
       "149"
      ],
      "text/markdown": [
       "149"
      ],
      "text/plain": [
       "[1] 149"
      ]
     },
     "metadata": {},
     "output_type": "display_data"
    }
   ],
   "source": [
    "(nrow(mydata)-1)"
   ]
  },
  {
   "cell_type": "code",
   "execution_count": 16,
   "metadata": {},
   "outputs": [
    {
     "data": {
      "text/html": [
       "<dl class=dl-horizontal>\n",
       "\t<dt>Sepal.Length</dt>\n",
       "\t\t<dd>1</dd>\n",
       "\t<dt>Sepal.Width</dt>\n",
       "\t\t<dd>1</dd>\n",
       "</dl>\n"
      ],
      "text/latex": [
       "\\begin{description*}\n",
       "\\item[Sepal.Length] 1\n",
       "\\item[Sepal.Width] 1\n",
       "\\end{description*}\n"
      ],
      "text/markdown": [
       "Sepal.Length\n",
       ":   1Sepal.Width\n",
       ":   1\n",
       "\n"
      ],
      "text/plain": [
       "Sepal.Length  Sepal.Width \n",
       "           1            1 "
      ]
     },
     "metadata": {},
     "output_type": "display_data"
    }
   ],
   "source": [
    "apply(mydata,2,var)"
   ]
  },
  {
   "cell_type": "code",
   "execution_count": 17,
   "metadata": {},
   "outputs": [
    {
     "data": {
      "text/html": [
       "298"
      ],
      "text/latex": [
       "298"
      ],
      "text/markdown": [
       "298"
      ],
      "text/plain": [
       "[1] 298"
      ]
     },
     "metadata": {},
     "output_type": "display_data"
    }
   ],
   "source": [
    "wss"
   ]
  },
  {
   "cell_type": "code",
   "execution_count": 18,
   "metadata": {
    "collapsed": true
   },
   "outputs": [],
   "source": [
    "clus4 = kmeans(mydata, centers = 4, nstart = 30)"
   ]
  },
  {
   "cell_type": "code",
   "execution_count": 19,
   "metadata": {},
   "outputs": [
    {
     "data": {
      "text/plain": [
       "K-means clustering with 4 clusters of sizes 13, 37, 49, 51\n",
       "\n",
       "Cluster means:\n",
       "  Sepal.Length Sepal.Width\n",
       "1   -0.5725419  1.95096295\n",
       "2   -1.1359366  0.50713958\n",
       "3    1.1060111  0.09788935\n",
       "4   -0.0925852 -0.95927963\n",
       "\n",
       "Clustering vector:\n",
       "  [1] 2 2 2 2 2 1 2 2 2 2 1 2 2 2 1 1 1 2 1 1 2 1 2 2 2 2 2 2 2 2 2 2 1 1 2 2 2\n",
       " [38] 2 2 2 2 4 2 2 1 2 1 2 1 2 3 3 3 4 3 4 3 4 3 4 4 4 4 4 4 3 4 4 4 4 3 4 4 4\n",
       " [75] 3 3 3 3 4 4 4 4 4 4 2 3 3 4 4 4 4 3 4 4 4 4 4 4 4 4 3 4 3 3 3 3 4 3 4 3 3\n",
       "[112] 4 3 4 4 3 3 3 3 4 3 4 3 4 3 3 4 3 3 3 3 3 3 4 4 3 3 3 4 3 3 3 4 3 3 3 4 3\n",
       "[149] 3 4\n",
       "\n",
       "Within cluster sum of squares by cluster:\n",
       "[1]  3.981419 12.895244 31.787679 30.556232\n",
       " (between_SS / total_SS =  73.4 %)\n",
       "\n",
       "Available components:\n",
       "\n",
       "[1] \"cluster\"      \"centers\"      \"totss\"        \"withinss\"     \"tot.withinss\"\n",
       "[6] \"betweenss\"    \"size\"         \"iter\"         \"ifault\"      "
      ]
     },
     "metadata": {},
     "output_type": "display_data"
    }
   ],
   "source": [
    "clus4"
   ]
  },
  {
   "cell_type": "code",
   "execution_count": 20,
   "metadata": {
    "collapsed": true
   },
   "outputs": [],
   "source": [
    "help(kmeans)"
   ]
  },
  {
   "cell_type": "code",
   "execution_count": 21,
   "metadata": {},
   "outputs": [
    {
     "data": {
      "text/html": [
       "<table>\n",
       "<thead><tr><th scope=col>Group.1</th><th scope=col>Sepal.Length</th><th scope=col>Sepal.Width</th></tr></thead>\n",
       "<tbody>\n",
       "\t<tr><td>1          </td><td>-0.5725419 </td><td> 1.95096295</td></tr>\n",
       "\t<tr><td>2          </td><td>-1.1359366 </td><td> 0.50713958</td></tr>\n",
       "\t<tr><td>3          </td><td> 1.1060111 </td><td> 0.09788935</td></tr>\n",
       "\t<tr><td>4          </td><td>-0.0925852 </td><td>-0.95927963</td></tr>\n",
       "</tbody>\n",
       "</table>\n"
      ],
      "text/latex": [
       "\\begin{tabular}{r|lll}\n",
       " Group.1 & Sepal.Length & Sepal.Width\\\\\n",
       "\\hline\n",
       "\t 1           & -0.5725419  &  1.95096295\\\\\n",
       "\t 2           & -1.1359366  &  0.50713958\\\\\n",
       "\t 3           &  1.1060111  &  0.09788935\\\\\n",
       "\t 4           & -0.0925852  & -0.95927963\\\\\n",
       "\\end{tabular}\n"
      ],
      "text/markdown": [
       "\n",
       "Group.1 | Sepal.Length | Sepal.Width | \n",
       "|---|---|---|---|\n",
       "| 1           | -0.5725419  |  1.95096295 | \n",
       "| 2           | -1.1359366  |  0.50713958 | \n",
       "| 3           |  1.1060111  |  0.09788935 | \n",
       "| 4           | -0.0925852  | -0.95927963 | \n",
       "\n",
       "\n"
      ],
      "text/plain": [
       "  Group.1 Sepal.Length Sepal.Width\n",
       "1 1       -0.5725419    1.95096295\n",
       "2 2       -1.1359366    0.50713958\n",
       "3 3        1.1060111    0.09788935\n",
       "4 4       -0.0925852   -0.95927963"
      ]
     },
     "metadata": {},
     "output_type": "display_data"
    }
   ],
   "source": [
    "aggregate(mydata, by=list(clus4$cluster), FUN=mean)"
   ]
  },
  {
   "cell_type": "code",
   "execution_count": 24,
   "metadata": {},
   "outputs": [],
   "source": [
    "# append cluster assignment\n",
    "mydata <- data.frame(mydata, clus4$cluster)"
   ]
  },
  {
   "cell_type": "code",
   "execution_count": 25,
   "metadata": {},
   "outputs": [
    {
     "data": {
      "text/html": [
       "<table>\n",
       "<thead><tr><th scope=col>Sepal.Length</th><th scope=col>Sepal.Width</th><th scope=col>clus4.cluster</th></tr></thead>\n",
       "<tbody>\n",
       "\t<tr><td>-0.89767388</td><td> 1.01560199</td><td>2          </td></tr>\n",
       "\t<tr><td>-1.13920048</td><td>-0.13153881</td><td>2          </td></tr>\n",
       "\t<tr><td>-1.38072709</td><td> 0.32731751</td><td>2          </td></tr>\n",
       "\t<tr><td>-1.50149039</td><td> 0.09788935</td><td>2          </td></tr>\n",
       "\t<tr><td>-1.01843718</td><td> 1.24503015</td><td>2          </td></tr>\n",
       "\t<tr><td>-0.53538397</td><td> 1.93331463</td><td>1          </td></tr>\n",
       "\t<tr><td>-1.50149039</td><td> 0.78617383</td><td>2          </td></tr>\n",
       "\t<tr><td>-1.01843718</td><td> 0.78617383</td><td>2          </td></tr>\n",
       "\t<tr><td>-1.74301699</td><td>-0.36096697</td><td>2          </td></tr>\n",
       "\t<tr><td>-1.13920048</td><td> 0.09788935</td><td>2          </td></tr>\n",
       "\t<tr><td>-0.53538397</td><td> 1.47445831</td><td>1          </td></tr>\n",
       "\t<tr><td>-1.25996379</td><td> 0.78617383</td><td>2          </td></tr>\n",
       "\t<tr><td>-1.25996379</td><td>-0.13153881</td><td>2          </td></tr>\n",
       "\t<tr><td>-1.86378030</td><td>-0.13153881</td><td>2          </td></tr>\n",
       "\t<tr><td>-0.05233076</td><td> 2.16274279</td><td>1          </td></tr>\n",
       "\t<tr><td>-0.17309407</td><td> 3.08045544</td><td>1          </td></tr>\n",
       "\t<tr><td>-0.53538397</td><td> 1.93331463</td><td>1          </td></tr>\n",
       "\t<tr><td>-0.89767388</td><td> 1.01560199</td><td>2          </td></tr>\n",
       "\t<tr><td>-0.17309407</td><td> 1.70388647</td><td>1          </td></tr>\n",
       "\t<tr><td>-0.89767388</td><td> 1.70388647</td><td>1          </td></tr>\n",
       "\t<tr><td>-0.53538397</td><td> 0.78617383</td><td>2          </td></tr>\n",
       "\t<tr><td>-0.89767388</td><td> 1.47445831</td><td>1          </td></tr>\n",
       "\t<tr><td>-1.50149039</td><td> 1.24503015</td><td>2          </td></tr>\n",
       "\t<tr><td>-0.89767388</td><td> 0.55674567</td><td>2          </td></tr>\n",
       "\t<tr><td>-1.25996379</td><td> 0.78617383</td><td>2          </td></tr>\n",
       "\t<tr><td>-1.01843718</td><td>-0.13153881</td><td>2          </td></tr>\n",
       "\t<tr><td>-1.01843718</td><td> 0.78617383</td><td>2          </td></tr>\n",
       "\t<tr><td>-0.77691058</td><td> 1.01560199</td><td>2          </td></tr>\n",
       "\t<tr><td>-0.77691058</td><td> 0.78617383</td><td>2          </td></tr>\n",
       "\t<tr><td>-1.38072709</td><td> 0.32731751</td><td>2          </td></tr>\n",
       "\t<tr><td>...</td><td>...</td><td>...</td></tr>\n",
       "\t<tr><td> 1.27606556</td><td> 0.32731751</td><td>3          </td></tr>\n",
       "\t<tr><td>-0.29385737</td><td>-0.59039513</td><td>4          </td></tr>\n",
       "\t<tr><td> 2.24217198</td><td>-0.59039513</td><td>3          </td></tr>\n",
       "\t<tr><td> 0.55148575</td><td>-0.81982329</td><td>4          </td></tr>\n",
       "\t<tr><td> 1.03453895</td><td> 0.55674567</td><td>3          </td></tr>\n",
       "\t<tr><td> 1.63835547</td><td> 0.32731751</td><td>3          </td></tr>\n",
       "\t<tr><td> 0.43072244</td><td>-0.59039513</td><td>4          </td></tr>\n",
       "\t<tr><td> 0.30995914</td><td>-0.13153881</td><td>3          </td></tr>\n",
       "\t<tr><td> 0.67224905</td><td>-0.59039513</td><td>3          </td></tr>\n",
       "\t<tr><td> 1.63835547</td><td>-0.13153881</td><td>3          </td></tr>\n",
       "\t<tr><td> 1.87988207</td><td>-0.59039513</td><td>3          </td></tr>\n",
       "\t<tr><td> 2.48369858</td><td> 1.70388647</td><td>3          </td></tr>\n",
       "\t<tr><td> 0.67224905</td><td>-0.59039513</td><td>3          </td></tr>\n",
       "\t<tr><td> 0.55148575</td><td>-0.59039513</td><td>4          </td></tr>\n",
       "\t<tr><td> 0.30995914</td><td>-1.04925145</td><td>4          </td></tr>\n",
       "\t<tr><td> 2.24217198</td><td>-0.13153881</td><td>3          </td></tr>\n",
       "\t<tr><td> 0.55148575</td><td> 0.78617383</td><td>3          </td></tr>\n",
       "\t<tr><td> 0.67224905</td><td> 0.09788935</td><td>3          </td></tr>\n",
       "\t<tr><td> 0.18919584</td><td>-0.13153881</td><td>4          </td></tr>\n",
       "\t<tr><td> 1.27606556</td><td> 0.09788935</td><td>3          </td></tr>\n",
       "\t<tr><td> 1.03453895</td><td> 0.09788935</td><td>3          </td></tr>\n",
       "\t<tr><td> 1.27606556</td><td> 0.09788935</td><td>3          </td></tr>\n",
       "\t<tr><td>-0.05233076</td><td>-0.81982329</td><td>4          </td></tr>\n",
       "\t<tr><td> 1.15530226</td><td> 0.32731751</td><td>3          </td></tr>\n",
       "\t<tr><td> 1.03453895</td><td> 0.55674567</td><td>3          </td></tr>\n",
       "\t<tr><td> 1.03453895</td><td>-0.13153881</td><td>3          </td></tr>\n",
       "\t<tr><td> 0.55148575</td><td>-1.27867961</td><td>4          </td></tr>\n",
       "\t<tr><td> 0.79301235</td><td>-0.13153881</td><td>3          </td></tr>\n",
       "\t<tr><td> 0.43072244</td><td> 0.78617383</td><td>3          </td></tr>\n",
       "\t<tr><td> 0.06843254</td><td>-0.13153881</td><td>4          </td></tr>\n",
       "</tbody>\n",
       "</table>\n"
      ],
      "text/latex": [
       "\\begin{tabular}{r|lll}\n",
       " Sepal.Length & Sepal.Width & clus4.cluster\\\\\n",
       "\\hline\n",
       "\t -0.89767388 &  1.01560199 & 2          \\\\\n",
       "\t -1.13920048 & -0.13153881 & 2          \\\\\n",
       "\t -1.38072709 &  0.32731751 & 2          \\\\\n",
       "\t -1.50149039 &  0.09788935 & 2          \\\\\n",
       "\t -1.01843718 &  1.24503015 & 2          \\\\\n",
       "\t -0.53538397 &  1.93331463 & 1          \\\\\n",
       "\t -1.50149039 &  0.78617383 & 2          \\\\\n",
       "\t -1.01843718 &  0.78617383 & 2          \\\\\n",
       "\t -1.74301699 & -0.36096697 & 2          \\\\\n",
       "\t -1.13920048 &  0.09788935 & 2          \\\\\n",
       "\t -0.53538397 &  1.47445831 & 1          \\\\\n",
       "\t -1.25996379 &  0.78617383 & 2          \\\\\n",
       "\t -1.25996379 & -0.13153881 & 2          \\\\\n",
       "\t -1.86378030 & -0.13153881 & 2          \\\\\n",
       "\t -0.05233076 &  2.16274279 & 1          \\\\\n",
       "\t -0.17309407 &  3.08045544 & 1          \\\\\n",
       "\t -0.53538397 &  1.93331463 & 1          \\\\\n",
       "\t -0.89767388 &  1.01560199 & 2          \\\\\n",
       "\t -0.17309407 &  1.70388647 & 1          \\\\\n",
       "\t -0.89767388 &  1.70388647 & 1          \\\\\n",
       "\t -0.53538397 &  0.78617383 & 2          \\\\\n",
       "\t -0.89767388 &  1.47445831 & 1          \\\\\n",
       "\t -1.50149039 &  1.24503015 & 2          \\\\\n",
       "\t -0.89767388 &  0.55674567 & 2          \\\\\n",
       "\t -1.25996379 &  0.78617383 & 2          \\\\\n",
       "\t -1.01843718 & -0.13153881 & 2          \\\\\n",
       "\t -1.01843718 &  0.78617383 & 2          \\\\\n",
       "\t -0.77691058 &  1.01560199 & 2          \\\\\n",
       "\t -0.77691058 &  0.78617383 & 2          \\\\\n",
       "\t -1.38072709 &  0.32731751 & 2          \\\\\n",
       "\t ... & ... & ...\\\\\n",
       "\t  1.27606556 &  0.32731751 & 3          \\\\\n",
       "\t -0.29385737 & -0.59039513 & 4          \\\\\n",
       "\t  2.24217198 & -0.59039513 & 3          \\\\\n",
       "\t  0.55148575 & -0.81982329 & 4          \\\\\n",
       "\t  1.03453895 &  0.55674567 & 3          \\\\\n",
       "\t  1.63835547 &  0.32731751 & 3          \\\\\n",
       "\t  0.43072244 & -0.59039513 & 4          \\\\\n",
       "\t  0.30995914 & -0.13153881 & 3          \\\\\n",
       "\t  0.67224905 & -0.59039513 & 3          \\\\\n",
       "\t  1.63835547 & -0.13153881 & 3          \\\\\n",
       "\t  1.87988207 & -0.59039513 & 3          \\\\\n",
       "\t  2.48369858 &  1.70388647 & 3          \\\\\n",
       "\t  0.67224905 & -0.59039513 & 3          \\\\\n",
       "\t  0.55148575 & -0.59039513 & 4          \\\\\n",
       "\t  0.30995914 & -1.04925145 & 4          \\\\\n",
       "\t  2.24217198 & -0.13153881 & 3          \\\\\n",
       "\t  0.55148575 &  0.78617383 & 3          \\\\\n",
       "\t  0.67224905 &  0.09788935 & 3          \\\\\n",
       "\t  0.18919584 & -0.13153881 & 4          \\\\\n",
       "\t  1.27606556 &  0.09788935 & 3          \\\\\n",
       "\t  1.03453895 &  0.09788935 & 3          \\\\\n",
       "\t  1.27606556 &  0.09788935 & 3          \\\\\n",
       "\t -0.05233076 & -0.81982329 & 4          \\\\\n",
       "\t  1.15530226 &  0.32731751 & 3          \\\\\n",
       "\t  1.03453895 &  0.55674567 & 3          \\\\\n",
       "\t  1.03453895 & -0.13153881 & 3          \\\\\n",
       "\t  0.55148575 & -1.27867961 & 4          \\\\\n",
       "\t  0.79301235 & -0.13153881 & 3          \\\\\n",
       "\t  0.43072244 &  0.78617383 & 3          \\\\\n",
       "\t  0.06843254 & -0.13153881 & 4          \\\\\n",
       "\\end{tabular}\n"
      ],
      "text/markdown": [
       "\n",
       "Sepal.Length | Sepal.Width | clus4.cluster | \n",
       "|---|---|---|---|---|---|---|---|---|---|---|---|---|---|---|---|---|---|---|---|---|---|---|---|---|---|---|---|---|---|---|---|---|---|---|---|---|---|---|---|---|---|---|---|---|---|---|---|---|---|---|---|---|---|---|---|---|---|---|---|---|\n",
       "| -0.89767388 |  1.01560199 | 2           | \n",
       "| -1.13920048 | -0.13153881 | 2           | \n",
       "| -1.38072709 |  0.32731751 | 2           | \n",
       "| -1.50149039 |  0.09788935 | 2           | \n",
       "| -1.01843718 |  1.24503015 | 2           | \n",
       "| -0.53538397 |  1.93331463 | 1           | \n",
       "| -1.50149039 |  0.78617383 | 2           | \n",
       "| -1.01843718 |  0.78617383 | 2           | \n",
       "| -1.74301699 | -0.36096697 | 2           | \n",
       "| -1.13920048 |  0.09788935 | 2           | \n",
       "| -0.53538397 |  1.47445831 | 1           | \n",
       "| -1.25996379 |  0.78617383 | 2           | \n",
       "| -1.25996379 | -0.13153881 | 2           | \n",
       "| -1.86378030 | -0.13153881 | 2           | \n",
       "| -0.05233076 |  2.16274279 | 1           | \n",
       "| -0.17309407 |  3.08045544 | 1           | \n",
       "| -0.53538397 |  1.93331463 | 1           | \n",
       "| -0.89767388 |  1.01560199 | 2           | \n",
       "| -0.17309407 |  1.70388647 | 1           | \n",
       "| -0.89767388 |  1.70388647 | 1           | \n",
       "| -0.53538397 |  0.78617383 | 2           | \n",
       "| -0.89767388 |  1.47445831 | 1           | \n",
       "| -1.50149039 |  1.24503015 | 2           | \n",
       "| -0.89767388 |  0.55674567 | 2           | \n",
       "| -1.25996379 |  0.78617383 | 2           | \n",
       "| -1.01843718 | -0.13153881 | 2           | \n",
       "| -1.01843718 |  0.78617383 | 2           | \n",
       "| -0.77691058 |  1.01560199 | 2           | \n",
       "| -0.77691058 |  0.78617383 | 2           | \n",
       "| -1.38072709 |  0.32731751 | 2           | \n",
       "| ... | ... | ... | \n",
       "|  1.27606556 |  0.32731751 | 3           | \n",
       "| -0.29385737 | -0.59039513 | 4           | \n",
       "|  2.24217198 | -0.59039513 | 3           | \n",
       "|  0.55148575 | -0.81982329 | 4           | \n",
       "|  1.03453895 |  0.55674567 | 3           | \n",
       "|  1.63835547 |  0.32731751 | 3           | \n",
       "|  0.43072244 | -0.59039513 | 4           | \n",
       "|  0.30995914 | -0.13153881 | 3           | \n",
       "|  0.67224905 | -0.59039513 | 3           | \n",
       "|  1.63835547 | -0.13153881 | 3           | \n",
       "|  1.87988207 | -0.59039513 | 3           | \n",
       "|  2.48369858 |  1.70388647 | 3           | \n",
       "|  0.67224905 | -0.59039513 | 3           | \n",
       "|  0.55148575 | -0.59039513 | 4           | \n",
       "|  0.30995914 | -1.04925145 | 4           | \n",
       "|  2.24217198 | -0.13153881 | 3           | \n",
       "|  0.55148575 |  0.78617383 | 3           | \n",
       "|  0.67224905 |  0.09788935 | 3           | \n",
       "|  0.18919584 | -0.13153881 | 4           | \n",
       "|  1.27606556 |  0.09788935 | 3           | \n",
       "|  1.03453895 |  0.09788935 | 3           | \n",
       "|  1.27606556 |  0.09788935 | 3           | \n",
       "| -0.05233076 | -0.81982329 | 4           | \n",
       "|  1.15530226 |  0.32731751 | 3           | \n",
       "|  1.03453895 |  0.55674567 | 3           | \n",
       "|  1.03453895 | -0.13153881 | 3           | \n",
       "|  0.55148575 | -1.27867961 | 4           | \n",
       "|  0.79301235 | -0.13153881 | 3           | \n",
       "|  0.43072244 |  0.78617383 | 3           | \n",
       "|  0.06843254 | -0.13153881 | 4           | \n",
       "\n",
       "\n"
      ],
      "text/plain": [
       "    Sepal.Length Sepal.Width clus4.cluster\n",
       "1   -0.89767388   1.01560199 2            \n",
       "2   -1.13920048  -0.13153881 2            \n",
       "3   -1.38072709   0.32731751 2            \n",
       "4   -1.50149039   0.09788935 2            \n",
       "5   -1.01843718   1.24503015 2            \n",
       "6   -0.53538397   1.93331463 1            \n",
       "7   -1.50149039   0.78617383 2            \n",
       "8   -1.01843718   0.78617383 2            \n",
       "9   -1.74301699  -0.36096697 2            \n",
       "10  -1.13920048   0.09788935 2            \n",
       "11  -0.53538397   1.47445831 1            \n",
       "12  -1.25996379   0.78617383 2            \n",
       "13  -1.25996379  -0.13153881 2            \n",
       "14  -1.86378030  -0.13153881 2            \n",
       "15  -0.05233076   2.16274279 1            \n",
       "16  -0.17309407   3.08045544 1            \n",
       "17  -0.53538397   1.93331463 1            \n",
       "18  -0.89767388   1.01560199 2            \n",
       "19  -0.17309407   1.70388647 1            \n",
       "20  -0.89767388   1.70388647 1            \n",
       "21  -0.53538397   0.78617383 2            \n",
       "22  -0.89767388   1.47445831 1            \n",
       "23  -1.50149039   1.24503015 2            \n",
       "24  -0.89767388   0.55674567 2            \n",
       "25  -1.25996379   0.78617383 2            \n",
       "26  -1.01843718  -0.13153881 2            \n",
       "27  -1.01843718   0.78617383 2            \n",
       "28  -0.77691058   1.01560199 2            \n",
       "29  -0.77691058   0.78617383 2            \n",
       "30  -1.38072709   0.32731751 2            \n",
       "... ...          ...         ...          \n",
       "121  1.27606556   0.32731751 3            \n",
       "122 -0.29385737  -0.59039513 4            \n",
       "123  2.24217198  -0.59039513 3            \n",
       "124  0.55148575  -0.81982329 4            \n",
       "125  1.03453895   0.55674567 3            \n",
       "126  1.63835547   0.32731751 3            \n",
       "127  0.43072244  -0.59039513 4            \n",
       "128  0.30995914  -0.13153881 3            \n",
       "129  0.67224905  -0.59039513 3            \n",
       "130  1.63835547  -0.13153881 3            \n",
       "131  1.87988207  -0.59039513 3            \n",
       "132  2.48369858   1.70388647 3            \n",
       "133  0.67224905  -0.59039513 3            \n",
       "134  0.55148575  -0.59039513 4            \n",
       "135  0.30995914  -1.04925145 4            \n",
       "136  2.24217198  -0.13153881 3            \n",
       "137  0.55148575   0.78617383 3            \n",
       "138  0.67224905   0.09788935 3            \n",
       "139  0.18919584  -0.13153881 4            \n",
       "140  1.27606556   0.09788935 3            \n",
       "141  1.03453895   0.09788935 3            \n",
       "142  1.27606556   0.09788935 3            \n",
       "143 -0.05233076  -0.81982329 4            \n",
       "144  1.15530226   0.32731751 3            \n",
       "145  1.03453895   0.55674567 3            \n",
       "146  1.03453895  -0.13153881 3            \n",
       "147  0.55148575  -1.27867961 4            \n",
       "148  0.79301235  -0.13153881 3            \n",
       "149  0.43072244   0.78617383 3            \n",
       "150  0.06843254  -0.13153881 4            "
      ]
     },
     "metadata": {},
     "output_type": "display_data"
    }
   ],
   "source": [
    "mydata"
   ]
  },
  {
   "cell_type": "code",
   "execution_count": 26,
   "metadata": {},
   "outputs": [
    {
     "data": {
      "text/plain": [
       "groups\n",
       " 1  2  3  4 \n",
       "13 37 49 51 "
      ]
     },
     "metadata": {},
     "output_type": "display_data"
    }
   ],
   "source": [
    "groups <- data.frame(clus4$cluster)\n",
    "table(groups)"
   ]
  },
  {
   "cell_type": "code",
   "execution_count": 27,
   "metadata": {},
   "outputs": [
    {
     "data": {
      "image/png": "[encoded data removed]",
      "text/plain": [
       "plot without title"
      ]
     },
     "metadata": {},
     "output_type": "display_data"
    }
   ],
   "source": [
    "plot(mydata[c(\"Sepal.Length\", \"Sepal.Width\")], col=clus4$cluster)\n",
    "points(clus4$centers[,c(\"Sepal.Length\", \"Sepal.Width\")], col=1:3, pch=8, cex=2)"
   ]
  },
  {
   "cell_type": "code",
   "execution_count": 28,
   "metadata": {},
   "outputs": [
    {
     "data": {
      "text/plain": [
       "K-means clustering with 3 clusters of sizes 49, 51, 50\n",
       "\n",
       "Cluster means:\n",
       "  Sepal.Length Sepal.Width clus4.cluster\n",
       "1    1.1060111  0.09788935          3.00\n",
       "2   -0.0925852 -0.95927963          4.00\n",
       "3   -0.9894540  0.88253366          1.74\n",
       "\n",
       "Clustering vector:\n",
       "  [1] 3 3 3 3 3 3 3 3 3 3 3 3 3 3 3 3 3 3 3 3 3 3 3 3 3 3 3 3 3 3 3 3 3 3 3 3 3\n",
       " [38] 3 3 3 3 2 3 3 3 3 3 3 3 3 1 1 1 2 1 2 1 2 1 2 2 2 2 2 2 1 2 2 2 2 1 2 2 2\n",
       " [75] 1 1 1 1 2 2 2 2 2 2 3 1 1 2 2 2 2 1 2 2 2 2 2 2 2 2 1 2 1 1 1 1 2 1 2 1 1\n",
       "[112] 2 1 2 2 1 1 1 1 2 1 2 1 2 1 1 2 1 1 1 1 1 1 2 2 1 1 1 2 1 1 1 2 1 1 1 2 1\n",
       "[149] 1 2\n",
       "\n",
       "Within cluster sum of squares by cluster:\n",
       "[1] 31.78768 30.55623 49.60428\n",
       " (between_SS / total_SS =  74.4 %)\n",
       "\n",
       "Available components:\n",
       "\n",
       "[1] \"cluster\"      \"centers\"      \"totss\"        \"withinss\"     \"tot.withinss\"\n",
       "[6] \"betweenss\"    \"size\"         \"iter\"         \"ifault\"      "
      ]
     },
     "metadata": {},
     "output_type": "display_data"
    }
   ],
   "source": [
    "# trying with 3 clusters\n",
    "clus3 <- kmeans(mydata, centers=3, nstart=20)\n",
    "clus3"
   ]
  },
  {
   "cell_type": "code",
   "execution_count": 29,
   "metadata": {},
   "outputs": [
    {
     "data": {
      "text/html": [
       "<table>\n",
       "<thead><tr><th scope=col>Group.1</th><th scope=col>Sepal.Length</th><th scope=col>Sepal.Width</th><th scope=col>clus4.cluster</th></tr></thead>\n",
       "<tbody>\n",
       "\t<tr><td>1          </td><td> 1.1060111 </td><td> 0.09788935</td><td>3.00       </td></tr>\n",
       "\t<tr><td>2          </td><td>-0.0925852 </td><td>-0.95927963</td><td>4.00       </td></tr>\n",
       "\t<tr><td>3          </td><td>-0.9894540 </td><td> 0.88253366</td><td>1.74       </td></tr>\n",
       "</tbody>\n",
       "</table>\n"
      ],
      "text/latex": [
       "\\begin{tabular}{r|llll}\n",
       " Group.1 & Sepal.Length & Sepal.Width & clus4.cluster\\\\\n",
       "\\hline\n",
       "\t 1           &  1.1060111  &  0.09788935 & 3.00       \\\\\n",
       "\t 2           & -0.0925852  & -0.95927963 & 4.00       \\\\\n",
       "\t 3           & -0.9894540  &  0.88253366 & 1.74       \\\\\n",
       "\\end{tabular}\n"
      ],
      "text/markdown": [
       "\n",
       "Group.1 | Sepal.Length | Sepal.Width | clus4.cluster | \n",
       "|---|---|---|\n",
       "| 1           |  1.1060111  |  0.09788935 | 3.00        | \n",
       "| 2           | -0.0925852  | -0.95927963 | 4.00        | \n",
       "| 3           | -0.9894540  |  0.88253366 | 1.74        | \n",
       "\n",
       "\n"
      ],
      "text/plain": [
       "  Group.1 Sepal.Length Sepal.Width clus4.cluster\n",
       "1 1        1.1060111    0.09788935 3.00         \n",
       "2 2       -0.0925852   -0.95927963 4.00         \n",
       "3 3       -0.9894540    0.88253366 1.74         "
      ]
     },
     "metadata": {},
     "output_type": "display_data"
    }
   ],
   "source": [
    "# get cluster means \n",
    "aggregate(mydata ,by=list(clus3$cluster), FUN=mean)"
   ]
  },
  {
   "cell_type": "code",
   "execution_count": 30,
   "metadata": {},
   "outputs": [
    {
     "data": {
      "text/plain": [
       "groups\n",
       " 1  2  3 \n",
       "49 51 50 "
      ]
     },
     "metadata": {},
     "output_type": "display_data"
    }
   ],
   "source": [
    "# append cluster assignment\n",
    "mydata <- data.frame(mydata, clus3$cluster)\n",
    "\n",
    "#summary\n",
    "groups <- data.frame(clus3$cluster)\n",
    "table(groups)"
   ]
  },
  {
   "cell_type": "code",
   "execution_count": 31,
   "metadata": {},
   "outputs": [
    {
     "data": {
      "image/png": "[encoded data removed]",
      "text/plain": [
       "plot without title"
      ]
     },
     "metadata": {},
     "output_type": "display_data"
    }
   ],
   "source": [
    "plot(mydata[c(\"Sepal.Length\", \"Sepal.Width\")], col=clus3$cluster)\n",
    "points(clus3$centers[,c(\"Sepal.Length\", \"Sepal.Width\")], col=1:3, pch=8, cex=2)"
   ]
  },
  {
   "cell_type": "code",
   "execution_count": null,
   "metadata": {
    "collapsed": true
   },
   "outputs": [],
   "source": []
  }
 ],
 "metadata": {
  "kernelspec": {
   "display_name": "R",
   "language": "R",
   "name": "ir"
  },
  "language_info": {
   "codemirror_mode": "r",
   "file_extension": ".r",
   "mimetype": "text/x-r-source",
   "name": "R",
   "pygments_lexer": "r",
   "version": "3.3.2"
  }
 },
 "nbformat": 4,
 "nbformat_minor": 2
}
